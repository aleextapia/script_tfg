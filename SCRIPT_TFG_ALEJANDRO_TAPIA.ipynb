{
  "cells": [
    {
      "cell_type": "markdown",
      "metadata": {
        "id": "fAvZxz8Ei-kP"
      },
      "source": [
        "TRABAJO FIN DE GRADO- ALEJANDRO TAPIA ESCUDERO\n",
        "\n",
        "---\n",
        "\n"
      ]
    },
    {
      "cell_type": "markdown",
      "metadata": {
        "id": "pIZYeiduiheI"
      },
      "source": [
        "*Influencia del análisis de datos y los modelos predictivos en un Sistema de Detección de Intrusos (IDS) con tráfico de red Darknet.*"
      ]
    },
    {
      "cell_type": "markdown",
      "metadata": {
        "id": "RHAZS4knmvua"
      },
      "source": [
        "ACERCA DEL CONJUNTO DE DATOS\n",
        "\n",
        "---\n",
        "\n",
        "\n",
        "Los datos de esta BBDD está relacionados con conexiones malignas (VPN y TOR) y conexiones benignas (Non-VPN y Non-TOR)"
      ]
    },
    {
      "cell_type": "markdown",
      "metadata": {
        "id": "Qg33WkS_goHT"
      },
      "source": [
        "**1ª FASE: INGENIERIA DEL DATO**\n",
        "\n",
        "---\n",
        "\n"
      ]
    },
    {
      "cell_type": "markdown",
      "metadata": {
        "id": "zHgvK0u-hxfi"
      },
      "source": [
        "En esta primera fase me dispongo a realizar un Análisis Exploratorio de los datos (EDA) sobre la base de datos \"Darknet\". En primer lugar cargaré los datos, y después eliminaré los datos NaN, Infinitos, y demás variables que no vea interesantes o necesarias para el desarrollo del estudio del TFG. En esta fase finalmente separaremos el conjunto de los datos en train y test para tener preparado el conjunto de datos para la elaboración de los modelos predictivos"
      ]
    },
    {
      "cell_type": "markdown",
      "metadata": {
        "id": "N7KTu1Rmoo7F"
      },
      "source": [
        "**1. ANALISIS EXPLORATORIO DE DATOS (EDA)**"
      ]
    },
    {
      "cell_type": "markdown",
      "metadata": {
        "id": "ZNAq9Z0Rpm6i"
      },
      "source": [
        "1.1. Importamos librerías"
      ]
    },
    {
      "cell_type": "code",
      "execution_count": 1,
      "metadata": {
        "id": "su1UejHpow02"
      },
      "outputs": [],
      "source": [
        "import numpy as np #Algebra\n",
        "import pandas as pd #Procesamiento de bases de datos (dataframes)\n",
        "import matplotlib.pyplot as plt #Gráficos\n",
        "import seaborn as sns #Gráficos\n",
        "sns.set()\n",
        "plt.rcParams[\"figure.figsize\"] = (14,4) #tamaño gráficos"
      ]
    },
    {
      "cell_type": "code",
      "execution_count": 2,
      "metadata": {
        "id": "yLYlNQhPph2r"
      },
      "outputs": [],
      "source": [
        "from sklearn.preprocessing import LabelEncoder, OneHotEncoder #Tranformacíon variables categóricas (encoding: pasar categorias a números)\n",
        "from sklearn.preprocessing import MinMaxScaler, StandardScaler #Tranformacíon variables numéricas (normalización)\n",
        "from sklearn import metrics\n",
        "from sklearn.model_selection import train_test_split #separación train y test\n",
        "from sklearn.preprocessing import OneHotEncoder #Tranformacíon variables categóricas nominales"
      ]
    },
    {
      "cell_type": "markdown",
      "metadata": {
        "id": "f7C02vBKpqxV"
      },
      "source": [
        "1.2. Importamos la base de datos"
      ]
    },
    {
      "cell_type": "code",
      "execution_count": 3,
      "metadata": {
        "colab": {
          "base_uri": "https://localhost:8080/"
        },
        "id": "aXPn79Txpy3P",
        "outputId": "9c8ff439-ae63-4fdd-b7c8-ecaa7ed8384f"
      },
      "outputs": [
        {
          "output_type": "stream",
          "name": "stderr",
          "text": [
            "<ipython-input-3-579fddfc5027>:2: FutureWarning: The error_bad_lines argument has been deprecated and will be removed in a future version. Use on_bad_lines in the future.\n",
            "\n",
            "\n",
            "  darknet = pd.read_csv(\"Darknet.CSV\", low_memory=False, error_bad_lines=False)\n",
            "b'Skipping line 328: expected 85 fields, saw 125\\n'\n"
          ]
        }
      ],
      "source": [
        "#leemos el dataset\n",
        "darknet = pd.read_csv(\"Darknet.CSV\", low_memory=False, error_bad_lines=False)"
      ]
    },
    {
      "cell_type": "code",
      "execution_count": 4,
      "metadata": {
        "colab": {
          "base_uri": "https://localhost:8080/"
        },
        "id": "pJjslrURsCUR",
        "outputId": "9d813078-1eaf-43cc-9367-044ffa785892"
      },
      "outputs": [
        {
          "output_type": "stream",
          "name": "stdout",
          "text": [
            "Tamaño de la BBDD:  (141530, 85)\n"
          ]
        }
      ],
      "source": [
        "#tamaño del dataset\n",
        "print('Tamaño de la BBDD: ', darknet.shape)"
      ]
    },
    {
      "cell_type": "code",
      "execution_count": 5,
      "metadata": {
        "colab": {
          "base_uri": "https://localhost:8080/",
          "height": 507
        },
        "id": "qzz1KkOTsrwK",
        "outputId": "a4947c42-fe72-48d9-c741-c931bc0431bc"
      },
      "outputs": [
        {
          "output_type": "execute_result",
          "data": {
            "text/plain": [
              "                                      Flow ID         Src IP  Src Port  \\\n",
              "0     10.152.152.11-216.58.220.99-57158-443-6  10.152.152.11     57158   \n",
              "1     10.152.152.11-216.58.220.99-57159-443-6  10.152.152.11     57159   \n",
              "2     10.152.152.11-216.58.220.99-57160-443-6  10.152.152.11     57160   \n",
              "3    10.152.152.11-74.125.136.120-49134-443-6  10.152.152.11     49134   \n",
              "4  10.152.152.11-173.194.65.127-34697-19305-6  10.152.152.11     34697   \n",
              "\n",
              "           Dst IP  Dst Port  Protocol               Timestamp  Flow Duration  \\\n",
              "0   216.58.220.99       443         6  24/07/2015 04:09:48 PM            229   \n",
              "1   216.58.220.99       443         6  24/07/2015 04:09:48 PM            407   \n",
              "2   216.58.220.99       443         6  24/07/2015 04:09:48 PM            431   \n",
              "3  74.125.136.120       443         6  24/07/2015 04:09:48 PM            359   \n",
              "4  173.194.65.127     19305         6  24/07/2015 04:09:45 PM       10778451   \n",
              "\n",
              "   Total Fwd Packet  Total Bwd packets  ...  Active Mean  Active Std  \\\n",
              "0                 1                  1  ...            0           0   \n",
              "1                 1                  1  ...            0           0   \n",
              "2                 1                  1  ...            0           0   \n",
              "3                 1                  1  ...            0           0   \n",
              "4               591                400  ...            0           0   \n",
              "\n",
              "   Active Max  Active Min     Idle Mean      Idle Std      Idle Max  \\\n",
              "0           0           0  0.000000e+00  0.000000e+00  0.000000e+00   \n",
              "1           0           0  0.000000e+00  0.000000e+00  0.000000e+00   \n",
              "2           0           0  0.000000e+00  0.000000e+00  0.000000e+00   \n",
              "3           0           0  0.000000e+00  0.000000e+00  0.000000e+00   \n",
              "4           0           0  1.437765e+15  3.117718e+06  1.437765e+15   \n",
              "\n",
              "       Idle Min    Label          Label.1  \n",
              "0  0.000000e+00  Non-Tor  AUDIO-STREAMING  \n",
              "1  0.000000e+00  Non-Tor  AUDIO-STREAMING  \n",
              "2  0.000000e+00  Non-Tor  AUDIO-STREAMING  \n",
              "3  0.000000e+00  Non-Tor  AUDIO-STREAMING  \n",
              "4  1.437765e+15  Non-Tor  AUDIO-STREAMING  \n",
              "\n",
              "[5 rows x 85 columns]"
            ],
            "text/html": [
              "\n",
              "  <div id=\"df-501b54a2-5e98-458e-ad68-15e119b095e5\">\n",
              "    <div class=\"colab-df-container\">\n",
              "      <div>\n",
              "<style scoped>\n",
              "    .dataframe tbody tr th:only-of-type {\n",
              "        vertical-align: middle;\n",
              "    }\n",
              "\n",
              "    .dataframe tbody tr th {\n",
              "        vertical-align: top;\n",
              "    }\n",
              "\n",
              "    .dataframe thead th {\n",
              "        text-align: right;\n",
              "    }\n",
              "</style>\n",
              "<table border=\"1\" class=\"dataframe\">\n",
              "  <thead>\n",
              "    <tr style=\"text-align: right;\">\n",
              "      <th></th>\n",
              "      <th>Flow ID</th>\n",
              "      <th>Src IP</th>\n",
              "      <th>Src Port</th>\n",
              "      <th>Dst IP</th>\n",
              "      <th>Dst Port</th>\n",
              "      <th>Protocol</th>\n",
              "      <th>Timestamp</th>\n",
              "      <th>Flow Duration</th>\n",
              "      <th>Total Fwd Packet</th>\n",
              "      <th>Total Bwd packets</th>\n",
              "      <th>...</th>\n",
              "      <th>Active Mean</th>\n",
              "      <th>Active Std</th>\n",
              "      <th>Active Max</th>\n",
              "      <th>Active Min</th>\n",
              "      <th>Idle Mean</th>\n",
              "      <th>Idle Std</th>\n",
              "      <th>Idle Max</th>\n",
              "      <th>Idle Min</th>\n",
              "      <th>Label</th>\n",
              "      <th>Label.1</th>\n",
              "    </tr>\n",
              "  </thead>\n",
              "  <tbody>\n",
              "    <tr>\n",
              "      <th>0</th>\n",
              "      <td>10.152.152.11-216.58.220.99-57158-443-6</td>\n",
              "      <td>10.152.152.11</td>\n",
              "      <td>57158</td>\n",
              "      <td>216.58.220.99</td>\n",
              "      <td>443</td>\n",
              "      <td>6</td>\n",
              "      <td>24/07/2015 04:09:48 PM</td>\n",
              "      <td>229</td>\n",
              "      <td>1</td>\n",
              "      <td>1</td>\n",
              "      <td>...</td>\n",
              "      <td>0</td>\n",
              "      <td>0</td>\n",
              "      <td>0</td>\n",
              "      <td>0</td>\n",
              "      <td>0.000000e+00</td>\n",
              "      <td>0.000000e+00</td>\n",
              "      <td>0.000000e+00</td>\n",
              "      <td>0.000000e+00</td>\n",
              "      <td>Non-Tor</td>\n",
              "      <td>AUDIO-STREAMING</td>\n",
              "    </tr>\n",
              "    <tr>\n",
              "      <th>1</th>\n",
              "      <td>10.152.152.11-216.58.220.99-57159-443-6</td>\n",
              "      <td>10.152.152.11</td>\n",
              "      <td>57159</td>\n",
              "      <td>216.58.220.99</td>\n",
              "      <td>443</td>\n",
              "      <td>6</td>\n",
              "      <td>24/07/2015 04:09:48 PM</td>\n",
              "      <td>407</td>\n",
              "      <td>1</td>\n",
              "      <td>1</td>\n",
              "      <td>...</td>\n",
              "      <td>0</td>\n",
              "      <td>0</td>\n",
              "      <td>0</td>\n",
              "      <td>0</td>\n",
              "      <td>0.000000e+00</td>\n",
              "      <td>0.000000e+00</td>\n",
              "      <td>0.000000e+00</td>\n",
              "      <td>0.000000e+00</td>\n",
              "      <td>Non-Tor</td>\n",
              "      <td>AUDIO-STREAMING</td>\n",
              "    </tr>\n",
              "    <tr>\n",
              "      <th>2</th>\n",
              "      <td>10.152.152.11-216.58.220.99-57160-443-6</td>\n",
              "      <td>10.152.152.11</td>\n",
              "      <td>57160</td>\n",
              "      <td>216.58.220.99</td>\n",
              "      <td>443</td>\n",
              "      <td>6</td>\n",
              "      <td>24/07/2015 04:09:48 PM</td>\n",
              "      <td>431</td>\n",
              "      <td>1</td>\n",
              "      <td>1</td>\n",
              "      <td>...</td>\n",
              "      <td>0</td>\n",
              "      <td>0</td>\n",
              "      <td>0</td>\n",
              "      <td>0</td>\n",
              "      <td>0.000000e+00</td>\n",
              "      <td>0.000000e+00</td>\n",
              "      <td>0.000000e+00</td>\n",
              "      <td>0.000000e+00</td>\n",
              "      <td>Non-Tor</td>\n",
              "      <td>AUDIO-STREAMING</td>\n",
              "    </tr>\n",
              "    <tr>\n",
              "      <th>3</th>\n",
              "      <td>10.152.152.11-74.125.136.120-49134-443-6</td>\n",
              "      <td>10.152.152.11</td>\n",
              "      <td>49134</td>\n",
              "      <td>74.125.136.120</td>\n",
              "      <td>443</td>\n",
              "      <td>6</td>\n",
              "      <td>24/07/2015 04:09:48 PM</td>\n",
              "      <td>359</td>\n",
              "      <td>1</td>\n",
              "      <td>1</td>\n",
              "      <td>...</td>\n",
              "      <td>0</td>\n",
              "      <td>0</td>\n",
              "      <td>0</td>\n",
              "      <td>0</td>\n",
              "      <td>0.000000e+00</td>\n",
              "      <td>0.000000e+00</td>\n",
              "      <td>0.000000e+00</td>\n",
              "      <td>0.000000e+00</td>\n",
              "      <td>Non-Tor</td>\n",
              "      <td>AUDIO-STREAMING</td>\n",
              "    </tr>\n",
              "    <tr>\n",
              "      <th>4</th>\n",
              "      <td>10.152.152.11-173.194.65.127-34697-19305-6</td>\n",
              "      <td>10.152.152.11</td>\n",
              "      <td>34697</td>\n",
              "      <td>173.194.65.127</td>\n",
              "      <td>19305</td>\n",
              "      <td>6</td>\n",
              "      <td>24/07/2015 04:09:45 PM</td>\n",
              "      <td>10778451</td>\n",
              "      <td>591</td>\n",
              "      <td>400</td>\n",
              "      <td>...</td>\n",
              "      <td>0</td>\n",
              "      <td>0</td>\n",
              "      <td>0</td>\n",
              "      <td>0</td>\n",
              "      <td>1.437765e+15</td>\n",
              "      <td>3.117718e+06</td>\n",
              "      <td>1.437765e+15</td>\n",
              "      <td>1.437765e+15</td>\n",
              "      <td>Non-Tor</td>\n",
              "      <td>AUDIO-STREAMING</td>\n",
              "    </tr>\n",
              "  </tbody>\n",
              "</table>\n",
              "<p>5 rows × 85 columns</p>\n",
              "</div>\n",
              "      <button class=\"colab-df-convert\" onclick=\"convertToInteractive('df-501b54a2-5e98-458e-ad68-15e119b095e5')\"\n",
              "              title=\"Convert this dataframe to an interactive table.\"\n",
              "              style=\"display:none;\">\n",
              "        \n",
              "  <svg xmlns=\"http://www.w3.org/2000/svg\" height=\"24px\"viewBox=\"0 0 24 24\"\n",
              "       width=\"24px\">\n",
              "    <path d=\"M0 0h24v24H0V0z\" fill=\"none\"/>\n",
              "    <path d=\"M18.56 5.44l.94 2.06.94-2.06 2.06-.94-2.06-.94-.94-2.06-.94 2.06-2.06.94zm-11 1L8.5 8.5l.94-2.06 2.06-.94-2.06-.94L8.5 2.5l-.94 2.06-2.06.94zm10 10l.94 2.06.94-2.06 2.06-.94-2.06-.94-.94-2.06-.94 2.06-2.06.94z\"/><path d=\"M17.41 7.96l-1.37-1.37c-.4-.4-.92-.59-1.43-.59-.52 0-1.04.2-1.43.59L10.3 9.45l-7.72 7.72c-.78.78-.78 2.05 0 2.83L4 21.41c.39.39.9.59 1.41.59.51 0 1.02-.2 1.41-.59l7.78-7.78 2.81-2.81c.8-.78.8-2.07 0-2.86zM5.41 20L4 18.59l7.72-7.72 1.47 1.35L5.41 20z\"/>\n",
              "  </svg>\n",
              "      </button>\n",
              "      \n",
              "  <style>\n",
              "    .colab-df-container {\n",
              "      display:flex;\n",
              "      flex-wrap:wrap;\n",
              "      gap: 12px;\n",
              "    }\n",
              "\n",
              "    .colab-df-convert {\n",
              "      background-color: #E8F0FE;\n",
              "      border: none;\n",
              "      border-radius: 50%;\n",
              "      cursor: pointer;\n",
              "      display: none;\n",
              "      fill: #1967D2;\n",
              "      height: 32px;\n",
              "      padding: 0 0 0 0;\n",
              "      width: 32px;\n",
              "    }\n",
              "\n",
              "    .colab-df-convert:hover {\n",
              "      background-color: #E2EBFA;\n",
              "      box-shadow: 0px 1px 2px rgba(60, 64, 67, 0.3), 0px 1px 3px 1px rgba(60, 64, 67, 0.15);\n",
              "      fill: #174EA6;\n",
              "    }\n",
              "\n",
              "    [theme=dark] .colab-df-convert {\n",
              "      background-color: #3B4455;\n",
              "      fill: #D2E3FC;\n",
              "    }\n",
              "\n",
              "    [theme=dark] .colab-df-convert:hover {\n",
              "      background-color: #434B5C;\n",
              "      box-shadow: 0px 1px 3px 1px rgba(0, 0, 0, 0.15);\n",
              "      filter: drop-shadow(0px 1px 2px rgba(0, 0, 0, 0.3));\n",
              "      fill: #FFFFFF;\n",
              "    }\n",
              "  </style>\n",
              "\n",
              "      <script>\n",
              "        const buttonEl =\n",
              "          document.querySelector('#df-501b54a2-5e98-458e-ad68-15e119b095e5 button.colab-df-convert');\n",
              "        buttonEl.style.display =\n",
              "          google.colab.kernel.accessAllowed ? 'block' : 'none';\n",
              "\n",
              "        async function convertToInteractive(key) {\n",
              "          const element = document.querySelector('#df-501b54a2-5e98-458e-ad68-15e119b095e5');\n",
              "          const dataTable =\n",
              "            await google.colab.kernel.invokeFunction('convertToInteractive',\n",
              "                                                     [key], {});\n",
              "          if (!dataTable) return;\n",
              "\n",
              "          const docLinkHtml = 'Like what you see? Visit the ' +\n",
              "            '<a target=\"_blank\" href=https://colab.research.google.com/notebooks/data_table.ipynb>data table notebook</a>'\n",
              "            + ' to learn more about interactive tables.';\n",
              "          element.innerHTML = '';\n",
              "          dataTable['output_type'] = 'display_data';\n",
              "          await google.colab.output.renderOutput(dataTable, element);\n",
              "          const docLink = document.createElement('div');\n",
              "          docLink.innerHTML = docLinkHtml;\n",
              "          element.appendChild(docLink);\n",
              "        }\n",
              "      </script>\n",
              "    </div>\n",
              "  </div>\n",
              "  "
            ]
          },
          "metadata": {},
          "execution_count": 5
        }
      ],
      "source": [
        "#Observamos los datos\n",
        "darknet.head()\n"
      ]
    },
    {
      "cell_type": "markdown",
      "metadata": {
        "id": "7bAGTIOloKHx"
      },
      "source": [
        "GRAFICOS INTERESANTES"
      ]
    },
    {
      "cell_type": "code",
      "execution_count": 6,
      "metadata": {
        "colab": {
          "base_uri": "https://localhost:8080/",
          "height": 363
        },
        "id": "CHhIhFc2oMnT",
        "outputId": "6fa9e76d-0cac-44ce-c20a-89e34fbf726a"
      },
      "outputs": [
        {
          "output_type": "display_data",
          "data": {
            "text/plain": [
              "<Figure size 360x360 with 1 Axes>"
            ],
            "image/png": "[encoded data removed]"
          },
          "metadata": {}
        }
      ],
      "source": [
        "df = darknet.groupby(\"Label\").count()\n",
        "fig, ax = plt.subplots(figsize=(5,5))\n",
        "\n",
        "df.plot(y=\"Label.1\", legend=None, ax=ax, shadow=False, kind=\"pie\", fontsize=18,autopct=lambda x: int(df[\"Label.1\"].values.sum()*x/100))\n",
        "plt.ylabel(\"\")\n",
        "plt.tight_layout()\n",
        "plt.show()"
      ]
    },
    {
      "cell_type": "code",
      "execution_count": 7,
      "metadata": {
        "colab": {
          "base_uri": "https://localhost:8080/",
          "height": 268
        },
        "id": "1c-78-nDqgwt",
        "outputId": "34cb99bb-cf9e-4d2f-e49b-c255aa4fb8c6"
      },
      "outputs": [
        {
          "output_type": "display_data",
          "data": {
            "text/plain": [
              "<Figure size 1008x288 with 1 Axes>"
            ],
            "image/png": "[encoded data removed]"
          },
          "metadata": {}
        }
      ],
      "source": [
        "sns.histplot(data=darknet, x=\"Label\", stat=\"frequency\")\n",
        "plt.xlabel('')\n",
        "plt.show()"
      ]
    },
    {
      "cell_type": "markdown",
      "metadata": {
        "id": "xyNsu3BK1R7D"
      },
      "source": [
        "1.3. Comprobamos si hay valores faltantes "
      ]
    },
    {
      "cell_type": "code",
      "execution_count": 8,
      "metadata": {
        "colab": {
          "base_uri": "https://localhost:8080/"
        },
        "id": "Oh7tUN-l3aWy",
        "outputId": "1ca9d39d-a765-4880-c885-de6b0cf96aea"
      },
      "outputs": [
        {
          "output_type": "execute_result",
          "data": {
            "text/plain": [
              "Flow ID     0\n",
              "Src IP      0\n",
              "Src Port    0\n",
              "Dst IP      0\n",
              "Dst Port    0\n",
              "           ..\n",
              "Idle Std    0\n",
              "Idle Max    0\n",
              "Idle Min    0\n",
              "Label       0\n",
              "Label.1     0\n",
              "Length: 85, dtype: int64"
            ]
          },
          "metadata": {},
          "execution_count": 8
        }
      ],
      "source": [
        "darknet.isnull().sum()"
      ]
    },
    {
      "cell_type": "markdown",
      "metadata": {
        "id": "aHywK5Ka3kS-"
      },
      "source": [
        "No hay valores nulos en casi ninguna variable, solo se han detectado en la variable \"Flow Bytes/s\" "
      ]
    },
    {
      "cell_type": "code",
      "execution_count": 9,
      "metadata": {
        "colab": {
          "base_uri": "https://localhost:8080/"
        },
        "id": "hSTiFeqmzhlw",
        "outputId": "fe398b80-7d72-466c-f331-c9be07c9a351"
      },
      "outputs": [
        {
          "output_type": "execute_result",
          "data": {
            "text/plain": [
              "Flow Bytes/s    47\n",
              "dtype: int64"
            ]
          },
          "metadata": {},
          "execution_count": 9
        }
      ],
      "source": [
        "is_na_cols = darknet.columns[darknet.isna().sum() > 0]\n",
        "darknet.isna().sum()[is_na_cols] "
      ]
    },
    {
      "cell_type": "code",
      "execution_count": 10,
      "metadata": {
        "colab": {
          "base_uri": "https://localhost:8080/"
        },
        "id": "z70X1i6Fy7ew",
        "outputId": "4511c838-fe7d-4d6b-d432-8391ff69d31c"
      },
      "outputs": [
        {
          "output_type": "execute_result",
          "data": {
            "text/plain": [
              "47"
            ]
          },
          "metadata": {},
          "execution_count": 10
        }
      ],
      "source": [
        "darknet[\"Flow Bytes/s\"].isnull().sum()"
      ]
    },
    {
      "cell_type": "code",
      "execution_count": 11,
      "metadata": {
        "colab": {
          "base_uri": "https://localhost:8080/"
        },
        "id": "M7e3uFltzyzx",
        "outputId": "bb077361-bd15-4a8e-a333-cae007bb21a1"
      },
      "outputs": [
        {
          "output_type": "execute_result",
          "data": {
            "text/plain": [
              "Flow Bytes/s    0\n",
              "dtype: int64"
            ]
          },
          "metadata": {},
          "execution_count": 11
        }
      ],
      "source": [
        "darknet = darknet.dropna()\n",
        "darknet.isna().sum()[is_na_cols] "
      ]
    },
    {
      "cell_type": "markdown",
      "metadata": {
        "id": "eqE5H4ub4VgA"
      },
      "source": [
        "1.4. Comprobamos valores infinitos"
      ]
    },
    {
      "cell_type": "markdown",
      "metadata": {
        "id": "exzV2fsW7aOV"
      },
      "source": [
        "Como los valores infinitos se identifican como \"Infinity\" hay que cambiarles su identificacion, para que numpy pueda reconocerlo"
      ]
    },
    {
      "cell_type": "code",
      "execution_count": 12,
      "metadata": {
        "id": "nQ_Yvc5i7XhD"
      },
      "outputs": [],
      "source": [
        "darknet = darknet.replace('Infinity', np.inf)"
      ]
    },
    {
      "cell_type": "code",
      "execution_count": 13,
      "metadata": {
        "colab": {
          "base_uri": "https://localhost:8080/",
          "height": 522
        },
        "id": "-7LfpMVL4Uxc",
        "outputId": "6448f378-c870-430c-c77b-a149a72d1431"
      },
      "outputs": [
        {
          "output_type": "execute_result",
          "data": {
            "text/plain": [
              "        Flow ID  Src IP  Src Port  Dst IP  Dst Port  Protocol  Timestamp  \\\n",
              "0         False   False     False   False     False     False      False   \n",
              "1         False   False     False   False     False     False      False   \n",
              "2         False   False     False   False     False     False      False   \n",
              "3         False   False     False   False     False     False      False   \n",
              "4         False   False     False   False     False     False      False   \n",
              "...         ...     ...       ...     ...       ...       ...        ...   \n",
              "141525    False   False     False   False     False     False      False   \n",
              "141526    False   False     False   False     False     False      False   \n",
              "141527    False   False     False   False     False     False      False   \n",
              "141528    False   False     False   False     False     False      False   \n",
              "141529    False   False     False   False     False     False      False   \n",
              "\n",
              "        Flow Duration  Total Fwd Packet  Total Bwd packets  ...  Active Mean  \\\n",
              "0               False             False              False  ...        False   \n",
              "1               False             False              False  ...        False   \n",
              "2               False             False              False  ...        False   \n",
              "3               False             False              False  ...        False   \n",
              "4               False             False              False  ...        False   \n",
              "...               ...               ...                ...  ...          ...   \n",
              "141525          False             False              False  ...        False   \n",
              "141526          False             False              False  ...        False   \n",
              "141527          False             False              False  ...        False   \n",
              "141528          False             False              False  ...        False   \n",
              "141529          False             False              False  ...        False   \n",
              "\n",
              "        Active Std  Active Max  Active Min  Idle Mean  Idle Std  Idle Max  \\\n",
              "0            False       False       False      False     False     False   \n",
              "1            False       False       False      False     False     False   \n",
              "2            False       False       False      False     False     False   \n",
              "3            False       False       False      False     False     False   \n",
              "4            False       False       False      False     False     False   \n",
              "...            ...         ...         ...        ...       ...       ...   \n",
              "141525       False       False       False      False     False     False   \n",
              "141526       False       False       False      False     False     False   \n",
              "141527       False       False       False      False     False     False   \n",
              "141528       False       False       False      False     False     False   \n",
              "141529       False       False       False      False     False     False   \n",
              "\n",
              "        Idle Min  Label  Label.1  \n",
              "0          False  False    False  \n",
              "1          False  False    False  \n",
              "2          False  False    False  \n",
              "3          False  False    False  \n",
              "4          False  False    False  \n",
              "...          ...    ...      ...  \n",
              "141525     False  False    False  \n",
              "141526     False  False    False  \n",
              "141527     False  False    False  \n",
              "141528     False  False    False  \n",
              "141529     False  False    False  \n",
              "\n",
              "[141483 rows x 85 columns]"
            ],
            "text/html": [
              "\n",
              "  <div id=\"df-df478ff9-3d77-4ae9-ab5f-48a2ec877da0\">\n",
              "    <div class=\"colab-df-container\">\n",
              "      <div>\n",
              "<style scoped>\n",
              "    .dataframe tbody tr th:only-of-type {\n",
              "        vertical-align: middle;\n",
              "    }\n",
              "\n",
              "    .dataframe tbody tr th {\n",
              "        vertical-align: top;\n",
              "    }\n",
              "\n",
              "    .dataframe thead th {\n",
              "        text-align: right;\n",
              "    }\n",
              "</style>\n",
              "<table border=\"1\" class=\"dataframe\">\n",
              "  <thead>\n",
              "    <tr style=\"text-align: right;\">\n",
              "      <th></th>\n",
              "      <th>Flow ID</th>\n",
              "      <th>Src IP</th>\n",
              "      <th>Src Port</th>\n",
              "      <th>Dst IP</th>\n",
              "      <th>Dst Port</th>\n",
              "      <th>Protocol</th>\n",
              "      <th>Timestamp</th>\n",
              "      <th>Flow Duration</th>\n",
              "      <th>Total Fwd Packet</th>\n",
              "      <th>Total Bwd packets</th>\n",
              "      <th>...</th>\n",
              "      <th>Active Mean</th>\n",
              "      <th>Active Std</th>\n",
              "      <th>Active Max</th>\n",
              "      <th>Active Min</th>\n",
              "      <th>Idle Mean</th>\n",
              "      <th>Idle Std</th>\n",
              "      <th>Idle Max</th>\n",
              "      <th>Idle Min</th>\n",
              "      <th>Label</th>\n",
              "      <th>Label.1</th>\n",
              "    </tr>\n",
              "  </thead>\n",
              "  <tbody>\n",
              "    <tr>\n",
              "      <th>0</th>\n",
              "      <td>False</td>\n",
              "      <td>False</td>\n",
              "      <td>False</td>\n",
              "      <td>False</td>\n",
              "      <td>False</td>\n",
              "      <td>False</td>\n",
              "      <td>False</td>\n",
              "      <td>False</td>\n",
              "      <td>False</td>\n",
              "      <td>False</td>\n",
              "      <td>...</td>\n",
              "      <td>False</td>\n",
              "      <td>False</td>\n",
              "      <td>False</td>\n",
              "      <td>False</td>\n",
              "      <td>False</td>\n",
              "      <td>False</td>\n",
              "      <td>False</td>\n",
              "      <td>False</td>\n",
              "      <td>False</td>\n",
              "      <td>False</td>\n",
              "    </tr>\n",
              "    <tr>\n",
              "      <th>1</th>\n",
              "      <td>False</td>\n",
              "      <td>False</td>\n",
              "      <td>False</td>\n",
              "      <td>False</td>\n",
              "      <td>False</td>\n",
              "      <td>False</td>\n",
              "      <td>False</td>\n",
              "      <td>False</td>\n",
              "      <td>False</td>\n",
              "      <td>False</td>\n",
              "      <td>...</td>\n",
              "      <td>False</td>\n",
              "      <td>False</td>\n",
              "      <td>False</td>\n",
              "      <td>False</td>\n",
              "      <td>False</td>\n",
              "      <td>False</td>\n",
              "      <td>False</td>\n",
              "      <td>False</td>\n",
              "      <td>False</td>\n",
              "      <td>False</td>\n",
              "    </tr>\n",
              "    <tr>\n",
              "      <th>2</th>\n",
              "      <td>False</td>\n",
              "      <td>False</td>\n",
              "      <td>False</td>\n",
              "      <td>False</td>\n",
              "      <td>False</td>\n",
              "      <td>False</td>\n",
              "      <td>False</td>\n",
              "      <td>False</td>\n",
              "      <td>False</td>\n",
              "      <td>False</td>\n",
              "      <td>...</td>\n",
              "      <td>False</td>\n",
              "      <td>False</td>\n",
              "      <td>False</td>\n",
              "      <td>False</td>\n",
              "      <td>False</td>\n",
              "      <td>False</td>\n",
              "      <td>False</td>\n",
              "      <td>False</td>\n",
              "      <td>False</td>\n",
              "      <td>False</td>\n",
              "    </tr>\n",
              "    <tr>\n",
              "      <th>3</th>\n",
              "      <td>False</td>\n",
              "      <td>False</td>\n",
              "      <td>False</td>\n",
              "      <td>False</td>\n",
              "      <td>False</td>\n",
              "      <td>False</td>\n",
              "      <td>False</td>\n",
              "      <td>False</td>\n",
              "      <td>False</td>\n",
              "      <td>False</td>\n",
              "      <td>...</td>\n",
              "      <td>False</td>\n",
              "      <td>False</td>\n",
              "      <td>False</td>\n",
              "      <td>False</td>\n",
              "      <td>False</td>\n",
              "      <td>False</td>\n",
              "      <td>False</td>\n",
              "      <td>False</td>\n",
              "      <td>False</td>\n",
              "      <td>False</td>\n",
              "    </tr>\n",
              "    <tr>\n",
              "      <th>4</th>\n",
              "      <td>False</td>\n",
              "      <td>False</td>\n",
              "      <td>False</td>\n",
              "      <td>False</td>\n",
              "      <td>False</td>\n",
              "      <td>False</td>\n",
              "      <td>False</td>\n",
              "      <td>False</td>\n",
              "      <td>False</td>\n",
              "      <td>False</td>\n",
              "      <td>...</td>\n",
              "      <td>False</td>\n",
              "      <td>False</td>\n",
              "      <td>False</td>\n",
              "      <td>False</td>\n",
              "      <td>False</td>\n",
              "      <td>False</td>\n",
              "      <td>False</td>\n",
              "      <td>False</td>\n",
              "      <td>False</td>\n",
              "      <td>False</td>\n",
              "    </tr>\n",
              "    <tr>\n",
              "      <th>...</th>\n",
              "      <td>...</td>\n",
              "      <td>...</td>\n",
              "      <td>...</td>\n",
              "      <td>...</td>\n",
              "      <td>...</td>\n",
              "      <td>...</td>\n",
              "      <td>...</td>\n",
              "      <td>...</td>\n",
              "      <td>...</td>\n",
              "      <td>...</td>\n",
              "      <td>...</td>\n",
              "      <td>...</td>\n",
              "      <td>...</td>\n",
              "      <td>...</td>\n",
              "      <td>...</td>\n",
              "      <td>...</td>\n",
              "      <td>...</td>\n",
              "      <td>...</td>\n",
              "      <td>...</td>\n",
              "      <td>...</td>\n",
              "      <td>...</td>\n",
              "    </tr>\n",
              "    <tr>\n",
              "      <th>141525</th>\n",
              "      <td>False</td>\n",
              "      <td>False</td>\n",
              "      <td>False</td>\n",
              "      <td>False</td>\n",
              "      <td>False</td>\n",
              "      <td>False</td>\n",
              "      <td>False</td>\n",
              "      <td>False</td>\n",
              "      <td>False</td>\n",
              "      <td>False</td>\n",
              "      <td>...</td>\n",
              "      <td>False</td>\n",
              "      <td>False</td>\n",
              "      <td>False</td>\n",
              "      <td>False</td>\n",
              "      <td>False</td>\n",
              "      <td>False</td>\n",
              "      <td>False</td>\n",
              "      <td>False</td>\n",
              "      <td>False</td>\n",
              "      <td>False</td>\n",
              "    </tr>\n",
              "    <tr>\n",
              "      <th>141526</th>\n",
              "      <td>False</td>\n",
              "      <td>False</td>\n",
              "      <td>False</td>\n",
              "      <td>False</td>\n",
              "      <td>False</td>\n",
              "      <td>False</td>\n",
              "      <td>False</td>\n",
              "      <td>False</td>\n",
              "      <td>False</td>\n",
              "      <td>False</td>\n",
              "      <td>...</td>\n",
              "      <td>False</td>\n",
              "      <td>False</td>\n",
              "      <td>False</td>\n",
              "      <td>False</td>\n",
              "      <td>False</td>\n",
              "      <td>False</td>\n",
              "      <td>False</td>\n",
              "      <td>False</td>\n",
              "      <td>False</td>\n",
              "      <td>False</td>\n",
              "    </tr>\n",
              "    <tr>\n",
              "      <th>141527</th>\n",
              "      <td>False</td>\n",
              "      <td>False</td>\n",
              "      <td>False</td>\n",
              "      <td>False</td>\n",
              "      <td>False</td>\n",
              "      <td>False</td>\n",
              "      <td>False</td>\n",
              "      <td>False</td>\n",
              "      <td>False</td>\n",
              "      <td>False</td>\n",
              "      <td>...</td>\n",
              "      <td>False</td>\n",
              "      <td>False</td>\n",
              "      <td>False</td>\n",
              "      <td>False</td>\n",
              "      <td>False</td>\n",
              "      <td>False</td>\n",
              "      <td>False</td>\n",
              "      <td>False</td>\n",
              "      <td>False</td>\n",
              "      <td>False</td>\n",
              "    </tr>\n",
              "    <tr>\n",
              "      <th>141528</th>\n",
              "      <td>False</td>\n",
              "      <td>False</td>\n",
              "      <td>False</td>\n",
              "      <td>False</td>\n",
              "      <td>False</td>\n",
              "      <td>False</td>\n",
              "      <td>False</td>\n",
              "      <td>False</td>\n",
              "      <td>False</td>\n",
              "      <td>False</td>\n",
              "      <td>...</td>\n",
              "      <td>False</td>\n",
              "      <td>False</td>\n",
              "      <td>False</td>\n",
              "      <td>False</td>\n",
              "      <td>False</td>\n",
              "      <td>False</td>\n",
              "      <td>False</td>\n",
              "      <td>False</td>\n",
              "      <td>False</td>\n",
              "      <td>False</td>\n",
              "    </tr>\n",
              "    <tr>\n",
              "      <th>141529</th>\n",
              "      <td>False</td>\n",
              "      <td>False</td>\n",
              "      <td>False</td>\n",
              "      <td>False</td>\n",
              "      <td>False</td>\n",
              "      <td>False</td>\n",
              "      <td>False</td>\n",
              "      <td>False</td>\n",
              "      <td>False</td>\n",
              "      <td>False</td>\n",
              "      <td>...</td>\n",
              "      <td>False</td>\n",
              "      <td>False</td>\n",
              "      <td>False</td>\n",
              "      <td>False</td>\n",
              "      <td>False</td>\n",
              "      <td>False</td>\n",
              "      <td>False</td>\n",
              "      <td>False</td>\n",
              "      <td>False</td>\n",
              "      <td>False</td>\n",
              "    </tr>\n",
              "  </tbody>\n",
              "</table>\n",
              "<p>141483 rows × 85 columns</p>\n",
              "</div>\n",
              "      <button class=\"colab-df-convert\" onclick=\"convertToInteractive('df-df478ff9-3d77-4ae9-ab5f-48a2ec877da0')\"\n",
              "              title=\"Convert this dataframe to an interactive table.\"\n",
              "              style=\"display:none;\">\n",
              "        \n",
              "  <svg xmlns=\"http://www.w3.org/2000/svg\" height=\"24px\"viewBox=\"0 0 24 24\"\n",
              "       width=\"24px\">\n",
              "    <path d=\"M0 0h24v24H0V0z\" fill=\"none\"/>\n",
              "    <path d=\"M18.56 5.44l.94 2.06.94-2.06 2.06-.94-2.06-.94-.94-2.06-.94 2.06-2.06.94zm-11 1L8.5 8.5l.94-2.06 2.06-.94-2.06-.94L8.5 2.5l-.94 2.06-2.06.94zm10 10l.94 2.06.94-2.06 2.06-.94-2.06-.94-.94-2.06-.94 2.06-2.06.94z\"/><path d=\"M17.41 7.96l-1.37-1.37c-.4-.4-.92-.59-1.43-.59-.52 0-1.04.2-1.43.59L10.3 9.45l-7.72 7.72c-.78.78-.78 2.05 0 2.83L4 21.41c.39.39.9.59 1.41.59.51 0 1.02-.2 1.41-.59l7.78-7.78 2.81-2.81c.8-.78.8-2.07 0-2.86zM5.41 20L4 18.59l7.72-7.72 1.47 1.35L5.41 20z\"/>\n",
              "  </svg>\n",
              "      </button>\n",
              "      \n",
              "  <style>\n",
              "    .colab-df-container {\n",
              "      display:flex;\n",
              "      flex-wrap:wrap;\n",
              "      gap: 12px;\n",
              "    }\n",
              "\n",
              "    .colab-df-convert {\n",
              "      background-color: #E8F0FE;\n",
              "      border: none;\n",
              "      border-radius: 50%;\n",
              "      cursor: pointer;\n",
              "      display: none;\n",
              "      fill: #1967D2;\n",
              "      height: 32px;\n",
              "      padding: 0 0 0 0;\n",
              "      width: 32px;\n",
              "    }\n",
              "\n",
              "    .colab-df-convert:hover {\n",
              "      background-color: #E2EBFA;\n",
              "      box-shadow: 0px 1px 2px rgba(60, 64, 67, 0.3), 0px 1px 3px 1px rgba(60, 64, 67, 0.15);\n",
              "      fill: #174EA6;\n",
              "    }\n",
              "\n",
              "    [theme=dark] .colab-df-convert {\n",
              "      background-color: #3B4455;\n",
              "      fill: #D2E3FC;\n",
              "    }\n",
              "\n",
              "    [theme=dark] .colab-df-convert:hover {\n",
              "      background-color: #434B5C;\n",
              "      box-shadow: 0px 1px 3px 1px rgba(0, 0, 0, 0.15);\n",
              "      filter: drop-shadow(0px 1px 2px rgba(0, 0, 0, 0.3));\n",
              "      fill: #FFFFFF;\n",
              "    }\n",
              "  </style>\n",
              "\n",
              "      <script>\n",
              "        const buttonEl =\n",
              "          document.querySelector('#df-df478ff9-3d77-4ae9-ab5f-48a2ec877da0 button.colab-df-convert');\n",
              "        buttonEl.style.display =\n",
              "          google.colab.kernel.accessAllowed ? 'block' : 'none';\n",
              "\n",
              "        async function convertToInteractive(key) {\n",
              "          const element = document.querySelector('#df-df478ff9-3d77-4ae9-ab5f-48a2ec877da0');\n",
              "          const dataTable =\n",
              "            await google.colab.kernel.invokeFunction('convertToInteractive',\n",
              "                                                     [key], {});\n",
              "          if (!dataTable) return;\n",
              "\n",
              "          const docLinkHtml = 'Like what you see? Visit the ' +\n",
              "            '<a target=\"_blank\" href=https://colab.research.google.com/notebooks/data_table.ipynb>data table notebook</a>'\n",
              "            + ' to learn more about interactive tables.';\n",
              "          element.innerHTML = '';\n",
              "          dataTable['output_type'] = 'display_data';\n",
              "          await google.colab.output.renderOutput(dataTable, element);\n",
              "          const docLink = document.createElement('div');\n",
              "          docLink.innerHTML = docLinkHtml;\n",
              "          element.appendChild(docLink);\n",
              "        }\n",
              "      </script>\n",
              "    </div>\n",
              "  </div>\n",
              "  "
            ]
          },
          "metadata": {},
          "execution_count": 13
        }
      ],
      "source": [
        "darknet.isin([np.inf, -np.inf])"
      ]
    },
    {
      "cell_type": "code",
      "execution_count": 14,
      "metadata": {
        "id": "dS-x6CK49tif"
      },
      "outputs": [],
      "source": [
        "#Cambiamos los valores infinitos a NaN para eliminarlos todos\n",
        "darknet = darknet.replace(np.inf, np.NaN)"
      ]
    },
    {
      "cell_type": "markdown",
      "metadata": {
        "id": "mTjbv4tf_QQZ"
      },
      "source": [
        "1.5. Eliminamos valores infinitos y nulos"
      ]
    },
    {
      "cell_type": "code",
      "execution_count": 15,
      "metadata": {
        "colab": {
          "base_uri": "https://localhost:8080/",
          "height": 869
        },
        "id": "hGE3g6Ce-FLk",
        "outputId": "80f00874-8ebd-4d9d-e263-14b1243d1761"
      },
      "outputs": [
        {
          "output_type": "execute_result",
          "data": {
            "text/plain": [
              "                                           Flow ID          Src IP  Src Port  \\\n",
              "0          10.152.152.11-216.58.220.99-57158-443-6   10.152.152.11     57158   \n",
              "1          10.152.152.11-216.58.220.99-57159-443-6   10.152.152.11     57159   \n",
              "2          10.152.152.11-216.58.220.99-57160-443-6   10.152.152.11     57160   \n",
              "3         10.152.152.11-74.125.136.120-49134-443-6   10.152.152.11     49134   \n",
              "4       10.152.152.11-173.194.65.127-34697-19305-6   10.152.152.11     34697   \n",
              "...                                            ...             ...       ...   \n",
              "141525        10.8.8.246-224.0.0.252-55219-5355-17      10.8.8.246     55219   \n",
              "141526        10.8.8.246-224.0.0.252-64207-5355-17      10.8.8.246     64207   \n",
              "141527        10.8.8.246-224.0.0.252-61115-5355-17      10.8.8.246     61115   \n",
              "141528        10.8.8.246-224.0.0.252-64790-5355-17      10.8.8.246     64790   \n",
              "141529    80.239.235.110-10.8.8.246-11666-60245-17  80.239.235.110     11666   \n",
              "\n",
              "                Dst IP  Dst Port  Protocol               Timestamp  \\\n",
              "0        216.58.220.99       443         6  24/07/2015 04:09:48 PM   \n",
              "1        216.58.220.99       443         6  24/07/2015 04:09:48 PM   \n",
              "2        216.58.220.99       443         6  24/07/2015 04:09:48 PM   \n",
              "3       74.125.136.120       443         6  24/07/2015 04:09:48 PM   \n",
              "4       173.194.65.127     19305         6  24/07/2015 04:09:45 PM   \n",
              "...                ...       ...       ...                     ...   \n",
              "141525     224.0.0.252      5355        17  22/05/2015 01:55:03 PM   \n",
              "141526     224.0.0.252      5355        17  22/05/2015 02:09:05 PM   \n",
              "141527     224.0.0.252      5355        17  22/05/2015 02:19:31 PM   \n",
              "141528     224.0.0.252      5355        17  22/05/2015 02:29:55 PM   \n",
              "141529      10.8.8.246     60245        17  22/05/2015 02:31:23 PM   \n",
              "\n",
              "        Flow Duration  Total Fwd Packet  Total Bwd packets  ...  Active Mean  \\\n",
              "0                 229                 1                  1  ...            0   \n",
              "1                 407                 1                  1  ...            0   \n",
              "2                 431                 1                  1  ...            0   \n",
              "3                 359                 1                  1  ...            0   \n",
              "4            10778451               591                400  ...            0   \n",
              "...               ...               ...                ...  ...          ...   \n",
              "141525         411806                 2                  0  ...            0   \n",
              "141526         411574                 2                  0  ...            0   \n",
              "141527         422299                 2                  0  ...            0   \n",
              "141528         411855                 2                  0  ...            0   \n",
              "141529      119990044              5995               6000  ...            0   \n",
              "\n",
              "        Active Std  Active Max  Active Min     Idle Mean      Idle Std  \\\n",
              "0                0           0           0  0.000000e+00  0.000000e+00   \n",
              "1                0           0           0  0.000000e+00  0.000000e+00   \n",
              "2                0           0           0  0.000000e+00  0.000000e+00   \n",
              "3                0           0           0  0.000000e+00  0.000000e+00   \n",
              "4                0           0           0  1.437765e+15  3.117718e+06   \n",
              "...            ...         ...         ...           ...           ...   \n",
              "141525           0           0           0  0.000000e+00  0.000000e+00   \n",
              "141526           0           0           0  0.000000e+00  0.000000e+00   \n",
              "141527           0           0           0  0.000000e+00  0.000000e+00   \n",
              "141528           0           0           0  0.000000e+00  0.000000e+00   \n",
              "141529           0           0           0  1.432316e+15  3.463689e+07   \n",
              "\n",
              "            Idle Max      Idle Min    Label          Label.1  \n",
              "0       0.000000e+00  0.000000e+00  Non-Tor  AUDIO-STREAMING  \n",
              "1       0.000000e+00  0.000000e+00  Non-Tor  AUDIO-STREAMING  \n",
              "2       0.000000e+00  0.000000e+00  Non-Tor  AUDIO-STREAMING  \n",
              "3       0.000000e+00  0.000000e+00  Non-Tor  AUDIO-STREAMING  \n",
              "4       1.437765e+15  1.437765e+15  Non-Tor  AUDIO-STREAMING  \n",
              "...              ...           ...      ...              ...  \n",
              "141525  0.000000e+00  0.000000e+00      VPN             VOIP  \n",
              "141526  0.000000e+00  0.000000e+00      VPN             VOIP  \n",
              "141527  0.000000e+00  0.000000e+00      VPN             VOIP  \n",
              "141528  0.000000e+00  0.000000e+00      VPN             VOIP  \n",
              "141529  1.432316e+15  1.432316e+15      VPN             VOIP  \n",
              "\n",
              "[141481 rows x 85 columns]"
            ],
            "text/html": [
              "\n",
              "  <div id=\"df-eef53f45-7ef0-418f-8451-63f999c5ce5e\">\n",
              "    <div class=\"colab-df-container\">\n",
              "      <div>\n",
              "<style scoped>\n",
              "    .dataframe tbody tr th:only-of-type {\n",
              "        vertical-align: middle;\n",
              "    }\n",
              "\n",
              "    .dataframe tbody tr th {\n",
              "        vertical-align: top;\n",
              "    }\n",
              "\n",
              "    .dataframe thead th {\n",
              "        text-align: right;\n",
              "    }\n",
              "</style>\n",
              "<table border=\"1\" class=\"dataframe\">\n",
              "  <thead>\n",
              "    <tr style=\"text-align: right;\">\n",
              "      <th></th>\n",
              "      <th>Flow ID</th>\n",
              "      <th>Src IP</th>\n",
              "      <th>Src Port</th>\n",
              "      <th>Dst IP</th>\n",
              "      <th>Dst Port</th>\n",
              "      <th>Protocol</th>\n",
              "      <th>Timestamp</th>\n",
              "      <th>Flow Duration</th>\n",
              "      <th>Total Fwd Packet</th>\n",
              "      <th>Total Bwd packets</th>\n",
              "      <th>...</th>\n",
              "      <th>Active Mean</th>\n",
              "      <th>Active Std</th>\n",
              "      <th>Active Max</th>\n",
              "      <th>Active Min</th>\n",
              "      <th>Idle Mean</th>\n",
              "      <th>Idle Std</th>\n",
              "      <th>Idle Max</th>\n",
              "      <th>Idle Min</th>\n",
              "      <th>Label</th>\n",
              "      <th>Label.1</th>\n",
              "    </tr>\n",
              "  </thead>\n",
              "  <tbody>\n",
              "    <tr>\n",
              "      <th>0</th>\n",
              "      <td>10.152.152.11-216.58.220.99-57158-443-6</td>\n",
              "      <td>10.152.152.11</td>\n",
              "      <td>57158</td>\n",
              "      <td>216.58.220.99</td>\n",
              "      <td>443</td>\n",
              "      <td>6</td>\n",
              "      <td>24/07/2015 04:09:48 PM</td>\n",
              "      <td>229</td>\n",
              "      <td>1</td>\n",
              "      <td>1</td>\n",
              "      <td>...</td>\n",
              "      <td>0</td>\n",
              "      <td>0</td>\n",
              "      <td>0</td>\n",
              "      <td>0</td>\n",
              "      <td>0.000000e+00</td>\n",
              "      <td>0.000000e+00</td>\n",
              "      <td>0.000000e+00</td>\n",
              "      <td>0.000000e+00</td>\n",
              "      <td>Non-Tor</td>\n",
              "      <td>AUDIO-STREAMING</td>\n",
              "    </tr>\n",
              "    <tr>\n",
              "      <th>1</th>\n",
              "      <td>10.152.152.11-216.58.220.99-57159-443-6</td>\n",
              "      <td>10.152.152.11</td>\n",
              "      <td>57159</td>\n",
              "      <td>216.58.220.99</td>\n",
              "      <td>443</td>\n",
              "      <td>6</td>\n",
              "      <td>24/07/2015 04:09:48 PM</td>\n",
              "      <td>407</td>\n",
              "      <td>1</td>\n",
              "      <td>1</td>\n",
              "      <td>...</td>\n",
              "      <td>0</td>\n",
              "      <td>0</td>\n",
              "      <td>0</td>\n",
              "      <td>0</td>\n",
              "      <td>0.000000e+00</td>\n",
              "      <td>0.000000e+00</td>\n",
              "      <td>0.000000e+00</td>\n",
              "      <td>0.000000e+00</td>\n",
              "      <td>Non-Tor</td>\n",
              "      <td>AUDIO-STREAMING</td>\n",
              "    </tr>\n",
              "    <tr>\n",
              "      <th>2</th>\n",
              "      <td>10.152.152.11-216.58.220.99-57160-443-6</td>\n",
              "      <td>10.152.152.11</td>\n",
              "      <td>57160</td>\n",
              "      <td>216.58.220.99</td>\n",
              "      <td>443</td>\n",
              "      <td>6</td>\n",
              "      <td>24/07/2015 04:09:48 PM</td>\n",
              "      <td>431</td>\n",
              "      <td>1</td>\n",
              "      <td>1</td>\n",
              "      <td>...</td>\n",
              "      <td>0</td>\n",
              "      <td>0</td>\n",
              "      <td>0</td>\n",
              "      <td>0</td>\n",
              "      <td>0.000000e+00</td>\n",
              "      <td>0.000000e+00</td>\n",
              "      <td>0.000000e+00</td>\n",
              "      <td>0.000000e+00</td>\n",
              "      <td>Non-Tor</td>\n",
              "      <td>AUDIO-STREAMING</td>\n",
              "    </tr>\n",
              "    <tr>\n",
              "      <th>3</th>\n",
              "      <td>10.152.152.11-74.125.136.120-49134-443-6</td>\n",
              "      <td>10.152.152.11</td>\n",
              "      <td>49134</td>\n",
              "      <td>74.125.136.120</td>\n",
              "      <td>443</td>\n",
              "      <td>6</td>\n",
              "      <td>24/07/2015 04:09:48 PM</td>\n",
              "      <td>359</td>\n",
              "      <td>1</td>\n",
              "      <td>1</td>\n",
              "      <td>...</td>\n",
              "      <td>0</td>\n",
              "      <td>0</td>\n",
              "      <td>0</td>\n",
              "      <td>0</td>\n",
              "      <td>0.000000e+00</td>\n",
              "      <td>0.000000e+00</td>\n",
              "      <td>0.000000e+00</td>\n",
              "      <td>0.000000e+00</td>\n",
              "      <td>Non-Tor</td>\n",
              "      <td>AUDIO-STREAMING</td>\n",
              "    </tr>\n",
              "    <tr>\n",
              "      <th>4</th>\n",
              "      <td>10.152.152.11-173.194.65.127-34697-19305-6</td>\n",
              "      <td>10.152.152.11</td>\n",
              "      <td>34697</td>\n",
              "      <td>173.194.65.127</td>\n",
              "      <td>19305</td>\n",
              "      <td>6</td>\n",
              "      <td>24/07/2015 04:09:45 PM</td>\n",
              "      <td>10778451</td>\n",
              "      <td>591</td>\n",
              "      <td>400</td>\n",
              "      <td>...</td>\n",
              "      <td>0</td>\n",
              "      <td>0</td>\n",
              "      <td>0</td>\n",
              "      <td>0</td>\n",
              "      <td>1.437765e+15</td>\n",
              "      <td>3.117718e+06</td>\n",
              "      <td>1.437765e+15</td>\n",
              "      <td>1.437765e+15</td>\n",
              "      <td>Non-Tor</td>\n",
              "      <td>AUDIO-STREAMING</td>\n",
              "    </tr>\n",
              "    <tr>\n",
              "      <th>...</th>\n",
              "      <td>...</td>\n",
              "      <td>...</td>\n",
              "      <td>...</td>\n",
              "      <td>...</td>\n",
              "      <td>...</td>\n",
              "      <td>...</td>\n",
              "      <td>...</td>\n",
              "      <td>...</td>\n",
              "      <td>...</td>\n",
              "      <td>...</td>\n",
              "      <td>...</td>\n",
              "      <td>...</td>\n",
              "      <td>...</td>\n",
              "      <td>...</td>\n",
              "      <td>...</td>\n",
              "      <td>...</td>\n",
              "      <td>...</td>\n",
              "      <td>...</td>\n",
              "      <td>...</td>\n",
              "      <td>...</td>\n",
              "      <td>...</td>\n",
              "    </tr>\n",
              "    <tr>\n",
              "      <th>141525</th>\n",
              "      <td>10.8.8.246-224.0.0.252-55219-5355-17</td>\n",
              "      <td>10.8.8.246</td>\n",
              "      <td>55219</td>\n",
              "      <td>224.0.0.252</td>\n",
              "      <td>5355</td>\n",
              "      <td>17</td>\n",
              "      <td>22/05/2015 01:55:03 PM</td>\n",
              "      <td>411806</td>\n",
              "      <td>2</td>\n",
              "      <td>0</td>\n",
              "      <td>...</td>\n",
              "      <td>0</td>\n",
              "      <td>0</td>\n",
              "      <td>0</td>\n",
              "      <td>0</td>\n",
              "      <td>0.000000e+00</td>\n",
              "      <td>0.000000e+00</td>\n",
              "      <td>0.000000e+00</td>\n",
              "      <td>0.000000e+00</td>\n",
              "      <td>VPN</td>\n",
              "      <td>VOIP</td>\n",
              "    </tr>\n",
              "    <tr>\n",
              "      <th>141526</th>\n",
              "      <td>10.8.8.246-224.0.0.252-64207-5355-17</td>\n",
              "      <td>10.8.8.246</td>\n",
              "      <td>64207</td>\n",
              "      <td>224.0.0.252</td>\n",
              "      <td>5355</td>\n",
              "      <td>17</td>\n",
              "      <td>22/05/2015 02:09:05 PM</td>\n",
              "      <td>411574</td>\n",
              "      <td>2</td>\n",
              "      <td>0</td>\n",
              "      <td>...</td>\n",
              "      <td>0</td>\n",
              "      <td>0</td>\n",
              "      <td>0</td>\n",
              "      <td>0</td>\n",
              "      <td>0.000000e+00</td>\n",
              "      <td>0.000000e+00</td>\n",
              "      <td>0.000000e+00</td>\n",
              "      <td>0.000000e+00</td>\n",
              "      <td>VPN</td>\n",
              "      <td>VOIP</td>\n",
              "    </tr>\n",
              "    <tr>\n",
              "      <th>141527</th>\n",
              "      <td>10.8.8.246-224.0.0.252-61115-5355-17</td>\n",
              "      <td>10.8.8.246</td>\n",
              "      <td>61115</td>\n",
              "      <td>224.0.0.252</td>\n",
              "      <td>5355</td>\n",
              "      <td>17</td>\n",
              "      <td>22/05/2015 02:19:31 PM</td>\n",
              "      <td>422299</td>\n",
              "      <td>2</td>\n",
              "      <td>0</td>\n",
              "      <td>...</td>\n",
              "      <td>0</td>\n",
              "      <td>0</td>\n",
              "      <td>0</td>\n",
              "      <td>0</td>\n",
              "      <td>0.000000e+00</td>\n",
              "      <td>0.000000e+00</td>\n",
              "      <td>0.000000e+00</td>\n",
              "      <td>0.000000e+00</td>\n",
              "      <td>VPN</td>\n",
              "      <td>VOIP</td>\n",
              "    </tr>\n",
              "    <tr>\n",
              "      <th>141528</th>\n",
              "      <td>10.8.8.246-224.0.0.252-64790-5355-17</td>\n",
              "      <td>10.8.8.246</td>\n",
              "      <td>64790</td>\n",
              "      <td>224.0.0.252</td>\n",
              "      <td>5355</td>\n",
              "      <td>17</td>\n",
              "      <td>22/05/2015 02:29:55 PM</td>\n",
              "      <td>411855</td>\n",
              "      <td>2</td>\n",
              "      <td>0</td>\n",
              "      <td>...</td>\n",
              "      <td>0</td>\n",
              "      <td>0</td>\n",
              "      <td>0</td>\n",
              "      <td>0</td>\n",
              "      <td>0.000000e+00</td>\n",
              "      <td>0.000000e+00</td>\n",
              "      <td>0.000000e+00</td>\n",
              "      <td>0.000000e+00</td>\n",
              "      <td>VPN</td>\n",
              "      <td>VOIP</td>\n",
              "    </tr>\n",
              "    <tr>\n",
              "      <th>141529</th>\n",
              "      <td>80.239.235.110-10.8.8.246-11666-60245-17</td>\n",
              "      <td>80.239.235.110</td>\n",
              "      <td>11666</td>\n",
              "      <td>10.8.8.246</td>\n",
              "      <td>60245</td>\n",
              "      <td>17</td>\n",
              "      <td>22/05/2015 02:31:23 PM</td>\n",
              "      <td>119990044</td>\n",
              "      <td>5995</td>\n",
              "      <td>6000</td>\n",
              "      <td>...</td>\n",
              "      <td>0</td>\n",
              "      <td>0</td>\n",
              "      <td>0</td>\n",
              "      <td>0</td>\n",
              "      <td>1.432316e+15</td>\n",
              "      <td>3.463689e+07</td>\n",
              "      <td>1.432316e+15</td>\n",
              "      <td>1.432316e+15</td>\n",
              "      <td>VPN</td>\n",
              "      <td>VOIP</td>\n",
              "    </tr>\n",
              "  </tbody>\n",
              "</table>\n",
              "<p>141481 rows × 85 columns</p>\n",
              "</div>\n",
              "      <button class=\"colab-df-convert\" onclick=\"convertToInteractive('df-eef53f45-7ef0-418f-8451-63f999c5ce5e')\"\n",
              "              title=\"Convert this dataframe to an interactive table.\"\n",
              "              style=\"display:none;\">\n",
              "        \n",
              "  <svg xmlns=\"http://www.w3.org/2000/svg\" height=\"24px\"viewBox=\"0 0 24 24\"\n",
              "       width=\"24px\">\n",
              "    <path d=\"M0 0h24v24H0V0z\" fill=\"none\"/>\n",
              "    <path d=\"M18.56 5.44l.94 2.06.94-2.06 2.06-.94-2.06-.94-.94-2.06-.94 2.06-2.06.94zm-11 1L8.5 8.5l.94-2.06 2.06-.94-2.06-.94L8.5 2.5l-.94 2.06-2.06.94zm10 10l.94 2.06.94-2.06 2.06-.94-2.06-.94-.94-2.06-.94 2.06-2.06.94z\"/><path d=\"M17.41 7.96l-1.37-1.37c-.4-.4-.92-.59-1.43-.59-.52 0-1.04.2-1.43.59L10.3 9.45l-7.72 7.72c-.78.78-.78 2.05 0 2.83L4 21.41c.39.39.9.59 1.41.59.51 0 1.02-.2 1.41-.59l7.78-7.78 2.81-2.81c.8-.78.8-2.07 0-2.86zM5.41 20L4 18.59l7.72-7.72 1.47 1.35L5.41 20z\"/>\n",
              "  </svg>\n",
              "      </button>\n",
              "      \n",
              "  <style>\n",
              "    .colab-df-container {\n",
              "      display:flex;\n",
              "      flex-wrap:wrap;\n",
              "      gap: 12px;\n",
              "    }\n",
              "\n",
              "    .colab-df-convert {\n",
              "      background-color: #E8F0FE;\n",
              "      border: none;\n",
              "      border-radius: 50%;\n",
              "      cursor: pointer;\n",
              "      display: none;\n",
              "      fill: #1967D2;\n",
              "      height: 32px;\n",
              "      padding: 0 0 0 0;\n",
              "      width: 32px;\n",
              "    }\n",
              "\n",
              "    .colab-df-convert:hover {\n",
              "      background-color: #E2EBFA;\n",
              "      box-shadow: 0px 1px 2px rgba(60, 64, 67, 0.3), 0px 1px 3px 1px rgba(60, 64, 67, 0.15);\n",
              "      fill: #174EA6;\n",
              "    }\n",
              "\n",
              "    [theme=dark] .colab-df-convert {\n",
              "      background-color: #3B4455;\n",
              "      fill: #D2E3FC;\n",
              "    }\n",
              "\n",
              "    [theme=dark] .colab-df-convert:hover {\n",
              "      background-color: #434B5C;\n",
              "      box-shadow: 0px 1px 3px 1px rgba(0, 0, 0, 0.15);\n",
              "      filter: drop-shadow(0px 1px 2px rgba(0, 0, 0, 0.3));\n",
              "      fill: #FFFFFF;\n",
              "    }\n",
              "  </style>\n",
              "\n",
              "      <script>\n",
              "        const buttonEl =\n",
              "          document.querySelector('#df-eef53f45-7ef0-418f-8451-63f999c5ce5e button.colab-df-convert');\n",
              "        buttonEl.style.display =\n",
              "          google.colab.kernel.accessAllowed ? 'block' : 'none';\n",
              "\n",
              "        async function convertToInteractive(key) {\n",
              "          const element = document.querySelector('#df-eef53f45-7ef0-418f-8451-63f999c5ce5e');\n",
              "          const dataTable =\n",
              "            await google.colab.kernel.invokeFunction('convertToInteractive',\n",
              "                                                     [key], {});\n",
              "          if (!dataTable) return;\n",
              "\n",
              "          const docLinkHtml = 'Like what you see? Visit the ' +\n",
              "            '<a target=\"_blank\" href=https://colab.research.google.com/notebooks/data_table.ipynb>data table notebook</a>'\n",
              "            + ' to learn more about interactive tables.';\n",
              "          element.innerHTML = '';\n",
              "          dataTable['output_type'] = 'display_data';\n",
              "          await google.colab.output.renderOutput(dataTable, element);\n",
              "          const docLink = document.createElement('div');\n",
              "          docLink.innerHTML = docLinkHtml;\n",
              "          element.appendChild(docLink);\n",
              "        }\n",
              "      </script>\n",
              "    </div>\n",
              "  </div>\n",
              "  "
            ]
          },
          "metadata": {},
          "execution_count": 15
        }
      ],
      "source": [
        "darknet.dropna()"
      ]
    },
    {
      "cell_type": "markdown",
      "metadata": {
        "id": "xY9O0XAPGBHC"
      },
      "source": [
        "2. Procesamiento de datos"
      ]
    },
    {
      "cell_type": "markdown",
      "metadata": {
        "id": "1LmbKTXSI1gE"
      },
      "source": [
        "2.1. Agrupar Variable Objetivo en: \n",
        "\n",
        "> Conexiones Benignas(Non-VPN y Non-Tor)\n",
        "\n",
        "\n",
        "> Conexiones Darknet (VPN y Tor) \n",
        "\n",
        "\n",
        "\n",
        "\n",
        "\n"
      ]
    },
    {
      "cell_type": "markdown",
      "metadata": {
        "id": "CJOHczxjW9cQ"
      },
      "source": [
        "Esta agrupación se debe a que vamos a tratar ambas conexiones por igual, no importa si es una conexion u otra, puesto que queremos detectar y cortar ambas. Así será mas sencillo de tratar estos datos. "
      ]
    },
    {
      "cell_type": "code",
      "execution_count": 16,
      "metadata": {
        "colab": {
          "base_uri": "https://localhost:8080/"
        },
        "id": "-4SUtY8ag0nA",
        "outputId": "c30bc1f6-bb5f-4c63-9a00-e3f74ca61c34"
      },
      "outputs": [
        {
          "output_type": "stream",
          "name": "stdout",
          "text": [
            "Benign     117172\n",
            "Darknet     24311\n",
            "Name: Label, dtype: int64\n"
          ]
        },
        {
          "output_type": "stream",
          "name": "stderr",
          "text": [
            "<ipython-input-16-dc6f58615c7f>:1: SettingWithCopyWarning: \n",
            "A value is trying to be set on a copy of a slice from a DataFrame\n",
            "\n",
            "See the caveats in the documentation: https://pandas.pydata.org/pandas-docs/stable/user_guide/indexing.html#returning-a-view-versus-a-copy\n",
            "  darknet['Label'].loc[(darknet['Label'] == 'Non-Tor') | (darknet['Label'] == 'NonVPN')] = 'Benign'\n",
            "<ipython-input-16-dc6f58615c7f>:2: SettingWithCopyWarning: \n",
            "A value is trying to be set on a copy of a slice from a DataFrame\n",
            "\n",
            "See the caveats in the documentation: https://pandas.pydata.org/pandas-docs/stable/user_guide/indexing.html#returning-a-view-versus-a-copy\n",
            "  darknet['Label'].loc[(darknet['Label'] == 'Tor') | (darknet['Label'] == 'VPN')] = 'Darknet'\n"
          ]
        }
      ],
      "source": [
        "darknet['Label'].loc[(darknet['Label'] == 'Non-Tor') | (darknet['Label'] == 'NonVPN')] = 'Benign'\n",
        "darknet['Label'].loc[(darknet['Label'] == 'Tor') | (darknet['Label'] == 'VPN')] = 'Darknet'\n",
        "\n",
        "print(darknet['Label'].value_counts())"
      ]
    },
    {
      "cell_type": "code",
      "execution_count": 17,
      "metadata": {
        "colab": {
          "base_uri": "https://localhost:8080/",
          "height": 248
        },
        "id": "Z0bxrkXRpXlU",
        "outputId": "7b0fb55d-bde9-4653-a69e-253e0375344b"
      },
      "outputs": [
        {
          "output_type": "display_data",
          "data": {
            "text/plain": [
              "<Figure size 1008x288 with 1 Axes>"
            ],
            "image/png": "[encoded data removed]"
          },
          "metadata": {}
        }
      ],
      "source": [
        "labels = ['Benign', 'Darknet']\n",
        "plt.pie(darknet['Label'].value_counts(), labels = labels , autopct = '%0.0f%%')\n",
        "plt.show()"
      ]
    },
    {
      "cell_type": "code",
      "execution_count": 18,
      "metadata": {
        "colab": {
          "base_uri": "https://localhost:8080/",
          "height": 268
        },
        "id": "e4mMk-3BviXN",
        "outputId": "6df5b504-aa35-45ff-8306-0bff5a005322"
      },
      "outputs": [
        {
          "output_type": "display_data",
          "data": {
            "text/plain": [
              "<Figure size 1008x288 with 1 Axes>"
            ],
            "image/png": "[encoded data removed]"
          },
          "metadata": {}
        }
      ],
      "source": [
        "sns.histplot(data=darknet['Label'], stat=\"frequency\")\n",
        "plt.xlabel('')\n",
        "plt.show()"
      ]
    },
    {
      "cell_type": "markdown",
      "metadata": {
        "id": "f7Ts01gNR9pA"
      },
      "source": [
        "2.2. Variable Timestamp\n",
        "\n",
        "> Como aparece la fecha completa, realmente no nos aporta información relevante, por ello he decidido extraer el valor de la hora, que es un valor numérico y a la hora de los modelos predicictivos será de más ayuda.\n",
        "\n",
        "> Creamos una nueva variable Hour, hora extraida de la variable Timestamp y después borraremos la variable Timestamp. \n"
      ]
    },
    {
      "cell_type": "code",
      "execution_count": 19,
      "metadata": {
        "colab": {
          "base_uri": "https://localhost:8080/"
        },
        "id": "TRkyJxGJXii4",
        "outputId": "c5e956be-ada4-4d47-f73d-574c636117b2"
      },
      "outputs": [
        {
          "output_type": "stream",
          "name": "stdout",
          "text": [
            "                Timestamp  hour\n",
            "0  24/07/2015 04:09:48 PM     4\n",
            "1  24/07/2015 04:09:48 PM     4\n",
            "2  24/07/2015 04:09:48 PM     4\n",
            "3  24/07/2015 04:09:48 PM     4\n",
            "4  24/07/2015 04:09:45 PM     4\n"
          ]
        }
      ],
      "source": [
        "#Creamos variable Hora en el dataset\n",
        "\n",
        "horas = []\n",
        "for timestamp in darknet['Timestamp']:\n",
        "    hora = int(timestamp.split()[1].split(':')[0])\n",
        "    horas.append(hora)\n",
        "darknet['hour'] = horas\n",
        "print(darknet[['Timestamp', 'hour']][:5])\n"
      ]
    },
    {
      "cell_type": "code",
      "execution_count": 20,
      "metadata": {
        "colab": {
          "base_uri": "https://localhost:8080/",
          "height": 502
        },
        "id": "q_F22IIpxYtV",
        "outputId": "7405a2d0-c994-4a51-d037-8fd1eac2c219"
      },
      "outputs": [
        {
          "output_type": "stream",
          "name": "stderr",
          "text": [
            "<ipython-input-20-90dc88648cfa>:3: FutureWarning: \n",
            "\n",
            "`shade` is now deprecated in favor of `fill`; setting `fill=True`.\n",
            "This will become an error in seaborn v0.14.0; please update your code.\n",
            "\n",
            "  sns.kdeplot(plot_graph_darknet['hour'], shade=True)\n",
            "<ipython-input-20-90dc88648cfa>:4: FutureWarning: \n",
            "\n",
            "`shade` is now deprecated in favor of `fill`; setting `fill=True`.\n",
            "This will become an error in seaborn v0.14.0; please update your code.\n",
            "\n",
            "  sns.kdeplot(plot_graph_benign['hour'], shade=True)\n"
          ]
        },
        {
          "output_type": "display_data",
          "data": {
            "text/plain": [
              "<Figure size 1008x288 with 1 Axes>"
            ],
            "image/png": "[encoded data removed]"
          },
          "metadata": {}
        }
      ],
      "source": [
        "plot_graph_darknet = darknet[darknet['Label'] == \"Darknet\"]\n",
        "plot_graph_benign = darknet[darknet['Label'] == \"Benign\"]\n",
        "sns.kdeplot(plot_graph_darknet['hour'], shade=True)\n",
        "sns.kdeplot(plot_graph_benign['hour'], shade=True)\n",
        "plt.xlabel(\"Hour\")\n",
        "plt.ylabel(\"Density\")\n",
        "plt.legend(['Darknet', 'Benign'])\n",
        "plt.show()"
      ]
    },
    {
      "cell_type": "code",
      "execution_count": 21,
      "metadata": {
        "colab": {
          "base_uri": "https://localhost:8080/"
        },
        "id": "wOXA9ju_-rQc",
        "outputId": "335fdf2b-7a83-4131-9916-8457145b810e"
      },
      "outputs": [
        {
          "output_type": "stream",
          "name": "stdout",
          "text": [
            "(141483, 85)\n"
          ]
        }
      ],
      "source": [
        "#Eliminamos variable Timestamp\n",
        "del darknet['Timestamp']\n",
        "\n",
        "print(darknet.shape)\n"
      ]
    },
    {
      "cell_type": "markdown",
      "metadata": {
        "id": "aSJH4pwS-19C"
      },
      "source": [
        "2.3. Nueva variable grams de las variables \"Src IP\" y \"Dst IP\" (creamos 3 subcategorías de dichas variables)"
      ]
    },
    {
      "cell_type": "markdown",
      "metadata": {
        "id": "VE7YRvn_1vZp"
      },
      "source": [
        "Para que el modelo tenga información relevante sobre las direcciones IP Fuente y Destino, hay que separar dichas direcciones en 3 grupos, los 3 primeros rangos. De aqui podremos extraer información sobre si es una direccion IP privada o pública, dinámica o estática, el sitio web, etc. "
      ]
    },
    {
      "cell_type": "code",
      "execution_count": 22,
      "metadata": {
        "id": "WjbH_pE_-zIY"
      },
      "outputs": [],
      "source": [
        "#Creamos la funcion create_grams, definicion las 3 separaciones que vamos a realizar con split\n",
        "def create_grams(ip):\n",
        "    parts = ip.split('.') #definimos el separador con el .\n",
        "    one_gram = parts[0] #primeros 3 digitos\n",
        "    two_gram = one_gram + \" \" + parts[1]\n",
        "    three_gram = two_gram + \" \" + parts[2]\n",
        "    return one_gram, two_gram, three_gram"
      ]
    },
    {
      "cell_type": "code",
      "execution_count": 23,
      "metadata": {
        "id": "sBQb0b1UM4aP"
      },
      "outputs": [],
      "source": [
        "#Creamos una lista para cada subdivision(3), para cada variable (Src y Dst)\n",
        "src_one_gram = []\n",
        "src_two_gram = []\n",
        "src_three_gram = []\n",
        "dst_one_gram = []\n",
        "dst_two_gram = []\n",
        "dst_three_gram = []\n",
        "\n",
        "#Bucle para recorrer ambas variables, aplicando la funcion create_grams()\n",
        "\n",
        "for src_ip, dst_ip in zip(darknet['Src IP'], darknet['Dst IP']): \n",
        "    src_one, src_two, src_three = create_grams(src_ip)\n",
        "    src_one_gram.append(src_one)\n",
        "    src_two_gram.append(src_two)\n",
        "    src_three_gram.append(src_three)\n",
        "    dst_one, dst_two, dst_three = create_grams(dst_ip)\n",
        "    dst_one_gram.append(dst_one)\n",
        "    dst_two_gram.append(dst_two)\n",
        "    dst_three_gram.append(dst_three)\n",
        "\n",
        "darknet['src_ip_1gram'] = src_one_gram\n",
        "darknet['src_ip_2gram'] = src_two_gram\n",
        "darknet['src_ip_3gram'] = src_three_gram\n",
        "\n",
        "darknet['dst_ip_1gram'] = dst_one_gram\n",
        "darknet['dst_ip_2gram'] = dst_two_gram\n",
        "darknet['dst_ip_3gram'] = dst_three_gram"
      ]
    },
    {
      "cell_type": "code",
      "execution_count": 24,
      "metadata": {
        "colab": {
          "base_uri": "https://localhost:8080/"
        },
        "id": "gi8JxvE-PcKe",
        "outputId": "762058c1-f941-4deb-fb04-9c8cbd50268c"
      },
      "outputs": [
        {
          "output_type": "stream",
          "name": "stdout",
          "text": [
            "            Src IP src_ip_1gram src_ip_2gram src_ip_3gram\n",
            "150  74.125.28.189           74       74 125    74 125 28\n",
            "151  10.152.152.11           10       10 152   10 152 152\n",
            "152  10.152.152.11           10       10 152   10 152 152\n",
            "153  10.152.152.11           10       10 152   10 152 152\n",
            "154  10.152.152.11           10       10 152   10 152 152\n",
            "            Dst IP dst_ip_1gram dst_ip_2gram dst_ip_3gram\n",
            "15   216.58.220.99          216       216 58   216 58 220\n",
            "16  173.194.65.149          173      173 194   173 194 65\n",
            "17  173.194.65.102          173      173 194   173 194 65\n",
            "18  173.194.65.101          173      173 194   173 194 65\n",
            "19  173.194.65.138          173      173 194   173 194 65\n"
          ]
        }
      ],
      "source": [
        "#Comprobamos que esté correcto\n",
        "print(darknet[['Src IP','src_ip_1gram','src_ip_2gram','src_ip_3gram']][150:155])\n",
        "print(darknet[['Dst IP','dst_ip_1gram','dst_ip_2gram','dst_ip_3gram']][15:20])"
      ]
    },
    {
      "cell_type": "markdown",
      "metadata": {
        "id": "yjd9SNnf35tj"
      },
      "source": [
        "2.4. GRAFICOS **TIPOS DE TRAFICO**(y_2)"
      ]
    },
    {
      "cell_type": "code",
      "execution_count": 25,
      "metadata": {
        "colab": {
          "base_uri": "https://localhost:8080/"
        },
        "id": "DSbUpzyA6XqM",
        "outputId": "9de55230-4e8f-4ba5-82d5-2ff68e68afd1"
      },
      "outputs": [
        {
          "output_type": "execute_result",
          "data": {
            "text/plain": [
              "array(['AUDIO-STREAMING', 'Browsing', 'Chat', 'Email', 'File-Transfer',\n",
              "       'File-transfer', 'P2P', 'Video-Streaming', 'Audio-Streaming',\n",
              "       'Video-streaming', 'VOIP'], dtype=object)"
            ]
          },
          "metadata": {},
          "execution_count": 25
        }
      ],
      "source": [
        "darknet['Label.1'].unique()"
      ]
    },
    {
      "cell_type": "markdown",
      "metadata": {
        "id": "EN_hsoRv6wf2"
      },
      "source": [
        "Vemos que hay 3 valores repetidos:\n",
        "\n",
        "> Audio-Streaming/AUDIO-STREAMING\n",
        "\n",
        "\n",
        "> File-Transfer/File-transfer\n",
        "\n",
        "\n",
        "> Video-Streaming/Video-streaming\n",
        "\n"
      ]
    },
    {
      "cell_type": "code",
      "execution_count": 26,
      "metadata": {
        "colab": {
          "base_uri": "https://localhost:8080/"
        },
        "id": "5Ci09iA85RtQ",
        "outputId": "11e84f0e-431c-4714-d1b6-afa508c45970"
      },
      "outputs": [
        {
          "output_type": "stream",
          "name": "stderr",
          "text": [
            "<ipython-input-26-ec7f1aa36e55>:2: SettingWithCopyWarning: \n",
            "A value is trying to be set on a copy of a slice from a DataFrame\n",
            "\n",
            "See the caveats in the documentation: https://pandas.pydata.org/pandas-docs/stable/user_guide/indexing.html#returning-a-view-versus-a-copy\n",
            "  darknet['Label.1'].loc[darknet['Label.1'] == 'AUDIO-STREAMING'] = 'Audio-Streaming'\n",
            "<ipython-input-26-ec7f1aa36e55>:3: SettingWithCopyWarning: \n",
            "A value is trying to be set on a copy of a slice from a DataFrame\n",
            "\n",
            "See the caveats in the documentation: https://pandas.pydata.org/pandas-docs/stable/user_guide/indexing.html#returning-a-view-versus-a-copy\n",
            "  darknet['Label.1'].loc[darknet['Label.1'] == 'File-transfer'] = 'File-Transfer'\n",
            "<ipython-input-26-ec7f1aa36e55>:4: SettingWithCopyWarning: \n",
            "A value is trying to be set on a copy of a slice from a DataFrame\n",
            "\n",
            "See the caveats in the documentation: https://pandas.pydata.org/pandas-docs/stable/user_guide/indexing.html#returning-a-view-versus-a-copy\n",
            "  darknet['Label.1'].loc[darknet['Label.1'] == 'Video-streaming'] = 'Video-Streaming'\n"
          ]
        }
      ],
      "source": [
        "#Corregimos los valores duplicados de esta variable\n",
        "darknet['Label.1'].loc[darknet['Label.1'] == 'AUDIO-STREAMING'] = 'Audio-Streaming'\n",
        "darknet['Label.1'].loc[darknet['Label.1'] == 'File-transfer'] = 'File-Transfer'\n",
        "darknet['Label.1'].loc[darknet['Label.1'] == 'Video-streaming'] = 'Video-Streaming'\n"
      ]
    },
    {
      "cell_type": "markdown",
      "metadata": {
        "id": "Q72ZZGkv4NbX"
      },
      "source": [
        "EN LA **DARKNET** "
      ]
    },
    {
      "cell_type": "code",
      "execution_count": 27,
      "metadata": {
        "colab": {
          "base_uri": "https://localhost:8080/",
          "height": 268
        },
        "id": "tEZtrvyG3--k",
        "outputId": "67e3968f-1127-43f3-e106-f8a6aa407b38"
      },
      "outputs": [
        {
          "output_type": "display_data",
          "data": {
            "text/plain": [
              "<Figure size 1008x288 with 1 Axes>"
            ],
            "image/png": "[encoded data removed]"
          },
          "metadata": {}
        }
      ],
      "source": [
        "sns.histplot(data=darknet[darknet['Label'] == 'Darknet'], x='Label.1', stat='probability')\n",
        "plt.xlabel('')\n",
        "plt.show()"
      ]
    },
    {
      "cell_type": "markdown",
      "metadata": {
        "id": "8btMRGKv4Rfx"
      },
      "source": [
        "**FUERA** DE LA DARKNET (BENIGN)"
      ]
    },
    {
      "cell_type": "code",
      "execution_count": 28,
      "metadata": {
        "colab": {
          "base_uri": "https://localhost:8080/",
          "height": 268
        },
        "id": "QBwy-Jhp4NA3",
        "outputId": "feafb7cc-b25f-44a6-ee4b-d64b6b6216f5"
      },
      "outputs": [
        {
          "output_type": "display_data",
          "data": {
            "text/plain": [
              "<Figure size 1008x288 with 1 Axes>"
            ],
            "image/png": "[encoded data removed]"
          },
          "metadata": {}
        }
      ],
      "source": [
        "sns.histplot(data=darknet[darknet['Label'] == 'Benign'], x='Label.1', stat='probability')\n",
        "plt.xlabel('')\n",
        "plt.show()"
      ]
    },
    {
      "cell_type": "markdown",
      "metadata": {
        "id": "IBHTkp4Z-94I"
      },
      "source": [
        "2.5. Eliminar variables irrelevantes"
      ]
    },
    {
      "cell_type": "markdown",
      "metadata": {
        "id": "IFypSPBqIf0y"
      },
      "source": [
        "-Flow ID\n",
        "\n",
        "> No aporta información relevante al modelo, simplemente es una ID de la conexión\n",
        "\n"
      ]
    },
    {
      "cell_type": "code",
      "execution_count": 29,
      "metadata": {
        "id": "JDfpPp50_GCc"
      },
      "outputs": [],
      "source": [
        "del darknet['Flow ID']"
      ]
    },
    {
      "cell_type": "code",
      "execution_count": 30,
      "metadata": {
        "colab": {
          "base_uri": "https://localhost:8080/"
        },
        "id": "MqydLxxMQXwx",
        "outputId": "7526bbe3-2356-4b2f-ee71-19215db6f03a"
      },
      "outputs": [
        {
          "output_type": "stream",
          "name": "stdout",
          "text": [
            "(141483, 90)\n"
          ]
        }
      ],
      "source": [
        "print(darknet.shape)"
      ]
    },
    {
      "cell_type": "markdown",
      "metadata": {
        "id": "lEvlMJofZWTj"
      },
      "source": [
        "-Src IP"
      ]
    },
    {
      "cell_type": "markdown",
      "metadata": {
        "id": "3VIwuDZNZpXg"
      },
      "source": [
        "Como ya hemos extraido su información en otras 3 variables separadas por el rango de la IP, que nos aportan mayor información, podemos eliminarla."
      ]
    },
    {
      "cell_type": "code",
      "execution_count": 31,
      "metadata": {
        "id": "RzIE1i9iZiBx"
      },
      "outputs": [],
      "source": [
        "del darknet['Src IP']"
      ]
    },
    {
      "cell_type": "code",
      "execution_count": 32,
      "metadata": {
        "colab": {
          "base_uri": "https://localhost:8080/"
        },
        "id": "34lWzvHzRHGL",
        "outputId": "8d0525b3-281a-49ee-c36b-873c1ea20b57"
      },
      "outputs": [
        {
          "output_type": "stream",
          "name": "stdout",
          "text": [
            "(141483, 89)\n"
          ]
        }
      ],
      "source": [
        "print(darknet.shape)"
      ]
    },
    {
      "cell_type": "markdown",
      "metadata": {
        "id": "Ey8JGguqZi1m"
      },
      "source": [
        "-Dst IP"
      ]
    },
    {
      "cell_type": "markdown",
      "metadata": {
        "id": "oSxiBlOBZqWm"
      },
      "source": [
        "Como nos ocurre con la variable Src IP, hemos extraido su información para dividir las IP en rangos, esta variable ya no nos aporta información relevante. "
      ]
    },
    {
      "cell_type": "code",
      "execution_count": 33,
      "metadata": {
        "id": "7TXHfopsZrD7"
      },
      "outputs": [],
      "source": [
        "del darknet['Dst IP']"
      ]
    },
    {
      "cell_type": "code",
      "execution_count": 34,
      "metadata": {
        "colab": {
          "base_uri": "https://localhost:8080/"
        },
        "id": "JPFM3uN4Rn4F",
        "outputId": "9a447203-afbf-4583-8f74-4fe8be1dfa75"
      },
      "outputs": [
        {
          "output_type": "stream",
          "name": "stdout",
          "text": [
            "(141483, 88)\n"
          ]
        }
      ],
      "source": [
        "print(darknet.shape)"
      ]
    },
    {
      "cell_type": "markdown",
      "metadata": {
        "id": "ashx3Zpx8Gax"
      },
      "source": [
        "-Label.1"
      ]
    },
    {
      "cell_type": "markdown",
      "metadata": {
        "id": "r7GEYcCv8Vlt"
      },
      "source": [
        "Como finalmente vamos a aplicar los modelos predictivos unicamente para detectar si el tráfico de la red es de la Darknet o no, los tipos de tráfico no se van a utilizar para modelizar posteriormente, por lo que podemso prescindir de esta variable"
      ]
    },
    {
      "cell_type": "code",
      "execution_count": 35,
      "metadata": {
        "id": "e7CxLq3J8LlV"
      },
      "outputs": [],
      "source": [
        "del darknet['Label.1']"
      ]
    },
    {
      "cell_type": "code",
      "execution_count": 36,
      "metadata": {
        "colab": {
          "base_uri": "https://localhost:8080/"
        },
        "id": "uqaYCOce9Tfy",
        "outputId": "61dda860-c9ae-4c2a-a129-2cea732bde0e"
      },
      "outputs": [
        {
          "output_type": "stream",
          "name": "stdout",
          "text": [
            "(141483, 87)\n"
          ]
        }
      ],
      "source": [
        "print(darknet.shape)"
      ]
    },
    {
      "cell_type": "markdown",
      "metadata": {
        "id": "E9MORm0wCSyj"
      },
      "source": [
        "2.6. Convertimos los datos a tipo flotante para los modelos"
      ]
    },
    {
      "cell_type": "code",
      "execution_count": 37,
      "metadata": {
        "colab": {
          "base_uri": "https://localhost:8080/"
        },
        "id": "FKKIcwwaCSHd",
        "outputId": "85479887-35d6-4aad-a454-a345beb3ec93"
      },
      "outputs": [
        {
          "output_type": "stream",
          "name": "stdout",
          "text": [
            "['Flow Duration', 'Total Fwd Packet', 'Total Bwd packets', 'Total Length of Fwd Packet', 'Total Length of Bwd Packet', 'Fwd Packet Length Max', 'Fwd Packet Length Min', 'Fwd Packet Length Mean', 'Fwd Packet Length Std', 'Bwd Packet Length Max', 'Bwd Packet Length Min', 'Bwd Packet Length Mean', 'Bwd Packet Length Std', 'Flow Bytes/s', 'Flow Packets/s', 'Flow IAT Mean', 'Flow IAT Std', 'Flow IAT Max', 'Flow IAT Min', 'Fwd IAT Total', 'Fwd IAT Mean', 'Fwd IAT Std', 'Fwd IAT Max', 'Fwd IAT Min', 'Bwd IAT Total', 'Bwd IAT Mean', 'Bwd IAT Std', 'Bwd IAT Max', 'Bwd IAT Min', 'Fwd PSH Flags', 'Bwd PSH Flags', 'Fwd URG Flags', 'Bwd URG Flags', 'Fwd Header Length', 'Bwd Header Length', 'Fwd Packets/s', 'Bwd Packets/s', 'Packet Length Min', 'Packet Length Max', 'Packet Length Mean', 'Packet Length Std', 'Packet Length Variance', 'FIN Flag Count', 'SYN Flag Count', 'RST Flag Count', 'PSH Flag Count', 'ACK Flag Count', 'URG Flag Count', 'CWE Flag Count', 'ECE Flag Count', 'Down/Up Ratio', 'Average Packet Size', 'Fwd Segment Size Avg', 'Bwd Segment Size Avg', 'Fwd Bytes/Bulk Avg', 'Fwd Packet/Bulk Avg', 'Fwd Bulk Rate Avg', 'Bwd Bytes/Bulk Avg', 'Bwd Packet/Bulk Avg', 'Bwd Bulk Rate Avg', 'Subflow Fwd Packets', 'Subflow Fwd Bytes', 'Subflow Bwd Packets', 'Subflow Bwd Bytes', 'FWD Init Win Bytes', 'Bwd Init Win Bytes', 'Fwd Act Data Pkts', 'Fwd Seg Size Min']\n"
          ]
        }
      ],
      "source": [
        "real_columns = ['Flow Duration', 'Total Fwd Packet', 'Total Bwd packets', 'Total Length of Fwd Packet', 'Total Length of Bwd Packet', 'Fwd Packet Length Max', 'Fwd Packet Length Min', 'Fwd Packet Length Mean', 'Fwd Packet Length Std', 'Bwd Packet Length Max', 'Bwd Packet Length Min', 'Bwd Packet Length Mean', 'Bwd Packet Length Std', 'Flow Bytes/s', 'Flow Packets/s', 'Flow IAT Mean', 'Flow IAT Std', 'Flow IAT Max', 'Flow IAT Min', 'Fwd IAT Total', 'Fwd IAT Mean', 'Fwd IAT Std', 'Fwd IAT Max', 'Fwd IAT Min', 'Bwd IAT Total', 'Bwd IAT Mean', 'Bwd IAT Std', 'Bwd IAT Max', 'Bwd IAT Min', 'Fwd PSH Flags', 'Bwd PSH Flags', 'Fwd URG Flags', 'Bwd URG Flags', 'Fwd Header Length', 'Bwd Header Length', 'Fwd Packets/s', 'Bwd Packets/s', 'Packet Length Min', 'Packet Length Max', 'Packet Length Mean', 'Packet Length Std', 'Packet Length Variance', 'FIN Flag Count', 'SYN Flag Count', 'RST Flag Count', 'PSH Flag Count', 'ACK Flag Count', 'URG Flag Count', 'CWE Flag Count', 'ECE Flag Count', 'Down/Up Ratio', 'Average Packet Size', 'Fwd Segment Size Avg', 'Bwd Segment Size Avg', 'Fwd Bytes/Bulk Avg', 'Fwd Packet/Bulk Avg', 'Fwd Bulk Rate Avg', 'Bwd Bytes/Bulk Avg', 'Bwd Packet/Bulk Avg', 'Bwd Bulk Rate Avg', 'Subflow Fwd Packets', 'Subflow Fwd Bytes', 'Subflow Bwd Packets', 'Subflow Bwd Bytes', 'FWD Init Win Bytes', 'Bwd Init Win Bytes', 'Fwd Act Data Pkts', 'Fwd Seg Size Min']\n",
        "print(real_columns)"
      ]
    },
    {
      "cell_type": "code",
      "execution_count": 38,
      "metadata": {
        "id": "-U8bkneGCgXM"
      },
      "outputs": [],
      "source": [
        "darknet[real_columns] = darknet[real_columns].astype(np.float64)"
      ]
    },
    {
      "cell_type": "code",
      "execution_count": 39,
      "metadata": {
        "colab": {
          "base_uri": "https://localhost:8080/"
        },
        "id": "U6ux2OhlDhC7",
        "outputId": "030a473b-294a-4100-9001-71d4d3020a00"
      },
      "outputs": [
        {
          "output_type": "execute_result",
          "data": {
            "text/plain": [
              "Index(['src_ip_1gram', 'src_ip_2gram', 'src_ip_3gram', 'dst_ip_1gram',\n",
              "       'dst_ip_2gram', 'dst_ip_3gram', 'Src Port', 'Dst Port', 'Protocol',\n",
              "       'Flow Duration', 'Total Fwd Packet', 'Total Bwd packets',\n",
              "       'Total Length of Fwd Packet', 'Total Length of Bwd Packet',\n",
              "       'Fwd Packet Length Max', 'Fwd Packet Length Min',\n",
              "       'Fwd Packet Length Mean', 'Fwd Packet Length Std',\n",
              "       'Bwd Packet Length Max', 'Bwd Packet Length Min',\n",
              "       'Bwd Packet Length Mean', 'Bwd Packet Length Std', 'Flow Bytes/s',\n",
              "       'Flow Packets/s', 'Flow IAT Mean', 'Flow IAT Std', 'Flow IAT Max',\n",
              "       'Flow IAT Min', 'Fwd IAT Total', 'Fwd IAT Mean', 'Fwd IAT Std',\n",
              "       'Fwd IAT Max', 'Fwd IAT Min', 'Bwd IAT Total', 'Bwd IAT Mean',\n",
              "       'Bwd IAT Std', 'Bwd IAT Max', 'Bwd IAT Min', 'Fwd PSH Flags',\n",
              "       'Bwd PSH Flags', 'Fwd URG Flags', 'Bwd URG Flags', 'Fwd Header Length',\n",
              "       'Bwd Header Length', 'Fwd Packets/s', 'Bwd Packets/s',\n",
              "       'Packet Length Min', 'Packet Length Max', 'Packet Length Mean',\n",
              "       'Packet Length Std', 'Packet Length Variance', 'FIN Flag Count',\n",
              "       'SYN Flag Count', 'RST Flag Count', 'PSH Flag Count', 'ACK Flag Count',\n",
              "       'URG Flag Count', 'CWE Flag Count', 'ECE Flag Count', 'Down/Up Ratio',\n",
              "       'Average Packet Size', 'Fwd Segment Size Avg', 'Bwd Segment Size Avg',\n",
              "       'Fwd Bytes/Bulk Avg', 'Fwd Packet/Bulk Avg', 'Fwd Bulk Rate Avg',\n",
              "       'Bwd Bytes/Bulk Avg', 'Bwd Packet/Bulk Avg', 'Bwd Bulk Rate Avg',\n",
              "       'Subflow Fwd Packets', 'Subflow Fwd Bytes', 'Subflow Bwd Packets',\n",
              "       'Subflow Bwd Bytes', 'FWD Init Win Bytes', 'Bwd Init Win Bytes',\n",
              "       'Fwd Act Data Pkts', 'Fwd Seg Size Min', 'Active Mean', 'Active Std',\n",
              "       'Active Max', 'Active Min', 'Idle Mean', 'Idle Std', 'Idle Max',\n",
              "       'Idle Min', 'Label', 'hour'],\n",
              "      dtype='object')"
            ]
          },
          "metadata": {},
          "execution_count": 39
        }
      ],
      "source": [
        "cols = np.concatenate((darknet.columns[81:], darknet.columns[:81]))\n",
        "darknet = darknet[cols]\n",
        "darknet.columns"
      ]
    },
    {
      "cell_type": "markdown",
      "metadata": {
        "id": "Cja07aSoEoOj"
      },
      "source": [
        "Hash encoding a las variables creadas de las direcciones IP\n"
      ]
    },
    {
      "cell_type": "code",
      "execution_count": 40,
      "metadata": {
        "colab": {
          "base_uri": "https://localhost:8080/"
        },
        "id": "1W1gnJmmEwUU",
        "outputId": "3b66a809-64e1-4649-8745-0b49c7dc19d0"
      },
      "outputs": [
        {
          "output_type": "stream",
          "name": "stdout",
          "text": [
            "['src_ip_1gram', 'src_ip_2gram', 'src_ip_3gram', 'dst_ip_1gram', 'dst_ip_2gram', 'dst_ip_3gram']\n"
          ]
        }
      ],
      "source": [
        "hash_enc_cols = ['src_ip_1gram', 'src_ip_2gram', 'src_ip_3gram', 'dst_ip_1gram',\n",
        " 'dst_ip_2gram', 'dst_ip_3gram']\n",
        "print(hash_enc_cols)"
      ]
    },
    {
      "cell_type": "code",
      "execution_count": 41,
      "metadata": {
        "colab": {
          "base_uri": "https://localhost:8080/"
        },
        "id": "dRJOveapFMKf",
        "outputId": "46995960-6904-4068-dfb3-3bda9b647923"
      },
      "outputs": [
        {
          "output_type": "stream",
          "name": "stdout",
          "text": [
            "Looking in indexes: https://pypi.org/simple, https://us-python.pkg.dev/colab-wheels/public/simple/\n",
            "Collecting category_encoders\n",
            "  Downloading category_encoders-2.6.0-py2.py3-none-any.whl (81 kB)\n",
            "\u001b[2K     \u001b[90m━━━━━━━━━━━━━━━━━━━━━━━━━━━━━━━━━━━━━━━━\u001b[0m \u001b[32m81.2/81.2 KB\u001b[0m \u001b[31m3.2 MB/s\u001b[0m eta \u001b[36m0:00:00\u001b[0m\n",
            "\u001b[?25hRequirement already satisfied: patsy>=0.5.1 in /usr/local/lib/python3.9/dist-packages (from category_encoders) (0.5.3)\n",
            "Requirement already satisfied: pandas>=1.0.5 in /usr/local/lib/python3.9/dist-packages (from category_encoders) (1.4.4)\n",
            "Requirement already satisfied: scipy>=1.0.0 in /usr/local/lib/python3.9/dist-packages (from category_encoders) (1.10.1)\n",
            "Requirement already satisfied: numpy>=1.14.0 in /usr/local/lib/python3.9/dist-packages (from category_encoders) (1.22.4)\n",
            "Requirement already satisfied: scikit-learn>=0.20.0 in /usr/local/lib/python3.9/dist-packages (from category_encoders) (1.2.2)\n",
            "Requirement already satisfied: statsmodels>=0.9.0 in /usr/local/lib/python3.9/dist-packages (from category_encoders) (0.13.5)\n",
            "Requirement already satisfied: pytz>=2020.1 in /usr/local/lib/python3.9/dist-packages (from pandas>=1.0.5->category_encoders) (2022.7.1)\n",
            "Requirement already satisfied: python-dateutil>=2.8.1 in /usr/local/lib/python3.9/dist-packages (from pandas>=1.0.5->category_encoders) (2.8.2)\n",
            "Requirement already satisfied: six in /usr/local/lib/python3.9/dist-packages (from patsy>=0.5.1->category_encoders) (1.16.0)\n",
            "Requirement already satisfied: joblib>=1.1.1 in /usr/local/lib/python3.9/dist-packages (from scikit-learn>=0.20.0->category_encoders) (1.1.1)\n",
            "Requirement already satisfied: threadpoolctl>=2.0.0 in /usr/local/lib/python3.9/dist-packages (from scikit-learn>=0.20.0->category_encoders) (3.1.0)\n",
            "Requirement already satisfied: packaging>=21.3 in /usr/local/lib/python3.9/dist-packages (from statsmodels>=0.9.0->category_encoders) (23.0)\n",
            "Installing collected packages: category_encoders\n",
            "Successfully installed category_encoders-2.6.0\n"
          ]
        }
      ],
      "source": [
        "!pip install category_encoders"
      ]
    },
    {
      "cell_type": "code",
      "execution_count": 42,
      "metadata": {
        "colab": {
          "base_uri": "https://localhost:8080/",
          "height": 316
        },
        "id": "XdIkz_A8E0vY",
        "outputId": "f94bd8a1-ad3e-4214-c5fa-18e9f43e0c11"
      },
      "outputs": [
        {
          "output_type": "execute_result",
          "data": {
            "text/plain": [
              "   col_0  col_1  col_2  col_3  col_4  col_5  col_6  col_7  col_8  col_9  ...  \\\n",
              "0      0      0      0      0      0      0      0      0      0      0  ...   \n",
              "1      0      0      0      0      0      0      0      0      0      0  ...   \n",
              "2      0      0      0      0      0      0      0      0      0      0  ...   \n",
              "3      0      0      0      0      0      0      0      0      0      0  ...   \n",
              "4      0      0      0      0      0      0      0      0      0      0  ...   \n",
              "\n",
              "   Active Mean  Active Std  Active Max  Active Min     Idle Mean  \\\n",
              "0            0           0           0           0  0.000000e+00   \n",
              "1            0           0           0           0  0.000000e+00   \n",
              "2            0           0           0           0  0.000000e+00   \n",
              "3            0           0           0           0  0.000000e+00   \n",
              "4            0           0           0           0  1.437765e+15   \n",
              "\n",
              "       Idle Std      Idle Max      Idle Min   Label  hour  \n",
              "0  0.000000e+00  0.000000e+00  0.000000e+00  Benign     4  \n",
              "1  0.000000e+00  0.000000e+00  0.000000e+00  Benign     4  \n",
              "2  0.000000e+00  0.000000e+00  0.000000e+00  Benign     4  \n",
              "3  0.000000e+00  0.000000e+00  0.000000e+00  Benign     4  \n",
              "4  3.117718e+06  1.437765e+15  1.437765e+15  Benign     4  \n",
              "\n",
              "[5 rows x 181 columns]"
            ],
            "text/html": [
              "\n",
              "  <div id=\"df-894d35e4-a7a6-4cab-9a39-e44730e6bed6\">\n",
              "    <div class=\"colab-df-container\">\n",
              "      <div>\n",
              "<style scoped>\n",
              "    .dataframe tbody tr th:only-of-type {\n",
              "        vertical-align: middle;\n",
              "    }\n",
              "\n",
              "    .dataframe tbody tr th {\n",
              "        vertical-align: top;\n",
              "    }\n",
              "\n",
              "    .dataframe thead th {\n",
              "        text-align: right;\n",
              "    }\n",
              "</style>\n",
              "<table border=\"1\" class=\"dataframe\">\n",
              "  <thead>\n",
              "    <tr style=\"text-align: right;\">\n",
              "      <th></th>\n",
              "      <th>col_0</th>\n",
              "      <th>col_1</th>\n",
              "      <th>col_2</th>\n",
              "      <th>col_3</th>\n",
              "      <th>col_4</th>\n",
              "      <th>col_5</th>\n",
              "      <th>col_6</th>\n",
              "      <th>col_7</th>\n",
              "      <th>col_8</th>\n",
              "      <th>col_9</th>\n",
              "      <th>...</th>\n",
              "      <th>Active Mean</th>\n",
              "      <th>Active Std</th>\n",
              "      <th>Active Max</th>\n",
              "      <th>Active Min</th>\n",
              "      <th>Idle Mean</th>\n",
              "      <th>Idle Std</th>\n",
              "      <th>Idle Max</th>\n",
              "      <th>Idle Min</th>\n",
              "      <th>Label</th>\n",
              "      <th>hour</th>\n",
              "    </tr>\n",
              "  </thead>\n",
              "  <tbody>\n",
              "    <tr>\n",
              "      <th>0</th>\n",
              "      <td>0</td>\n",
              "      <td>0</td>\n",
              "      <td>0</td>\n",
              "      <td>0</td>\n",
              "      <td>0</td>\n",
              "      <td>0</td>\n",
              "      <td>0</td>\n",
              "      <td>0</td>\n",
              "      <td>0</td>\n",
              "      <td>0</td>\n",
              "      <td>...</td>\n",
              "      <td>0</td>\n",
              "      <td>0</td>\n",
              "      <td>0</td>\n",
              "      <td>0</td>\n",
              "      <td>0.000000e+00</td>\n",
              "      <td>0.000000e+00</td>\n",
              "      <td>0.000000e+00</td>\n",
              "      <td>0.000000e+00</td>\n",
              "      <td>Benign</td>\n",
              "      <td>4</td>\n",
              "    </tr>\n",
              "    <tr>\n",
              "      <th>1</th>\n",
              "      <td>0</td>\n",
              "      <td>0</td>\n",
              "      <td>0</td>\n",
              "      <td>0</td>\n",
              "      <td>0</td>\n",
              "      <td>0</td>\n",
              "      <td>0</td>\n",
              "      <td>0</td>\n",
              "      <td>0</td>\n",
              "      <td>0</td>\n",
              "      <td>...</td>\n",
              "      <td>0</td>\n",
              "      <td>0</td>\n",
              "      <td>0</td>\n",
              "      <td>0</td>\n",
              "      <td>0.000000e+00</td>\n",
              "      <td>0.000000e+00</td>\n",
              "      <td>0.000000e+00</td>\n",
              "      <td>0.000000e+00</td>\n",
              "      <td>Benign</td>\n",
              "      <td>4</td>\n",
              "    </tr>\n",
              "    <tr>\n",
              "      <th>2</th>\n",
              "      <td>0</td>\n",
              "      <td>0</td>\n",
              "      <td>0</td>\n",
              "      <td>0</td>\n",
              "      <td>0</td>\n",
              "      <td>0</td>\n",
              "      <td>0</td>\n",
              "      <td>0</td>\n",
              "      <td>0</td>\n",
              "      <td>0</td>\n",
              "      <td>...</td>\n",
              "      <td>0</td>\n",
              "      <td>0</td>\n",
              "      <td>0</td>\n",
              "      <td>0</td>\n",
              "      <td>0.000000e+00</td>\n",
              "      <td>0.000000e+00</td>\n",
              "      <td>0.000000e+00</td>\n",
              "      <td>0.000000e+00</td>\n",
              "      <td>Benign</td>\n",
              "      <td>4</td>\n",
              "    </tr>\n",
              "    <tr>\n",
              "      <th>3</th>\n",
              "      <td>0</td>\n",
              "      <td>0</td>\n",
              "      <td>0</td>\n",
              "      <td>0</td>\n",
              "      <td>0</td>\n",
              "      <td>0</td>\n",
              "      <td>0</td>\n",
              "      <td>0</td>\n",
              "      <td>0</td>\n",
              "      <td>0</td>\n",
              "      <td>...</td>\n",
              "      <td>0</td>\n",
              "      <td>0</td>\n",
              "      <td>0</td>\n",
              "      <td>0</td>\n",
              "      <td>0.000000e+00</td>\n",
              "      <td>0.000000e+00</td>\n",
              "      <td>0.000000e+00</td>\n",
              "      <td>0.000000e+00</td>\n",
              "      <td>Benign</td>\n",
              "      <td>4</td>\n",
              "    </tr>\n",
              "    <tr>\n",
              "      <th>4</th>\n",
              "      <td>0</td>\n",
              "      <td>0</td>\n",
              "      <td>0</td>\n",
              "      <td>0</td>\n",
              "      <td>0</td>\n",
              "      <td>0</td>\n",
              "      <td>0</td>\n",
              "      <td>0</td>\n",
              "      <td>0</td>\n",
              "      <td>0</td>\n",
              "      <td>...</td>\n",
              "      <td>0</td>\n",
              "      <td>0</td>\n",
              "      <td>0</td>\n",
              "      <td>0</td>\n",
              "      <td>1.437765e+15</td>\n",
              "      <td>3.117718e+06</td>\n",
              "      <td>1.437765e+15</td>\n",
              "      <td>1.437765e+15</td>\n",
              "      <td>Benign</td>\n",
              "      <td>4</td>\n",
              "    </tr>\n",
              "  </tbody>\n",
              "</table>\n",
              "<p>5 rows × 181 columns</p>\n",
              "</div>\n",
              "      <button class=\"colab-df-convert\" onclick=\"convertToInteractive('df-894d35e4-a7a6-4cab-9a39-e44730e6bed6')\"\n",
              "              title=\"Convert this dataframe to an interactive table.\"\n",
              "              style=\"display:none;\">\n",
              "        \n",
              "  <svg xmlns=\"http://www.w3.org/2000/svg\" height=\"24px\"viewBox=\"0 0 24 24\"\n",
              "       width=\"24px\">\n",
              "    <path d=\"M0 0h24v24H0V0z\" fill=\"none\"/>\n",
              "    <path d=\"M18.56 5.44l.94 2.06.94-2.06 2.06-.94-2.06-.94-.94-2.06-.94 2.06-2.06.94zm-11 1L8.5 8.5l.94-2.06 2.06-.94-2.06-.94L8.5 2.5l-.94 2.06-2.06.94zm10 10l.94 2.06.94-2.06 2.06-.94-2.06-.94-.94-2.06-.94 2.06-2.06.94z\"/><path d=\"M17.41 7.96l-1.37-1.37c-.4-.4-.92-.59-1.43-.59-.52 0-1.04.2-1.43.59L10.3 9.45l-7.72 7.72c-.78.78-.78 2.05 0 2.83L4 21.41c.39.39.9.59 1.41.59.51 0 1.02-.2 1.41-.59l7.78-7.78 2.81-2.81c.8-.78.8-2.07 0-2.86zM5.41 20L4 18.59l7.72-7.72 1.47 1.35L5.41 20z\"/>\n",
              "  </svg>\n",
              "      </button>\n",
              "      \n",
              "  <style>\n",
              "    .colab-df-container {\n",
              "      display:flex;\n",
              "      flex-wrap:wrap;\n",
              "      gap: 12px;\n",
              "    }\n",
              "\n",
              "    .colab-df-convert {\n",
              "      background-color: #E8F0FE;\n",
              "      border: none;\n",
              "      border-radius: 50%;\n",
              "      cursor: pointer;\n",
              "      display: none;\n",
              "      fill: #1967D2;\n",
              "      height: 32px;\n",
              "      padding: 0 0 0 0;\n",
              "      width: 32px;\n",
              "    }\n",
              "\n",
              "    .colab-df-convert:hover {\n",
              "      background-color: #E2EBFA;\n",
              "      box-shadow: 0px 1px 2px rgba(60, 64, 67, 0.3), 0px 1px 3px 1px rgba(60, 64, 67, 0.15);\n",
              "      fill: #174EA6;\n",
              "    }\n",
              "\n",
              "    [theme=dark] .colab-df-convert {\n",
              "      background-color: #3B4455;\n",
              "      fill: #D2E3FC;\n",
              "    }\n",
              "\n",
              "    [theme=dark] .colab-df-convert:hover {\n",
              "      background-color: #434B5C;\n",
              "      box-shadow: 0px 1px 3px 1px rgba(0, 0, 0, 0.15);\n",
              "      filter: drop-shadow(0px 1px 2px rgba(0, 0, 0, 0.3));\n",
              "      fill: #FFFFFF;\n",
              "    }\n",
              "  </style>\n",
              "\n",
              "      <script>\n",
              "        const buttonEl =\n",
              "          document.querySelector('#df-894d35e4-a7a6-4cab-9a39-e44730e6bed6 button.colab-df-convert');\n",
              "        buttonEl.style.display =\n",
              "          google.colab.kernel.accessAllowed ? 'block' : 'none';\n",
              "\n",
              "        async function convertToInteractive(key) {\n",
              "          const element = document.querySelector('#df-894d35e4-a7a6-4cab-9a39-e44730e6bed6');\n",
              "          const dataTable =\n",
              "            await google.colab.kernel.invokeFunction('convertToInteractive',\n",
              "                                                     [key], {});\n",
              "          if (!dataTable) return;\n",
              "\n",
              "          const docLinkHtml = 'Like what you see? Visit the ' +\n",
              "            '<a target=\"_blank\" href=https://colab.research.google.com/notebooks/data_table.ipynb>data table notebook</a>'\n",
              "            + ' to learn more about interactive tables.';\n",
              "          element.innerHTML = '';\n",
              "          dataTable['output_type'] = 'display_data';\n",
              "          await google.colab.output.renderOutput(dataTable, element);\n",
              "          const docLink = document.createElement('div');\n",
              "          docLink.innerHTML = docLinkHtml;\n",
              "          element.appendChild(docLink);\n",
              "        }\n",
              "      </script>\n",
              "    </div>\n",
              "  </div>\n",
              "  "
            ]
          },
          "metadata": {},
          "execution_count": 42
        }
      ],
      "source": [
        "from category_encoders.hashing import HashingEncoder\n",
        "hash_enc = HashingEncoder(cols=hash_enc_cols, n_components=100).fit(darknet)\n",
        "darknet = hash_enc.transform(darknet)\n",
        "darknet.head()"
      ]
    },
    {
      "cell_type": "markdown",
      "metadata": {
        "id": "UGd7UT1OG5zm"
      },
      "source": [
        "Estandarizo los valores de las variables, para que sea más sencillo de modelizar los datos"
      ]
    },
    {
      "cell_type": "code",
      "execution_count": 43,
      "metadata": {
        "colab": {
          "base_uri": "https://localhost:8080/",
          "height": 351
        },
        "id": "7iwU33AJGybT",
        "outputId": "cfb04691-34e5-4662-e042-f2a884d29f33"
      },
      "outputs": [
        {
          "output_type": "execute_result",
          "data": {
            "text/plain": [
              "   Flow Duration  Total Fwd Packet  Total Bwd packets  \\\n",
              "0      -0.546503         -0.063838          -0.044949   \n",
              "1      -0.546498         -0.063838          -0.044949   \n",
              "2      -0.546497         -0.063838          -0.044949   \n",
              "3      -0.546499         -0.063838          -0.044949   \n",
              "4      -0.263579          0.184196           0.071742   \n",
              "\n",
              "   Total Length of Fwd Packet  Total Length of Bwd Packet  \\\n",
              "0                   -0.034644                   -0.028574   \n",
              "1                   -0.034644                   -0.028574   \n",
              "2                   -0.034644                   -0.028574   \n",
              "3                   -0.034644                   -0.028574   \n",
              "4                   -0.014800                   -0.027116   \n",
              "\n",
              "   Fwd Packet Length Max  Fwd Packet Length Min  Fwd Packet Length Mean  \\\n",
              "0              -0.321757              -0.498857               -0.316449   \n",
              "1              -0.321757              -0.498857               -0.316449   \n",
              "2              -0.321757              -0.498857               -0.316449   \n",
              "3              -0.321757              -0.498857               -0.316449   \n",
              "4              -0.120072              -0.498857                0.179864   \n",
              "\n",
              "   Fwd Packet Length Std  Bwd Packet Length Max  ...  Bwd Packet/Bulk Avg  \\\n",
              "0              -0.379414              -0.292364  ...            -0.052228   \n",
              "1              -0.379414              -0.292364  ...            -0.052228   \n",
              "2              -0.379414              -0.292364  ...            -0.052228   \n",
              "3              -0.379414              -0.292364  ...            -0.052228   \n",
              "4              -0.247301               0.340536  ...             0.164344   \n",
              "\n",
              "   Bwd Bulk Rate Avg  Subflow Fwd Packets  Subflow Fwd Bytes  \\\n",
              "0          -0.043209             -0.63408          -0.313202   \n",
              "1          -0.043209             -0.63408          -0.313202   \n",
              "2          -0.043209             -0.63408          -0.313202   \n",
              "3          -0.043209             -0.63408          -0.313202   \n",
              "4          -0.036900             -0.63408           0.158681   \n",
              "\n",
              "   Subflow Bwd Packets  Subflow Bwd Bytes  FWD Init Win Bytes  \\\n",
              "0                  0.0          -0.413042           -0.345299   \n",
              "1                  0.0          -0.413042           -0.335700   \n",
              "2                  0.0          -0.413042           -0.329435   \n",
              "3                  0.0          -0.413042           -0.333578   \n",
              "4                  0.0          -0.368395           -0.396832   \n",
              "\n",
              "   Bwd Init Win Bytes  Fwd Act Data Pkts  Fwd Seg Size Min  \n",
              "0           -0.095140          -0.061219          0.589641  \n",
              "1           -0.095140          -0.061219          0.589641  \n",
              "2           -0.095140          -0.061219          0.589641  \n",
              "3           -0.095140          -0.061219          0.589641  \n",
              "4            0.073136           0.305789          0.589641  \n",
              "\n",
              "[5 rows x 68 columns]"
            ],
            "text/html": [
              "\n",
              "  <div id=\"df-fafae3fe-d11e-41b3-9d1a-fc32e5abe46c\">\n",
              "    <div class=\"colab-df-container\">\n",
              "      <div>\n",
              "<style scoped>\n",
              "    .dataframe tbody tr th:only-of-type {\n",
              "        vertical-align: middle;\n",
              "    }\n",
              "\n",
              "    .dataframe tbody tr th {\n",
              "        vertical-align: top;\n",
              "    }\n",
              "\n",
              "    .dataframe thead th {\n",
              "        text-align: right;\n",
              "    }\n",
              "</style>\n",
              "<table border=\"1\" class=\"dataframe\">\n",
              "  <thead>\n",
              "    <tr style=\"text-align: right;\">\n",
              "      <th></th>\n",
              "      <th>Flow Duration</th>\n",
              "      <th>Total Fwd Packet</th>\n",
              "      <th>Total Bwd packets</th>\n",
              "      <th>Total Length of Fwd Packet</th>\n",
              "      <th>Total Length of Bwd Packet</th>\n",
              "      <th>Fwd Packet Length Max</th>\n",
              "      <th>Fwd Packet Length Min</th>\n",
              "      <th>Fwd Packet Length Mean</th>\n",
              "      <th>Fwd Packet Length Std</th>\n",
              "      <th>Bwd Packet Length Max</th>\n",
              "      <th>...</th>\n",
              "      <th>Bwd Packet/Bulk Avg</th>\n",
              "      <th>Bwd Bulk Rate Avg</th>\n",
              "      <th>Subflow Fwd Packets</th>\n",
              "      <th>Subflow Fwd Bytes</th>\n",
              "      <th>Subflow Bwd Packets</th>\n",
              "      <th>Subflow Bwd Bytes</th>\n",
              "      <th>FWD Init Win Bytes</th>\n",
              "      <th>Bwd Init Win Bytes</th>\n",
              "      <th>Fwd Act Data Pkts</th>\n",
              "      <th>Fwd Seg Size Min</th>\n",
              "    </tr>\n",
              "  </thead>\n",
              "  <tbody>\n",
              "    <tr>\n",
              "      <th>0</th>\n",
              "      <td>-0.546503</td>\n",
              "      <td>-0.063838</td>\n",
              "      <td>-0.044949</td>\n",
              "      <td>-0.034644</td>\n",
              "      <td>-0.028574</td>\n",
              "      <td>-0.321757</td>\n",
              "      <td>-0.498857</td>\n",
              "      <td>-0.316449</td>\n",
              "      <td>-0.379414</td>\n",
              "      <td>-0.292364</td>\n",
              "      <td>...</td>\n",
              "      <td>-0.052228</td>\n",
              "      <td>-0.043209</td>\n",
              "      <td>-0.63408</td>\n",
              "      <td>-0.313202</td>\n",
              "      <td>0.0</td>\n",
              "      <td>-0.413042</td>\n",
              "      <td>-0.345299</td>\n",
              "      <td>-0.095140</td>\n",
              "      <td>-0.061219</td>\n",
              "      <td>0.589641</td>\n",
              "    </tr>\n",
              "    <tr>\n",
              "      <th>1</th>\n",
              "      <td>-0.546498</td>\n",
              "      <td>-0.063838</td>\n",
              "      <td>-0.044949</td>\n",
              "      <td>-0.034644</td>\n",
              "      <td>-0.028574</td>\n",
              "      <td>-0.321757</td>\n",
              "      <td>-0.498857</td>\n",
              "      <td>-0.316449</td>\n",
              "      <td>-0.379414</td>\n",
              "      <td>-0.292364</td>\n",
              "      <td>...</td>\n",
              "      <td>-0.052228</td>\n",
              "      <td>-0.043209</td>\n",
              "      <td>-0.63408</td>\n",
              "      <td>-0.313202</td>\n",
              "      <td>0.0</td>\n",
              "      <td>-0.413042</td>\n",
              "      <td>-0.335700</td>\n",
              "      <td>-0.095140</td>\n",
              "      <td>-0.061219</td>\n",
              "      <td>0.589641</td>\n",
              "    </tr>\n",
              "    <tr>\n",
              "      <th>2</th>\n",
              "      <td>-0.546497</td>\n",
              "      <td>-0.063838</td>\n",
              "      <td>-0.044949</td>\n",
              "      <td>-0.034644</td>\n",
              "      <td>-0.028574</td>\n",
              "      <td>-0.321757</td>\n",
              "      <td>-0.498857</td>\n",
              "      <td>-0.316449</td>\n",
              "      <td>-0.379414</td>\n",
              "      <td>-0.292364</td>\n",
              "      <td>...</td>\n",
              "      <td>-0.052228</td>\n",
              "      <td>-0.043209</td>\n",
              "      <td>-0.63408</td>\n",
              "      <td>-0.313202</td>\n",
              "      <td>0.0</td>\n",
              "      <td>-0.413042</td>\n",
              "      <td>-0.329435</td>\n",
              "      <td>-0.095140</td>\n",
              "      <td>-0.061219</td>\n",
              "      <td>0.589641</td>\n",
              "    </tr>\n",
              "    <tr>\n",
              "      <th>3</th>\n",
              "      <td>-0.546499</td>\n",
              "      <td>-0.063838</td>\n",
              "      <td>-0.044949</td>\n",
              "      <td>-0.034644</td>\n",
              "      <td>-0.028574</td>\n",
              "      <td>-0.321757</td>\n",
              "      <td>-0.498857</td>\n",
              "      <td>-0.316449</td>\n",
              "      <td>-0.379414</td>\n",
              "      <td>-0.292364</td>\n",
              "      <td>...</td>\n",
              "      <td>-0.052228</td>\n",
              "      <td>-0.043209</td>\n",
              "      <td>-0.63408</td>\n",
              "      <td>-0.313202</td>\n",
              "      <td>0.0</td>\n",
              "      <td>-0.413042</td>\n",
              "      <td>-0.333578</td>\n",
              "      <td>-0.095140</td>\n",
              "      <td>-0.061219</td>\n",
              "      <td>0.589641</td>\n",
              "    </tr>\n",
              "    <tr>\n",
              "      <th>4</th>\n",
              "      <td>-0.263579</td>\n",
              "      <td>0.184196</td>\n",
              "      <td>0.071742</td>\n",
              "      <td>-0.014800</td>\n",
              "      <td>-0.027116</td>\n",
              "      <td>-0.120072</td>\n",
              "      <td>-0.498857</td>\n",
              "      <td>0.179864</td>\n",
              "      <td>-0.247301</td>\n",
              "      <td>0.340536</td>\n",
              "      <td>...</td>\n",
              "      <td>0.164344</td>\n",
              "      <td>-0.036900</td>\n",
              "      <td>-0.63408</td>\n",
              "      <td>0.158681</td>\n",
              "      <td>0.0</td>\n",
              "      <td>-0.368395</td>\n",
              "      <td>-0.396832</td>\n",
              "      <td>0.073136</td>\n",
              "      <td>0.305789</td>\n",
              "      <td>0.589641</td>\n",
              "    </tr>\n",
              "  </tbody>\n",
              "</table>\n",
              "<p>5 rows × 68 columns</p>\n",
              "</div>\n",
              "      <button class=\"colab-df-convert\" onclick=\"convertToInteractive('df-fafae3fe-d11e-41b3-9d1a-fc32e5abe46c')\"\n",
              "              title=\"Convert this dataframe to an interactive table.\"\n",
              "              style=\"display:none;\">\n",
              "        \n",
              "  <svg xmlns=\"http://www.w3.org/2000/svg\" height=\"24px\"viewBox=\"0 0 24 24\"\n",
              "       width=\"24px\">\n",
              "    <path d=\"M0 0h24v24H0V0z\" fill=\"none\"/>\n",
              "    <path d=\"M18.56 5.44l.94 2.06.94-2.06 2.06-.94-2.06-.94-.94-2.06-.94 2.06-2.06.94zm-11 1L8.5 8.5l.94-2.06 2.06-.94-2.06-.94L8.5 2.5l-.94 2.06-2.06.94zm10 10l.94 2.06.94-2.06 2.06-.94-2.06-.94-.94-2.06-.94 2.06-2.06.94z\"/><path d=\"M17.41 7.96l-1.37-1.37c-.4-.4-.92-.59-1.43-.59-.52 0-1.04.2-1.43.59L10.3 9.45l-7.72 7.72c-.78.78-.78 2.05 0 2.83L4 21.41c.39.39.9.59 1.41.59.51 0 1.02-.2 1.41-.59l7.78-7.78 2.81-2.81c.8-.78.8-2.07 0-2.86zM5.41 20L4 18.59l7.72-7.72 1.47 1.35L5.41 20z\"/>\n",
              "  </svg>\n",
              "      </button>\n",
              "      \n",
              "  <style>\n",
              "    .colab-df-container {\n",
              "      display:flex;\n",
              "      flex-wrap:wrap;\n",
              "      gap: 12px;\n",
              "    }\n",
              "\n",
              "    .colab-df-convert {\n",
              "      background-color: #E8F0FE;\n",
              "      border: none;\n",
              "      border-radius: 50%;\n",
              "      cursor: pointer;\n",
              "      display: none;\n",
              "      fill: #1967D2;\n",
              "      height: 32px;\n",
              "      padding: 0 0 0 0;\n",
              "      width: 32px;\n",
              "    }\n",
              "\n",
              "    .colab-df-convert:hover {\n",
              "      background-color: #E2EBFA;\n",
              "      box-shadow: 0px 1px 2px rgba(60, 64, 67, 0.3), 0px 1px 3px 1px rgba(60, 64, 67, 0.15);\n",
              "      fill: #174EA6;\n",
              "    }\n",
              "\n",
              "    [theme=dark] .colab-df-convert {\n",
              "      background-color: #3B4455;\n",
              "      fill: #D2E3FC;\n",
              "    }\n",
              "\n",
              "    [theme=dark] .colab-df-convert:hover {\n",
              "      background-color: #434B5C;\n",
              "      box-shadow: 0px 1px 3px 1px rgba(0, 0, 0, 0.15);\n",
              "      filter: drop-shadow(0px 1px 2px rgba(0, 0, 0, 0.3));\n",
              "      fill: #FFFFFF;\n",
              "    }\n",
              "  </style>\n",
              "\n",
              "      <script>\n",
              "        const buttonEl =\n",
              "          document.querySelector('#df-fafae3fe-d11e-41b3-9d1a-fc32e5abe46c button.colab-df-convert');\n",
              "        buttonEl.style.display =\n",
              "          google.colab.kernel.accessAllowed ? 'block' : 'none';\n",
              "\n",
              "        async function convertToInteractive(key) {\n",
              "          const element = document.querySelector('#df-fafae3fe-d11e-41b3-9d1a-fc32e5abe46c');\n",
              "          const dataTable =\n",
              "            await google.colab.kernel.invokeFunction('convertToInteractive',\n",
              "                                                     [key], {});\n",
              "          if (!dataTable) return;\n",
              "\n",
              "          const docLinkHtml = 'Like what you see? Visit the ' +\n",
              "            '<a target=\"_blank\" href=https://colab.research.google.com/notebooks/data_table.ipynb>data table notebook</a>'\n",
              "            + ' to learn more about interactive tables.';\n",
              "          element.innerHTML = '';\n",
              "          dataTable['output_type'] = 'display_data';\n",
              "          await google.colab.output.renderOutput(dataTable, element);\n",
              "          const docLink = document.createElement('div');\n",
              "          docLink.innerHTML = docLinkHtml;\n",
              "          element.appendChild(docLink);\n",
              "        }\n",
              "      </script>\n",
              "    </div>\n",
              "  </div>\n",
              "  "
            ]
          },
          "metadata": {},
          "execution_count": 43
        }
      ],
      "source": [
        "scaler = StandardScaler().fit(darknet[real_columns])\n",
        "darknet[real_columns] = scaler.transform(darknet[real_columns])\n",
        "darknet[real_columns].head()"
      ]
    },
    {
      "cell_type": "code",
      "execution_count": 44,
      "metadata": {
        "colab": {
          "base_uri": "https://localhost:8080/"
        },
        "id": "WlhIg01sJgov",
        "outputId": "c44bb901-a7c6-41f4-be35-bfbb16400ec8"
      },
      "outputs": [
        {
          "output_type": "stream",
          "name": "stdout",
          "text": [
            "Series([], dtype: float64)\n"
          ]
        }
      ],
      "source": [
        "darknet = darknet.dropna()\n",
        "print(darknet[darknet.columns[darknet.isna().sum()>0]].isna().sum())"
      ]
    },
    {
      "cell_type": "markdown",
      "metadata": {
        "id": "4jqrMgtIBxKi"
      },
      "source": [
        "2.7. Tipología de los datos"
      ]
    },
    {
      "cell_type": "code",
      "execution_count": 45,
      "metadata": {
        "colab": {
          "base_uri": "https://localhost:8080/"
        },
        "id": "pHT-2KY-Bu3n",
        "outputId": "cb822776-0799-499c-addc-6f3c83da6b8e"
      },
      "outputs": [
        {
          "output_type": "stream",
          "name": "stdout",
          "text": [
            "<class 'pandas.core.frame.DataFrame'>\n",
            "Int64Index: 141481 entries, 0 to 141529\n",
            "Columns: 181 entries, col_0 to hour\n",
            "dtypes: float64(72), int64(108), object(1)\n",
            "memory usage: 196.5+ MB\n"
          ]
        }
      ],
      "source": [
        "darknet.info()"
      ]
    },
    {
      "cell_type": "code",
      "execution_count": 46,
      "metadata": {
        "colab": {
          "base_uri": "https://localhost:8080/"
        },
        "id": "BLnlba_QCG_-",
        "outputId": "c71bdfb4-cd44-425b-fafa-a756baae9fd9"
      },
      "outputs": [
        {
          "output_type": "stream",
          "name": "stdout",
          "text": [
            "\u001b[1mcol_0 \n",
            "--------------------\u001b[0m\n",
            "0    137428\n",
            "1      4053\n",
            "Name: col_0, dtype: int64 \n",
            "\n",
            "\u001b[1mcol_1 \n",
            "--------------------\u001b[0m\n",
            "0    138604\n",
            "1      2439\n",
            "2       438\n",
            "Name: col_1, dtype: int64 \n",
            "\n",
            "\u001b[1mcol_2 \n",
            "--------------------\u001b[0m\n",
            "0    139577\n",
            "1      1887\n",
            "2        17\n",
            "Name: col_2, dtype: int64 \n",
            "\n",
            "\u001b[1mcol_3 \n",
            "--------------------\u001b[0m\n",
            "0    136533\n",
            "1      4873\n",
            "2        75\n",
            "Name: col_3, dtype: int64 \n",
            "\n",
            "\u001b[1mcol_4 \n",
            "--------------------\u001b[0m\n",
            "0    130120\n",
            "1     11361\n",
            "Name: col_4, dtype: int64 \n",
            "\n",
            "\u001b[1mcol_5 \n",
            "--------------------\u001b[0m\n",
            "0    139865\n",
            "1      1615\n",
            "2         1\n",
            "Name: col_5, dtype: int64 \n",
            "\n",
            "\u001b[1mcol_6 \n",
            "--------------------\u001b[0m\n",
            "0    139032\n",
            "1      2448\n",
            "2         1\n",
            "Name: col_6, dtype: int64 \n",
            "\n",
            "\u001b[1mcol_7 \n",
            "--------------------\u001b[0m\n",
            "0    138847\n",
            "1      2540\n",
            "2        94\n",
            "Name: col_7, dtype: int64 \n",
            "\n",
            "\u001b[1mcol_8 \n",
            "--------------------\u001b[0m\n",
            "0    138906\n",
            "1      2565\n",
            "2        10\n",
            "Name: col_8, dtype: int64 \n",
            "\n",
            "\u001b[1mcol_9 \n",
            "--------------------\u001b[0m\n",
            "0    115546\n",
            "1     23796\n",
            "2      1903\n",
            "3       236\n",
            "Name: col_9, dtype: int64 \n",
            "\n",
            "\u001b[1mcol_10 \n",
            "--------------------\u001b[0m\n",
            "0    139707\n",
            "1      1692\n",
            "2        82\n",
            "Name: col_10, dtype: int64 \n",
            "\n",
            "\u001b[1mcol_11 \n",
            "--------------------\u001b[0m\n",
            "0    136244\n",
            "1      5097\n",
            "2       140\n",
            "Name: col_11, dtype: int64 \n",
            "\n",
            "\u001b[1mcol_12 \n",
            "--------------------\u001b[0m\n",
            "0    132165\n",
            "1      9252\n",
            "2        64\n",
            "Name: col_12, dtype: int64 \n",
            "\n",
            "\u001b[1mcol_13 \n",
            "--------------------\u001b[0m\n",
            "0    139854\n",
            "1      1608\n",
            "2        19\n",
            "Name: col_13, dtype: int64 \n",
            "\n",
            "\u001b[1mcol_14 \n",
            "--------------------\u001b[0m\n",
            "0    138418\n",
            "1      3063\n",
            "Name: col_14, dtype: int64 \n",
            "\n",
            "\u001b[1mcol_15 \n",
            "--------------------\u001b[0m\n",
            "0    137428\n",
            "1      4031\n",
            "2        22\n",
            "Name: col_15, dtype: int64 \n",
            "\n",
            "\u001b[1mcol_16 \n",
            "--------------------\u001b[0m\n",
            "0    135465\n",
            "1      5992\n",
            "2        24\n",
            "Name: col_16, dtype: int64 \n",
            "\n",
            "\u001b[1mcol_17 \n",
            "--------------------\u001b[0m\n",
            "0    133278\n",
            "1      8149\n",
            "2        54\n",
            "Name: col_17, dtype: int64 \n",
            "\n",
            "\u001b[1mcol_18 \n",
            "--------------------\u001b[0m\n",
            "0    137993\n",
            "1      3482\n",
            "2         6\n",
            "Name: col_18, dtype: int64 \n",
            "\n",
            "\u001b[1mcol_19 \n",
            "--------------------\u001b[0m\n",
            "0    137134\n",
            "1      4323\n",
            "2        24\n",
            "Name: col_19, dtype: int64 \n",
            "\n",
            "\u001b[1mcol_20 \n",
            "--------------------\u001b[0m\n",
            "0    139688\n",
            "1      1785\n",
            "2         8\n",
            "Name: col_20, dtype: int64 \n",
            "\n",
            "\u001b[1mcol_21 \n",
            "--------------------\u001b[0m\n",
            "0    106314\n",
            "1     28168\n",
            "2      6999\n",
            "Name: col_21, dtype: int64 \n",
            "\n",
            "\u001b[1mcol_22 \n",
            "--------------------\u001b[0m\n",
            "0    140315\n",
            "1      1166\n",
            "Name: col_22, dtype: int64 \n",
            "\n",
            "\u001b[1mcol_23 \n",
            "--------------------\u001b[0m\n",
            "0    139855\n",
            "1      1626\n",
            "Name: col_23, dtype: int64 \n",
            "\n",
            "\u001b[1mcol_24 \n",
            "--------------------\u001b[0m\n",
            "1    103048\n",
            "0     23171\n",
            "2     15249\n",
            "3        13\n",
            "Name: col_24, dtype: int64 \n",
            "\n",
            "\u001b[1mcol_25 \n",
            "--------------------\u001b[0m\n",
            "0    140025\n",
            "1      1456\n",
            "Name: col_25, dtype: int64 \n",
            "\n",
            "\u001b[1mcol_26 \n",
            "--------------------\u001b[0m\n",
            "0    139753\n",
            "1      1728\n",
            "Name: col_26, dtype: int64 \n",
            "\n",
            "\u001b[1mcol_27 \n",
            "--------------------\u001b[0m\n",
            "0    139911\n",
            "1      1532\n",
            "2        38\n",
            "Name: col_27, dtype: int64 \n",
            "\n",
            "\u001b[1mcol_28 \n",
            "--------------------\u001b[0m\n",
            "0    139959\n",
            "1      1522\n",
            "Name: col_28, dtype: int64 \n",
            "\n",
            "\u001b[1mcol_29 \n",
            "--------------------\u001b[0m\n",
            "0    138425\n",
            "1      3031\n",
            "2        25\n",
            "Name: col_29, dtype: int64 \n",
            "\n",
            "\u001b[1mcol_30 \n",
            "--------------------\u001b[0m\n",
            "0    140151\n",
            "1      1324\n",
            "2         6\n",
            "Name: col_30, dtype: int64 \n",
            "\n",
            "\u001b[1mcol_31 \n",
            "--------------------\u001b[0m\n",
            "0    139099\n",
            "1      2257\n",
            "2       125\n",
            "Name: col_31, dtype: int64 \n",
            "\n",
            "\u001b[1mcol_32 \n",
            "--------------------\u001b[0m\n",
            "0    137643\n",
            "1      3674\n",
            "2       164\n",
            "Name: col_32, dtype: int64 \n",
            "\n",
            "\u001b[1mcol_33 \n",
            "--------------------\u001b[0m\n",
            "0    139972\n",
            "1      1505\n",
            "2         4\n",
            "Name: col_33, dtype: int64 \n",
            "\n",
            "\u001b[1mcol_34 \n",
            "--------------------\u001b[0m\n",
            "0    129225\n",
            "1     12249\n",
            "2         7\n",
            "Name: col_34, dtype: int64 \n",
            "\n",
            "\u001b[1mcol_35 \n",
            "--------------------\u001b[0m\n",
            "0    129623\n",
            "1     11824\n",
            "2        34\n",
            "Name: col_35, dtype: int64 \n",
            "\n",
            "\u001b[1mcol_36 \n",
            "--------------------\u001b[0m\n",
            "0    139004\n",
            "1      2427\n",
            "2        50\n",
            "Name: col_36, dtype: int64 \n",
            "\n",
            "\u001b[1mcol_37 \n",
            "--------------------\u001b[0m\n",
            "0    139014\n",
            "1      2456\n",
            "2        11\n",
            "Name: col_37, dtype: int64 \n",
            "\n",
            "\u001b[1mcol_38 \n",
            "--------------------\u001b[0m\n",
            "0    138674\n",
            "1      2782\n",
            "2        25\n",
            "Name: col_38, dtype: int64 \n",
            "\n",
            "\u001b[1mcol_39 \n",
            "--------------------\u001b[0m\n",
            "0    137583\n",
            "1      3890\n",
            "2         8\n",
            "Name: col_39, dtype: int64 \n",
            "\n",
            "\u001b[1mcol_40 \n",
            "--------------------\u001b[0m\n",
            "0    139673\n",
            "1      1808\n",
            "Name: col_40, dtype: int64 \n",
            "\n",
            "\u001b[1mcol_41 \n",
            "--------------------\u001b[0m\n",
            "0    138279\n",
            "1      3202\n",
            "Name: col_41, dtype: int64 \n",
            "\n",
            "\u001b[1mcol_42 \n",
            "--------------------\u001b[0m\n",
            "0    139548\n",
            "1      1933\n",
            "Name: col_42, dtype: int64 \n",
            "\n",
            "\u001b[1mcol_43 \n",
            "--------------------\u001b[0m\n",
            "0    137630\n",
            "1      3839\n",
            "2        12\n",
            "Name: col_43, dtype: int64 \n",
            "\n",
            "\u001b[1mcol_44 \n",
            "--------------------\u001b[0m\n",
            "0    139173\n",
            "1      2308\n",
            "Name: col_44, dtype: int64 \n",
            "\n",
            "\u001b[1mcol_45 \n",
            "--------------------\u001b[0m\n",
            "0    134929\n",
            "1      6436\n",
            "2       116\n",
            "Name: col_45, dtype: int64 \n",
            "\n",
            "\u001b[1mcol_46 \n",
            "--------------------\u001b[0m\n",
            "0    133587\n",
            "1      7862\n",
            "2        32\n",
            "Name: col_46, dtype: int64 \n",
            "\n",
            "\u001b[1mcol_47 \n",
            "--------------------\u001b[0m\n",
            "0    138576\n",
            "1      2865\n",
            "2        40\n",
            "Name: col_47, dtype: int64 \n",
            "\n",
            "\u001b[1mcol_48 \n",
            "--------------------\u001b[0m\n",
            "0    137093\n",
            "1      4379\n",
            "2         9\n",
            "Name: col_48, dtype: int64 \n",
            "\n",
            "\u001b[1mcol_49 \n",
            "--------------------\u001b[0m\n",
            "1    79497\n",
            "0    48142\n",
            "2    13842\n",
            "Name: col_49, dtype: int64 \n",
            "\n",
            "\u001b[1mcol_50 \n",
            "--------------------\u001b[0m\n",
            "0    105891\n",
            "1     28631\n",
            "2      6959\n",
            "Name: col_50, dtype: int64 \n",
            "\n",
            "\u001b[1mcol_51 \n",
            "--------------------\u001b[0m\n",
            "0    138757\n",
            "1      2714\n",
            "2        10\n",
            "Name: col_51, dtype: int64 \n",
            "\n",
            "\u001b[1mcol_52 \n",
            "--------------------\u001b[0m\n",
            "0    139144\n",
            "1      2337\n",
            "Name: col_52, dtype: int64 \n",
            "\n",
            "\u001b[1mcol_53 \n",
            "--------------------\u001b[0m\n",
            "0    139158\n",
            "1      2319\n",
            "2         4\n",
            "Name: col_53, dtype: int64 \n",
            "\n",
            "\u001b[1mcol_54 \n",
            "--------------------\u001b[0m\n",
            "0    134387\n",
            "1      6877\n",
            "2       217\n",
            "Name: col_54, dtype: int64 \n",
            "\n",
            "\u001b[1mcol_55 \n",
            "--------------------\u001b[0m\n",
            "0    138897\n",
            "1      2580\n",
            "2         4\n",
            "Name: col_55, dtype: int64 \n",
            "\n",
            "\u001b[1mcol_56 \n",
            "--------------------\u001b[0m\n",
            "0    139164\n",
            "1      2317\n",
            "Name: col_56, dtype: int64 \n",
            "\n",
            "\u001b[1mcol_57 \n",
            "--------------------\u001b[0m\n",
            "0    136219\n",
            "1      5182\n",
            "2        80\n",
            "Name: col_57, dtype: int64 \n",
            "\n",
            "\u001b[1mcol_58 \n",
            "--------------------\u001b[0m\n",
            "0    129703\n",
            "1     11656\n",
            "2       122\n",
            "Name: col_58, dtype: int64 \n",
            "\n",
            "\u001b[1mcol_59 \n",
            "--------------------\u001b[0m\n",
            "0    140086\n",
            "1      1395\n",
            "Name: col_59, dtype: int64 \n",
            "\n",
            "\u001b[1mcol_60 \n",
            "--------------------\u001b[0m\n",
            "0    140439\n",
            "1      1041\n",
            "2         1\n",
            "Name: col_60, dtype: int64 \n",
            "\n",
            "\u001b[1mcol_61 \n",
            "--------------------\u001b[0m\n",
            "0    140228\n",
            "1      1251\n",
            "2         2\n",
            "Name: col_61, dtype: int64 \n",
            "\n",
            "\u001b[1mcol_62 \n",
            "--------------------\u001b[0m\n",
            "0    138762\n",
            "1      2719\n",
            "Name: col_62, dtype: int64 \n",
            "\n",
            "\u001b[1mcol_63 \n",
            "--------------------\u001b[0m\n",
            "0    139664\n",
            "1      1817\n",
            "Name: col_63, dtype: int64 \n",
            "\n",
            "\u001b[1mcol_64 \n",
            "--------------------\u001b[0m\n",
            "0    139840\n",
            "1      1640\n",
            "2         1\n",
            "Name: col_64, dtype: int64 \n",
            "\n",
            "\u001b[1mcol_65 \n",
            "--------------------\u001b[0m\n",
            "0    138373\n",
            "1      3108\n",
            "Name: col_65, dtype: int64 \n",
            "\n",
            "\u001b[1mcol_66 \n",
            "--------------------\u001b[0m\n",
            "0    140198\n",
            "1      1282\n",
            "2         1\n",
            "Name: col_66, dtype: int64 \n",
            "\n",
            "\u001b[1mcol_67 \n",
            "--------------------\u001b[0m\n",
            "0    140236\n",
            "1      1223\n",
            "2        22\n",
            "Name: col_67, dtype: int64 \n",
            "\n",
            "\u001b[1mcol_68 \n",
            "--------------------\u001b[0m\n",
            "0    139569\n",
            "1      1912\n",
            "Name: col_68, dtype: int64 \n",
            "\n",
            "\u001b[1mcol_69 \n",
            "--------------------\u001b[0m\n",
            "0    135681\n",
            "1      5793\n",
            "2         7\n",
            "Name: col_69, dtype: int64 \n",
            "\n",
            "\u001b[1mcol_70 \n",
            "--------------------\u001b[0m\n",
            "0    139356\n",
            "1      2125\n",
            "Name: col_70, dtype: int64 \n",
            "\n",
            "\u001b[1mcol_71 \n",
            "--------------------\u001b[0m\n",
            "0    137117\n",
            "1      4298\n",
            "2        66\n",
            "Name: col_71, dtype: int64 \n",
            "\n",
            "\u001b[1mcol_72 \n",
            "--------------------\u001b[0m\n",
            "0    139448\n",
            "1      2023\n",
            "2        10\n",
            "Name: col_72, dtype: int64 \n",
            "\n",
            "\u001b[1mcol_73 \n",
            "--------------------\u001b[0m\n",
            "0    138317\n",
            "1      3058\n",
            "2       106\n",
            "Name: col_73, dtype: int64 \n",
            "\n",
            "\u001b[1mcol_74 \n",
            "--------------------\u001b[0m\n",
            "0    138730\n",
            "1      2664\n",
            "2        87\n",
            "Name: col_74, dtype: int64 \n",
            "\n",
            "\u001b[1mcol_75 \n",
            "--------------------\u001b[0m\n",
            "0    137140\n",
            "1      4319\n",
            "2        22\n",
            "Name: col_75, dtype: int64 \n",
            "\n",
            "\u001b[1mcol_76 \n",
            "--------------------\u001b[0m\n",
            "0    126642\n",
            "1     14699\n",
            "2       140\n",
            "Name: col_76, dtype: int64 \n",
            "\n",
            "\u001b[1mcol_77 \n",
            "--------------------\u001b[0m\n",
            "0    135778\n",
            "1      5697\n",
            "2         6\n",
            "Name: col_77, dtype: int64 \n",
            "\n",
            "\u001b[1mcol_78 \n",
            "--------------------\u001b[0m\n",
            "0    139816\n",
            "1      1665\n",
            "Name: col_78, dtype: int64 \n",
            "\n",
            "\u001b[1mcol_79 \n",
            "--------------------\u001b[0m\n",
            "0    140095\n",
            "1      1376\n",
            "2        10\n",
            "Name: col_79, dtype: int64 \n",
            "\n",
            "\u001b[1mcol_80 \n",
            "--------------------\u001b[0m\n",
            "0    137729\n",
            "1      3748\n",
            "2         4\n",
            "Name: col_80, dtype: int64 \n",
            "\n",
            "\u001b[1mcol_81 \n",
            "--------------------\u001b[0m\n",
            "0    139582\n",
            "1      1899\n",
            "Name: col_81, dtype: int64 \n",
            "\n",
            "\u001b[1mcol_82 \n",
            "--------------------\u001b[0m\n",
            "0    138661\n",
            "1      2819\n",
            "2         1\n",
            "Name: col_82, dtype: int64 \n",
            "\n",
            "\u001b[1mcol_83 \n",
            "--------------------\u001b[0m\n",
            "0    139198\n",
            "1      2283\n",
            "Name: col_83, dtype: int64 \n",
            "\n",
            "\u001b[1mcol_84 \n",
            "--------------------\u001b[0m\n",
            "0    140429\n",
            "1      1048\n",
            "2         4\n",
            "Name: col_84, dtype: int64 \n",
            "\n",
            "\u001b[1mcol_85 \n",
            "--------------------\u001b[0m\n",
            "0    137723\n",
            "1      3753\n",
            "2         5\n",
            "Name: col_85, dtype: int64 \n",
            "\n",
            "\u001b[1mcol_86 \n",
            "--------------------\u001b[0m\n",
            "0    129516\n",
            "1     11940\n",
            "2        25\n",
            "Name: col_86, dtype: int64 \n",
            "\n",
            "\u001b[1mcol_87 \n",
            "--------------------\u001b[0m\n",
            "0    140103\n",
            "1      1370\n",
            "2         8\n",
            "Name: col_87, dtype: int64 \n",
            "\n",
            "\u001b[1mcol_88 \n",
            "--------------------\u001b[0m\n",
            "0    134808\n",
            "1      6195\n",
            "2       478\n",
            "Name: col_88, dtype: int64 \n",
            "\n",
            "\u001b[1mcol_89 \n",
            "--------------------\u001b[0m\n",
            "0    137732\n",
            "1      3749\n",
            "Name: col_89, dtype: int64 \n",
            "\n",
            "\u001b[1mcol_90 \n",
            "--------------------\u001b[0m\n",
            "0    137307\n",
            "1      4174\n",
            "Name: col_90, dtype: int64 \n",
            "\n",
            "\u001b[1mcol_91 \n",
            "--------------------\u001b[0m\n",
            "0    114679\n",
            "1     26034\n",
            "2       768\n",
            "Name: col_91, dtype: int64 \n",
            "\n",
            "\u001b[1mcol_92 \n",
            "--------------------\u001b[0m\n",
            "0    135943\n",
            "1      5536\n",
            "2         2\n",
            "Name: col_92, dtype: int64 \n",
            "\n",
            "\u001b[1mcol_93 \n",
            "--------------------\u001b[0m\n",
            "0    138427\n",
            "1      3054\n",
            "Name: col_93, dtype: int64 \n",
            "\n",
            "\u001b[1mcol_94 \n",
            "--------------------\u001b[0m\n",
            "0    139786\n",
            "1      1695\n",
            "Name: col_94, dtype: int64 \n",
            "\n",
            "\u001b[1mcol_95 \n",
            "--------------------\u001b[0m\n",
            "0    126769\n",
            "1     14711\n",
            "2         1\n",
            "Name: col_95, dtype: int64 \n",
            "\n",
            "\u001b[1mcol_96 \n",
            "--------------------\u001b[0m\n",
            "1    76410\n",
            "0    47815\n",
            "2    17236\n",
            "3       20\n",
            "Name: col_96, dtype: int64 \n",
            "\n",
            "\u001b[1mcol_97 \n",
            "--------------------\u001b[0m\n",
            "0    137887\n",
            "1      3554\n",
            "2        40\n",
            "Name: col_97, dtype: int64 \n",
            "\n",
            "\u001b[1mcol_98 \n",
            "--------------------\u001b[0m\n",
            "0    139807\n",
            "1      1674\n",
            "Name: col_98, dtype: int64 \n",
            "\n",
            "\u001b[1mcol_99 \n",
            "--------------------\u001b[0m\n",
            "0    139268\n",
            "1      2010\n",
            "2       203\n",
            "Name: col_99, dtype: int64 \n",
            "\n",
            "\u001b[1mSrc Port \n",
            "--------------------\u001b[0m\n",
            "9100     9118\n",
            "80       4741\n",
            "443      4511\n",
            "40273     864\n",
            "0         799\n",
            "         ... \n",
            "52291       1\n",
            "37366       1\n",
            "58561       1\n",
            "34590       1\n",
            "61115       1\n",
            "Name: Src Port, Length: 34278, dtype: int64 \n",
            "\n",
            "\u001b[1mDst Port \n",
            "--------------------\u001b[0m\n",
            "53       30416\n",
            "80       14938\n",
            "443      14290\n",
            "5355      9883\n",
            "51413     6308\n",
            "         ...  \n",
            "58952        1\n",
            "47013        1\n",
            "48464        1\n",
            "33474        1\n",
            "29927        1\n",
            "Name: Dst Port, Length: 12761, dtype: int64 \n",
            "\n",
            "\u001b[1mProtocol \n",
            "--------------------\u001b[0m\n",
            "6     84272\n",
            "17    56410\n",
            "0       799\n",
            "Name: Protocol, dtype: int64 \n",
            "\n",
            "\u001b[1mFlow Duration \n",
            "--------------------\u001b[0m\n",
            "-0.546508    527\n",
            "-0.546508    480\n",
            "-0.546508    456\n",
            "-0.546508    421\n",
            "-0.546508    410\n",
            "            ... \n",
            "-0.528434      1\n",
            "-0.529038      1\n",
            "-0.449271      1\n",
            "-0.509077      1\n",
            " 2.603179      1\n",
            "Name: Flow Duration, Length: 81825, dtype: int64 \n",
            "\n",
            "\u001b[1mTotal Fwd Packet \n",
            "--------------------\u001b[0m\n",
            "-0.063838     40802\n",
            "-0.063417     36253\n",
            "-0.062997     26337\n",
            "-0.062576      4279\n",
            "-0.062156      3995\n",
            "              ...  \n",
            " 7.476809         1\n",
            " 88.613701        1\n",
            " 42.803124        1\n",
            " 1.655163         1\n",
            " 2.453495         1\n",
            "Name: Total Fwd Packet, Length: 2121, dtype: int64 \n",
            "\n",
            "\u001b[1mTotal Bwd packets \n",
            "--------------------\u001b[0m\n",
            "-0.044949     44488\n",
            "-0.045242     40571\n",
            "-0.044657     14691\n",
            "-0.044364      8807\n",
            "-0.044072      4362\n",
            "              ...  \n",
            " 16.348317        1\n",
            " 25.094336        1\n",
            " 66.082619        1\n",
            " 87.263164        1\n",
            " 0.077007         1\n",
            "Name: Total Bwd packets, Length: 2140, dtype: int64 \n",
            "\n",
            "\u001b[1mTotal Length of Fwd Packet \n",
            "--------------------\u001b[0m\n",
            "-0.034644    39758\n",
            "-0.034631     9887\n",
            "-0.034626     8019\n",
            "-0.034623     7944\n",
            "-0.034633     7266\n",
            "             ...  \n",
            "-0.033406        1\n",
            "-0.033242        1\n",
            "-0.033060        1\n",
            "-0.033722        1\n",
            "-0.023975        1\n",
            "Name: Total Length of Fwd Packet, Length: 8034, dtype: int64 \n",
            "\n",
            "\u001b[1mTotal Length of Bwd Packet \n",
            "--------------------\u001b[0m\n",
            "-0.028574    75040\n",
            "-0.028493     2979\n",
            "-0.028499     2974\n",
            "-0.028528     2817\n",
            "-0.028573     1897\n",
            "             ...  \n",
            "-0.015825        1\n",
            "-0.020229        1\n",
            " 0.023070        1\n",
            " 0.028310        1\n",
            "-0.020977        1\n",
            "Name: Total Length of Bwd Packet, Length: 10615, dtype: int64 \n",
            "\n",
            "\u001b[1mFwd Packet Length Max \n",
            "--------------------\u001b[0m\n",
            "-0.321757    39758\n",
            "-0.287886    10081\n",
            "-0.290965     7902\n",
            "-0.264793     7766\n",
            "-0.217065     7416\n",
            "             ...  \n",
            " 1.773615        1\n",
            " 1.775154        1\n",
            " 1.747442        1\n",
            " 1.431827        1\n",
            " 0.871419        1\n",
            "Name: Fwd Packet Length Max, Length: 1456, dtype: int64 \n",
            "\n",
            "\u001b[1mFwd Packet Length Min \n",
            "--------------------\u001b[0m\n",
            "-0.498857     84093\n",
            " 0.203657     10178\n",
            " 0.139792      7933\n",
            " 0.682644      7856\n",
            " 0.554914      6511\n",
            "              ...  \n",
            " 2.215402         1\n",
            " 3.396903         1\n",
            " 17.574916        1\n",
            "-0.115668         1\n",
            " 3.269173         1\n",
            "Name: Fwd Packet Length Min, Length: 251, dtype: int64 \n",
            "\n",
            "\u001b[1mFwd Packet Length Mean \n",
            "--------------------\u001b[0m\n",
            "-0.316449    39758\n",
            "-0.216448    10089\n",
            "-0.225539     7904\n",
            "-0.148265     7750\n",
            "-0.213417     7261\n",
            "             ...  \n",
            "-0.157924        1\n",
            "-0.123871        1\n",
            " 0.426361        1\n",
            " 0.148149        1\n",
            " 0.280716        1\n",
            "Name: Fwd Packet Length Mean, Length: 16068, dtype: int64 \n",
            "\n",
            "\u001b[1mFwd Packet Length Std \n",
            "--------------------\u001b[0m\n",
            "-0.379414    94370\n",
            "-0.146652     7260\n",
            "-0.249453      463\n",
            "-0.287184      386\n",
            "-0.240330      292\n",
            "             ...  \n",
            " 0.458953        1\n",
            " 0.599520        1\n",
            " 1.097122        1\n",
            " 0.852214        1\n",
            " 0.533276        1\n",
            "Name: Fwd Packet Length Std, Length: 21246, dtype: int64 \n",
            "\n",
            "\u001b[1mBwd Packet Length Max \n",
            "--------------------\u001b[0m\n",
            "-0.292364    75040\n",
            " 1.563127     9242\n",
            " 0.181676     2988\n",
            " 0.146091     2965\n",
            "-0.021666     2852\n",
            "             ...  \n",
            " 1.526272        1\n",
            " 0.715447        1\n",
            " 1.011563        1\n",
            " 1.067482        1\n",
            " 1.333097        1\n",
            "Name: Bwd Packet Length Max, Length: 1477, dtype: int64 \n",
            "\n",
            "\u001b[1mBwd Packet Length Min \n",
            "--------------------\u001b[0m\n",
            "-0.409390     106831\n",
            " 3.291059       2972\n",
            " 3.013277       2961\n",
            " 1.703735       2785\n",
            " 1.425953       1480\n",
            "               ...  \n",
            " 1.416033          1\n",
            " 12.864605         1\n",
            " 4.302978          1\n",
            " 3.826781          1\n",
            " 2.289061          1\n",
            "Name: Bwd Packet Length Min, Length: 396, dtype: int64 \n",
            "\n",
            "\u001b[1mBwd Packet Length Mean \n",
            "--------------------\u001b[0m\n",
            "-0.446167    75040\n",
            " 1.104491     2973\n",
            " 0.988088     2959\n",
            " 0.439330     2780\n",
            " 0.322926     1482\n",
            "             ...  \n",
            " 3.969187        1\n",
            " 2.464649        1\n",
            " 0.177145        1\n",
            " 0.465313        1\n",
            " 3.210143        1\n",
            "Name: Bwd Packet Length Mean, Length: 15272, dtype: int64 \n",
            "\n",
            "\u001b[1mBwd Packet Length Std \n",
            "--------------------\u001b[0m\n",
            "-0.336069    101335\n",
            "-0.277758      6412\n",
            "-0.321491      1248\n",
            "-0.292335       768\n",
            "-0.324166       437\n",
            "              ...  \n",
            " 2.479741         1\n",
            " 2.547217         1\n",
            " 2.656785         1\n",
            " 2.493183         1\n",
            " 2.350301         1\n",
            "Name: Bwd Packet Length Std, Length: 18540, dtype: int64 \n",
            "\n",
            "\u001b[1mFlow Bytes/s \n",
            "--------------------\u001b[0m\n",
            "-0.067924    38043\n",
            " 0.331087       26\n",
            " 0.401500       26\n",
            " 0.464090       22\n",
            " 0.409724       22\n",
            "             ...  \n",
            "-0.067720        1\n",
            "-0.067360        1\n",
            "-0.067805        1\n",
            "-0.067478        1\n",
            "-0.061302        1\n",
            "Name: Flow Bytes/s, Length: 73859, dtype: int64 \n",
            "\n",
            "\u001b[1mFlow Packets/s \n",
            "--------------------\u001b[0m\n",
            " 2.219534    528\n",
            " 2.076500    475\n",
            " 2.381639    449\n",
            " 2.566901    425\n",
            " 2.780666    406\n",
            "            ... \n",
            "-0.211847      1\n",
            "-0.211837      1\n",
            "-0.212006      1\n",
            "-0.212008      1\n",
            "-0.210093      1\n",
            "Name: Flow Packets/s, Length: 82720, dtype: int64 \n",
            "\n",
            "\u001b[1mFlow IAT Mean \n",
            "--------------------\u001b[0m\n",
            "-0.365668    528\n",
            "-0.365668    484\n",
            "-0.365668    450\n",
            "-0.365668    420\n",
            "-0.365669    410\n",
            "            ... \n",
            "-0.359734      1\n",
            "-0.356680      1\n",
            "-0.362407      1\n",
            "-0.363335      1\n",
            "-0.364266      1\n",
            "Name: Flow IAT Mean, Length: 82685, dtype: int64 \n",
            "\n",
            "\u001b[1mFlow IAT Std \n",
            "--------------------\u001b[0m\n",
            "-0.415063    64773\n",
            "-0.415061       16\n",
            "-0.415062       15\n",
            "-0.415062       15\n",
            "-0.415062       14\n",
            "             ...  \n",
            " 0.181574        1\n",
            " 0.137551        1\n",
            " 0.105479        1\n",
            " 0.033639        1\n",
            "-0.414281        1\n",
            "Name: Flow IAT Std, Length: 58077, dtype: int64 \n",
            "\n",
            "\u001b[1mFlow IAT Max \n",
            "--------------------\u001b[0m\n",
            "-0.502715    537\n",
            "-0.502715    482\n",
            "-0.502715    455\n",
            "-0.502715    421\n",
            "-0.502715    413\n",
            "            ... \n",
            " 2.467155      1\n",
            " 2.484237      1\n",
            " 0.006422      1\n",
            " 0.005471      1\n",
            "-0.501487      1\n",
            "Name: Flow IAT Max, Length: 79395, dtype: int64 \n",
            "\n",
            "\u001b[1mFlow IAT Min \n",
            "--------------------\u001b[0m\n",
            "-0.160287    3269\n",
            "-0.160286    2773\n",
            "-0.160286    2665\n",
            "-0.160287    2652\n",
            "-0.160286    2393\n",
            "             ... \n",
            "-0.084993       1\n",
            "-0.085745       1\n",
            "-0.086931       1\n",
            "-0.087278       1\n",
            "-0.085757       1\n",
            "Name: Flow IAT Min, Length: 34375, dtype: int64 \n",
            "\n",
            "\u001b[1mFwd IAT Total \n",
            "--------------------\u001b[0m\n",
            "-0.525079    40811\n",
            "-0.525079      223\n",
            "-0.525079      199\n",
            "-0.525079      198\n",
            "-0.525078      193\n",
            "             ...  \n",
            " 2.646077        1\n",
            " 1.046613        1\n",
            " 2.646471        1\n",
            " 1.041444        1\n",
            " 2.660620        1\n",
            "Name: Fwd IAT Total, Length: 61186, dtype: int64 \n",
            "\n",
            "\u001b[1mFwd IAT Mean \n",
            "--------------------\u001b[0m\n",
            "-0.358107    40811\n",
            "-0.358105      224\n",
            "-0.358105      201\n",
            "-0.358105      194\n",
            "-0.358104      191\n",
            "             ...  \n",
            " 0.276621        1\n",
            " 0.689265        1\n",
            " 0.032206        1\n",
            "-0.299080        1\n",
            "-0.356360        1\n",
            "Name: Fwd IAT Mean, Length: 61531, dtype: int64 \n",
            "\n",
            "\u001b[1mFwd IAT Std \n",
            "--------------------\u001b[0m\n",
            "-0.362895    77065\n",
            "-0.362894       29\n",
            "-0.362890       25\n",
            "-0.362893       24\n",
            "-0.362894       22\n",
            "             ...  \n",
            "-0.329615        1\n",
            "-0.326191        1\n",
            "-0.345897        1\n",
            "-0.326629        1\n",
            "-0.362256        1\n",
            "Name: Fwd IAT Std, Length: 45633, dtype: int64 \n",
            "\n",
            "\u001b[1mFwd IAT Max \n",
            "--------------------\u001b[0m\n",
            "-0.478845    40811\n",
            "-0.478844      224\n",
            "-0.478844      200\n",
            "-0.478844      199\n",
            "-0.478843      193\n",
            "             ...  \n",
            " 2.568771        1\n",
            " 2.565152        1\n",
            " 2.582709        1\n",
            "-0.460320        1\n",
            "-0.474438        1\n",
            "Name: Fwd IAT Max, Length: 58428, dtype: int64 \n",
            "\n",
            "\u001b[1mFwd IAT Min \n",
            "--------------------\u001b[0m\n",
            "-0.236401    41954\n",
            "-0.236400     1104\n",
            "-0.236400     1070\n",
            "-0.236400      876\n",
            "-0.236400      873\n",
            "             ...  \n",
            " 2.812501        1\n",
            " 2.824688        1\n",
            " 2.751516        1\n",
            " 2.751513        1\n",
            "-0.196176        1\n",
            "Name: Fwd IAT Min, Length: 27164, dtype: int64 \n",
            "\n",
            "\u001b[1mBwd IAT Total \n",
            "--------------------\u001b[0m\n",
            "-0.463304    85066\n",
            "-0.463304      253\n",
            "-0.463304      248\n",
            "-0.463304      221\n",
            "-0.463304      202\n",
            "             ...  \n",
            " 2.744158        1\n",
            " 2.844139        1\n",
            " 2.704965        1\n",
            "-0.381541        1\n",
            " 2.877863        1\n",
            "Name: Bwd IAT Total, Length: 39204, dtype: int64 \n",
            "\n",
            "\u001b[1mBwd IAT Mean \n",
            "--------------------\u001b[0m\n",
            "-0.294784    85066\n",
            "-0.294782      255\n",
            "-0.294782      249\n",
            "-0.294782      222\n",
            "-0.294782      203\n",
            "             ...  \n",
            " 0.239731        1\n",
            " 0.028724        1\n",
            "-0.291181        1\n",
            " 0.589369        1\n",
            "-0.292855        1\n",
            "Name: Bwd IAT Mean, Length: 39217, dtype: int64 \n",
            "\n",
            "\u001b[1mBwd IAT Std \n",
            "--------------------\u001b[0m\n",
            "-0.323225    99753\n",
            "-0.323222       10\n",
            "-0.323222        7\n",
            "-0.323224        7\n",
            "-0.323223        6\n",
            "             ...  \n",
            " 1.222500        1\n",
            " 2.476849        1\n",
            " 0.344892        1\n",
            " 1.949556        1\n",
            "-0.322727        1\n",
            "Name: Bwd IAT Std, Length: 32414, dtype: int64 \n",
            "\n",
            "\u001b[1mBwd IAT Max \n",
            "--------------------\u001b[0m\n",
            "-0.411272    85066\n",
            "-0.411270      253\n",
            "-0.411270      247\n",
            "-0.411270      223\n",
            "-0.411270      203\n",
            "             ...  \n",
            "-0.346334        1\n",
            " 0.144377        1\n",
            "-0.349790        1\n",
            "-0.373082        1\n",
            "-0.409860        1\n",
            "Name: Bwd IAT Max, Length: 37218, dtype: int64 \n",
            "\n",
            "\u001b[1mBwd IAT Min \n",
            "--------------------\u001b[0m\n",
            "-0.177812    86491\n",
            "-0.177812     1750\n",
            "-0.177811     1662\n",
            "-0.177811     1077\n",
            "-0.177812      954\n",
            "             ...  \n",
            "-0.177660        1\n",
            " 0.856938        1\n",
            "-0.177645        1\n",
            "-0.174107        1\n",
            "-0.177177        1\n",
            "Name: Bwd IAT Min, Length: 15446, dtype: int64 \n",
            "\n",
            "\u001b[1mFwd PSH Flags \n",
            "--------------------\u001b[0m\n",
            "-0.332583    127392\n",
            " 3.006770     14089\n",
            "Name: Fwd PSH Flags, dtype: int64 \n",
            "\n",
            "\u001b[1mBwd PSH Flags \n",
            "--------------------\u001b[0m\n",
            "0.0    141481\n",
            "Name: Bwd PSH Flags, dtype: int64 \n",
            "\n",
            "\u001b[1mFwd URG Flags \n",
            "--------------------\u001b[0m\n",
            "0.0    141481\n",
            "Name: Fwd URG Flags, dtype: int64 \n",
            "\n",
            "\u001b[1mBwd URG Flags \n",
            "--------------------\u001b[0m\n",
            "0.0    141481\n",
            "Name: Bwd URG Flags, dtype: int64 \n",
            "\n",
            "\u001b[1mFwd Header Length \n",
            "--------------------\u001b[0m\n",
            "-0.061555    24774\n",
            "-0.061386    19311\n",
            "-0.060881    15320\n",
            "-0.061302    14535\n",
            "-0.060208    10057\n",
            "             ...  \n",
            " 1.447495        1\n",
            " 0.152016        1\n",
            " 1.362504        1\n",
            " 0.825884        1\n",
            " 0.008626        1\n",
            "Name: Fwd Header Length, Length: 2966, dtype: int64 \n",
            "\n",
            "\u001b[1mBwd Header Length \n",
            "--------------------\u001b[0m\n",
            "-0.044313      40764\n",
            "-0.044199      24886\n",
            "-0.044027      15430\n",
            "-0.044085       7850\n",
            "-0.043284       5228\n",
            "               ...  \n",
            " 134.558642        1\n",
            " 98.740046         1\n",
            " 2.886832          1\n",
            " 2.909701          1\n",
            " 0.003483          1\n",
            "Name: Bwd Header Length, Length: 2965, dtype: int64 \n",
            "\n",
            "\u001b[1mFwd Packets/s \n",
            "--------------------\u001b[0m\n",
            " 1.578220    523\n",
            " 1.474933    479\n",
            " 1.695279    433\n",
            " 1.829061    414\n",
            " 1.983424    404\n",
            "            ... \n",
            "-0.177096      1\n",
            "-0.177015      1\n",
            "-0.176493      1\n",
            "-0.176732      1\n",
            "-0.176261      1\n",
            "Name: Fwd Packets/s, Length: 82814, dtype: int64 \n",
            "\n",
            "\u001b[1mBwd Packets/s \n",
            "--------------------\u001b[0m\n",
            "-0.213998    40571\n",
            " 2.708710      499\n",
            " 2.536786      458\n",
            " 2.903557      421\n",
            " 3.126239      395\n",
            "             ...  \n",
            "-0.213992        1\n",
            "-0.213991        1\n",
            "-0.213992        1\n",
            "-0.213992        1\n",
            "-0.211659        1\n",
            "Name: Bwd Packets/s, Length: 60984, dtype: int64 \n",
            "\n",
            "\u001b[1mPacket Length Min \n",
            "--------------------\u001b[0m\n",
            "-0.599914     85073\n",
            " 0.318511     10190\n",
            " 0.235018      8315\n",
            " 0.944709      7779\n",
            " 0.777723      6429\n",
            "              ...  \n",
            " 2.614573         1\n",
            " 13.802656        1\n",
            " 5.620327         1\n",
            " 3.199025         1\n",
            " 10.755156        1\n",
            "Name: Packet Length Min, Length: 139, dtype: int64 \n",
            "\n",
            "\u001b[1mPacket Length Max \n",
            "--------------------\u001b[0m\n",
            "-0.335072    38043\n",
            " 1.176058    12649\n",
            "-0.312302     9860\n",
            "-0.314372     7723\n",
            "-0.264691     7368\n",
            "             ...  \n",
            " 1.032190        1\n",
            " 0.986649        1\n",
            "-0.322652        1\n",
            "-0.020426        1\n",
            " 0.776540        1\n",
            "Name: Packet Length Max, Length: 1554, dtype: int64 \n",
            "\n",
            "\u001b[1mPacket Length Mean \n",
            "--------------------\u001b[0m\n",
            "-0.495339    38043\n",
            "-0.379906     9924\n",
            "-0.390400     7735\n",
            "-0.444369     4232\n",
            " 0.006618     3242\n",
            "             ...  \n",
            " 2.689092        1\n",
            " 0.231737        1\n",
            " 0.641673        1\n",
            " 0.879110        1\n",
            " 0.573288        1\n",
            "Name: Packet Length Mean, Length: 20388, dtype: int64 \n",
            "\n",
            "\u001b[1mPacket Length Std \n",
            "--------------------\u001b[0m\n",
            "-0.522524    59555\n",
            "-0.488068     6410\n",
            "-0.478041     4259\n",
            "-0.398760     4232\n",
            "-0.388843     3028\n",
            "             ...  \n",
            " 0.885301        1\n",
            " 1.611415        1\n",
            " 2.696465        1\n",
            " 2.324928        1\n",
            " 0.536731        1\n",
            "Name: Packet Length Std, Length: 24134, dtype: int64 \n",
            "\n",
            "\u001b[1mPacket Length Variance \n",
            "--------------------\u001b[0m\n",
            "-0.069188    59555\n",
            "-0.069123     6410\n",
            "-0.069080     4259\n",
            "-0.068355     4232\n",
            "-0.068216     3028\n",
            "             ...  \n",
            " 0.285090        1\n",
            " 0.143765        1\n",
            " 0.221184        1\n",
            " 0.259265        1\n",
            "-0.008207        1\n",
            "Name: Packet Length Variance, Length: 24146, dtype: int64 \n",
            "\n",
            "\u001b[1mFIN Flag Count \n",
            "--------------------\u001b[0m\n",
            "-0.819101    81367\n",
            " 0.979019    55780\n",
            " 2.777138     4334\n",
            "Name: FIN Flag Count, dtype: int64 \n",
            "\n",
            "\u001b[1mSYN Flag Count \n",
            "--------------------\u001b[0m\n",
            "-0.547575    108809\n",
            " 1.820640     32580\n",
            " 3.004748        80\n",
            " 0.636532         9\n",
            " 7.741179         2\n",
            " 4.188856         1\n",
            "Name: SYN Flag Count, dtype: int64 \n",
            "\n",
            "\u001b[1mRST Flag Count \n",
            "--------------------\u001b[0m\n",
            "-0.112537      138197\n",
            " 2.807347        1888\n",
            " 5.727232         832\n",
            " 8.647117         504\n",
            " 11.567001         34\n",
            " 17.406771         10\n",
            " 14.486886          4\n",
            " 29.086309          3\n",
            " 23.246540          3\n",
            " 20.326655          2\n",
            " 26.166425          2\n",
            " 46.605618          1\n",
            " 207.199276         1\n",
            "Name: RST Flag Count, dtype: int64 \n",
            "\n",
            "\u001b[1mPSH Flag Count \n",
            "--------------------\u001b[0m\n",
            "-0.076227    94540\n",
            "-0.074989    11161\n",
            "-0.073750     7083\n",
            "-0.071273     3114\n",
            "-0.072512     3060\n",
            "             ...  \n",
            " 6.332239        1\n",
            " 6.857401        1\n",
            " 6.691430        1\n",
            " 5.851666        1\n",
            " 0.333746        1\n",
            "Name: PSH Flag Count, Length: 1605, dtype: int64 \n",
            "\n",
            "\u001b[1mACK Flag Count \n",
            "--------------------\u001b[0m\n",
            "-0.050216    58336\n",
            "-0.049842    27787\n",
            "-0.049655     8290\n",
            "-0.049281     5706\n",
            "-0.049468     5393\n",
            "             ...  \n",
            " 1.397474        1\n",
            " 0.052335        1\n",
            " 1.428165        1\n",
            " 1.282198        1\n",
            " 6.988937        1\n",
            "Name: ACK Flag Count, Length: 2489, dtype: int64 \n",
            "\n",
            "\u001b[1mURG Flag Count \n",
            "--------------------\u001b[0m\n",
            "0.0    141481\n",
            "Name: URG Flag Count, dtype: int64 \n",
            "\n",
            "\u001b[1mCWE Flag Count \n",
            "--------------------\u001b[0m\n",
            "0.0    141481\n",
            "Name: CWE Flag Count, dtype: int64 \n",
            "\n",
            "\u001b[1mECE Flag Count \n",
            "--------------------\u001b[0m\n",
            "0.0    141481\n",
            "Name: ECE Flag Count, dtype: int64 \n",
            "\n",
            "\u001b[1mDown/Up Ratio \n",
            "--------------------\u001b[0m\n",
            " 0.031428      74683\n",
            "-0.048575      65389\n",
            " 0.111431       1075\n",
            " 0.191434        229\n",
            " 0.271436         50\n",
            " 0.431442         16\n",
            " 0.351439         12\n",
            " 0.511445          9\n",
            " 0.591447          4\n",
            " 0.751453          1\n",
            " 2.671518          1\n",
            " 1.631483          1\n",
            " 5.631620          1\n",
            " 1.871491          1\n",
            " 1.151466          1\n",
            " 35.552642         1\n",
            " 4.671587          1\n",
            " 7.071669          1\n",
            " 341.243087        1\n",
            " 18.032043         1\n",
            " 90.834531         1\n",
            " 121.715586        1\n",
            " 0.991461          1\n",
            "Name: Down/Up Ratio, dtype: int64 \n",
            "\n",
            "\u001b[1mAverage Packet Size \n",
            "--------------------\u001b[0m\n",
            "-0.552055    38043\n",
            "-0.384821     9788\n",
            "-0.416917     7644\n",
            "-0.494621     4233\n",
            " 0.175159     3245\n",
            "             ...  \n",
            " 0.985039        1\n",
            " 0.368706        1\n",
            "-0.181269        1\n",
            " 2.708700        1\n",
            "-0.130933        1\n",
            "Name: Average Packet Size, Length: 19935, dtype: int64 \n",
            "\n",
            "\u001b[1mFwd Segment Size Avg \n",
            "--------------------\u001b[0m\n",
            "-0.316449    39758\n",
            "-0.216448    10089\n",
            "-0.225539     7904\n",
            "-0.148265     7750\n",
            "-0.213417     7261\n",
            "             ...  \n",
            "-0.157924        1\n",
            "-0.123871        1\n",
            " 0.426361        1\n",
            " 0.148149        1\n",
            " 0.280716        1\n",
            "Name: Fwd Segment Size Avg, Length: 16068, dtype: int64 \n",
            "\n",
            "\u001b[1mBwd Segment Size Avg \n",
            "--------------------\u001b[0m\n",
            "-0.446167    75040\n",
            " 1.104491     2973\n",
            " 0.988088     2959\n",
            " 0.439330     2780\n",
            " 0.322926     1482\n",
            "             ...  \n",
            " 3.969187        1\n",
            " 2.464649        1\n",
            " 0.177145        1\n",
            " 0.465313        1\n",
            " 3.210143        1\n",
            "Name: Bwd Segment Size Avg, Length: 15272, dtype: int64 \n",
            "\n",
            "\u001b[1mFwd Bytes/Bulk Avg \n",
            "--------------------\u001b[0m\n",
            "0.0    141481\n",
            "Name: Fwd Bytes/Bulk Avg, dtype: int64 \n",
            "\n",
            "\u001b[1mFwd Packet/Bulk Avg \n",
            "--------------------\u001b[0m\n",
            "0.0    141481\n",
            "Name: Fwd Packet/Bulk Avg, dtype: int64 \n",
            "\n",
            "\u001b[1mFwd Bulk Rate Avg \n",
            "--------------------\u001b[0m\n",
            "0.0    141481\n",
            "Name: Fwd Bulk Rate Avg, dtype: int64 \n",
            "\n",
            "\u001b[1mBwd Bytes/Bulk Avg \n",
            "--------------------\u001b[0m\n",
            "0.0    141481\n",
            "Name: Bwd Bytes/Bulk Avg, dtype: int64 \n",
            "\n",
            "\u001b[1mBwd Packet/Bulk Avg \n",
            "--------------------\u001b[0m\n",
            "-0.052228    111005\n",
            "-0.050913     10440\n",
            "-0.050585      2047\n",
            "-0.050256      1911\n",
            "-0.049927      1582\n",
            "              ...  \n",
            " 2.259081         1\n",
            " 5.894800         1\n",
            " 2.052039         1\n",
            " 2.288987         1\n",
            " 0.222513         1\n",
            "Name: Bwd Packet/Bulk Avg, Length: 1793, dtype: int64 \n",
            "\n",
            "\u001b[1mBwd Bulk Rate Avg \n",
            "--------------------\u001b[0m\n",
            "-0.043209    111005\n",
            "-0.042985        60\n",
            "-0.043136        51\n",
            "-0.043137        45\n",
            "-0.043095        40\n",
            "              ...  \n",
            " 0.076237         1\n",
            "-0.019536         1\n",
            " 0.026532         1\n",
            " 0.043626         1\n",
            "-0.035288         1\n",
            "Name: Bwd Bulk Rate Avg, Length: 14641, dtype: int64 \n",
            "\n",
            "\u001b[1mSubflow Fwd Packets \n",
            "--------------------\u001b[0m\n",
            "-0.634080    100910\n",
            " 1.577088     40571\n",
            "Name: Subflow Fwd Packets, dtype: int64 \n",
            "\n",
            "\u001b[1mSubflow Fwd Bytes \n",
            "--------------------\u001b[0m\n",
            "-0.313202     40482\n",
            "-0.153488     11854\n",
            "-0.182527      9410\n",
            "-0.168008      9383\n",
            "-0.197047      7719\n",
            "              ...  \n",
            " 7.353089         1\n",
            " 6.118932         1\n",
            " 40.914892        1\n",
            " 6.489179         1\n",
            " 2.271267         1\n",
            "Name: Subflow Fwd Bytes, Length: 922, dtype: int64 \n",
            "\n",
            "\u001b[1mSubflow Bwd Packets \n",
            "--------------------\u001b[0m\n",
            "0.0    141481\n",
            "Name: Subflow Bwd Packets, dtype: int64 \n",
            "\n",
            "\u001b[1mSubflow Bwd Bytes \n",
            "--------------------\u001b[0m\n",
            "-0.413042     76402\n",
            " 0.971033      3044\n",
            " 0.375732      2998\n",
            " 0.866855      2988\n",
            "-0.249335      1591\n",
            "              ...  \n",
            " 16.024715        1\n",
            " 13.330976        1\n",
            " 12.304081        1\n",
            " 8.635537         1\n",
            " 11.917136        1\n",
            "Name: Subflow Bwd Bytes, Length: 1109, dtype: int64 \n",
            "\n",
            "\u001b[1mFWD Init Win Bytes \n",
            "--------------------\u001b[0m\n",
            "-0.536475    58324\n",
            " 0.938769    29723\n",
            "-0.444221    12641\n",
            "-0.269718     4103\n",
            "-0.437451     3828\n",
            "             ...  \n",
            " 0.104448        1\n",
            " 1.118223        1\n",
            "-0.365710        1\n",
            " 0.729709        1\n",
            "-0.484942        1\n",
            "Name: FWD Init Win Bytes, Length: 3329, dtype: int64 \n",
            "\n",
            "\u001b[1mBwd Init Win Bytes \n",
            "--------------------\u001b[0m\n",
            "-0.233542    75976\n",
            "-0.112853    15600\n",
            "-0.103997     5656\n",
            " 0.115436     4030\n",
            " 1.696413     2557\n",
            "             ...  \n",
            " 0.625156        1\n",
            " 0.334473        1\n",
            " 0.650668        1\n",
            " 0.504203        1\n",
            " 1.947571        1\n",
            "Name: Bwd Init Win Bytes, Length: 2719, dtype: int64 \n",
            "\n",
            "\u001b[1mFwd Act Data Pkts \n",
            "--------------------\u001b[0m\n",
            "-0.061219    67984\n",
            "-0.060587    34184\n",
            "-0.059955    13653\n",
            "-0.059324     5486\n",
            "-0.058692     3285\n",
            "             ...  \n",
            " 0.395488        1\n",
            " 0.130813        1\n",
            " 0.493399        1\n",
            " 0.780815        1\n",
            " 0.202193        1\n",
            "Name: Fwd Act Data Pkts, Length: 1459, dtype: int64 \n",
            "\n",
            "\u001b[1mFwd Seg Size Min \n",
            "--------------------\u001b[0m\n",
            " 0.589641    75979\n",
            "-1.097776    56410\n",
            " 2.277059     8215\n",
            "-2.222721      799\n",
            " 1.714586       44\n",
            " 3.402004       29\n",
            " 3.964476        5\n",
            "Name: Fwd Seg Size Min, dtype: int64 \n",
            "\n",
            "\u001b[1mActive Mean \n",
            "--------------------\u001b[0m\n",
            "0    141481\n",
            "Name: Active Mean, dtype: int64 \n",
            "\n",
            "\u001b[1mActive Std \n",
            "--------------------\u001b[0m\n",
            "0    141481\n",
            "Name: Active Std, dtype: int64 \n",
            "\n",
            "\u001b[1mActive Max \n",
            "--------------------\u001b[0m\n",
            "0    141481\n",
            "Name: Active Max, dtype: int64 \n",
            "\n",
            "\u001b[1mActive Min \n",
            "--------------------\u001b[0m\n",
            "0    141481\n",
            "Name: Active Min, dtype: int64 \n",
            "\n",
            "\u001b[1mIdle Mean \n",
            "--------------------\u001b[0m\n",
            "0.000000e+00    68169\n",
            "1.146059e+15        5\n",
            "1.074431e+15        5\n",
            "1.074431e+15        5\n",
            "1.456327e+15        4\n",
            "                ...  \n",
            "1.456253e+15        1\n",
            "1.407711e+15        1\n",
            "1.456253e+15        1\n",
            "1.456253e+15        1\n",
            "1.432316e+15        1\n",
            "Name: Idle Mean, Length: 56664, dtype: int64 \n",
            "\n",
            "\u001b[1mIdle Std \n",
            "--------------------\u001b[0m\n",
            "0.000000e+00    80028\n",
            "2.142534e+02        5\n",
            "7.162870e+14        4\n",
            "7.162872e+14        3\n",
            "1.012983e+15        3\n",
            "                ...  \n",
            "5.148634e+14        1\n",
            "1.922215e+07        1\n",
            "2.768540e+07        1\n",
            "1.029727e+15        1\n",
            "3.463689e+07        1\n",
            "Name: Idle Std, Length: 49635, dtype: int64 \n",
            "\n",
            "\u001b[1mIdle Max \n",
            "--------------------\u001b[0m\n",
            "0.000000e+00    68169\n",
            "1.456322e+15        4\n",
            "1.456265e+15        4\n",
            "1.432574e+15        3\n",
            "1.427911e+15        3\n",
            "                ...  \n",
            "1.456253e+15        1\n",
            "1.456253e+15        1\n",
            "1.456251e+15        1\n",
            "1.456253e+15        1\n",
            "1.432316e+15        1\n",
            "Name: Idle Max, Length: 56729, dtype: int64 \n",
            "\n",
            "\u001b[1mIdle Min \n",
            "--------------------\u001b[0m\n",
            "0.000000e+00    68169\n",
            "5.998014e+07        4\n",
            "1.299097e+07        4\n",
            "1.456264e+15        4\n",
            "5.007953e+06        3\n",
            "                ...  \n",
            "5.993116e+06        1\n",
            "5.893949e+06        1\n",
            "5.477444e+06        1\n",
            "5.512911e+06        1\n",
            "1.432316e+15        1\n",
            "Name: Idle Min, Length: 56685, dtype: int64 \n",
            "\n",
            "\u001b[1mLabel \n",
            "--------------------\u001b[0m\n",
            "Benign     117170\n",
            "Darknet     24311\n",
            "Name: Label, dtype: int64 \n",
            "\n",
            "\u001b[1mhour \n",
            "--------------------\u001b[0m\n",
            "10    27377\n",
            "11    24782\n",
            "2     24611\n",
            "1     17920\n",
            "5     13454\n",
            "9      9879\n",
            "3      6432\n",
            "4      5133\n",
            "6      4631\n",
            "8      4345\n",
            "12     2917\n",
            "Name: hour, dtype: int64 \n",
            "\n"
          ]
        }
      ],
      "source": [
        "# analizamos la cantidad de observaciones por cada valor observado en cada columna\n",
        "for col in darknet.columns.tolist():\n",
        "    print(f\"\\033[1m{col} \\n{20 * '-'}\\033[0m\")\n",
        "    print(darknet[col].value_counts(), '\\n')"
      ]
    },
    {
      "cell_type": "markdown",
      "metadata": {
        "id": "DONONa_6Egnk"
      },
      "source": [
        "2.8. Resumen estadístico"
      ]
    },
    {
      "cell_type": "code",
      "execution_count": 47,
      "metadata": {
        "colab": {
          "base_uri": "https://localhost:8080/"
        },
        "id": "J7iZq3sgC2I-",
        "outputId": "f6e29a08-b1cd-4329-84d4-ee733dfc44b4"
      },
      "outputs": [
        {
          "output_type": "stream",
          "name": "stdout",
          "text": [
            "                col_0          col_1          col_2          col_3  \\\n",
            "count   141481.000000  141481.000000  141481.000000  141481.000000   \n",
            "unique            NaN            NaN            NaN            NaN   \n",
            "top               NaN            NaN            NaN            NaN   \n",
            "freq              NaN            NaN            NaN            NaN   \n",
            "mean         0.028647       0.023431       0.013578       0.035503   \n",
            "std          0.166813       0.170510       0.116764       0.187891   \n",
            "min          0.000000       0.000000       0.000000       0.000000   \n",
            "50%          0.000000       0.000000       0.000000       0.000000   \n",
            "max          1.000000       2.000000       2.000000       2.000000   \n",
            "\n",
            "                col_4          col_5          col_6          col_7  \\\n",
            "count   141481.000000  141481.000000  141481.000000  141481.000000   \n",
            "unique            NaN            NaN            NaN            NaN   \n",
            "top               NaN            NaN            NaN            NaN   \n",
            "freq              NaN            NaN            NaN            NaN   \n",
            "mean         0.080301       0.011429       0.017317       0.019282   \n",
            "std          0.271759       0.106361       0.130504       0.142263   \n",
            "min          0.000000       0.000000       0.000000       0.000000   \n",
            "50%          0.000000       0.000000       0.000000       0.000000   \n",
            "max          1.000000       2.000000       2.000000       2.000000   \n",
            "\n",
            "                col_8          col_9  ...  Active Mean  Active Std  \\\n",
            "count   141481.000000  141481.000000  ...     141481.0    141481.0   \n",
            "unique            NaN            NaN  ...          NaN         NaN   \n",
            "top               NaN            NaN  ...          NaN         NaN   \n",
            "freq              NaN            NaN  ...          NaN         NaN   \n",
            "mean         0.018271       0.200098  ...          0.0         0.0   \n",
            "std          0.134457       0.443812  ...          0.0         0.0   \n",
            "min          0.000000       0.000000  ...          0.0         0.0   \n",
            "50%          0.000000       0.000000  ...          0.0         0.0   \n",
            "max          2.000000       3.000000  ...          0.0         0.0   \n",
            "\n",
            "        Active Max  Active Min     Idle Mean      Idle Std      Idle Max  \\\n",
            "count     141481.0    141481.0  1.414810e+05  1.414810e+05  1.414810e+05   \n",
            "unique         NaN         NaN           NaN           NaN           NaN   \n",
            "top            NaN         NaN           NaN           NaN           NaN   \n",
            "freq           NaN         NaN           NaN           NaN           NaN   \n",
            "mean           0.0         0.0  7.030173e+14  5.527885e+13  7.308236e+14   \n",
            "std            0.0         0.0  7.058353e+14  1.930388e+14  7.248002e+14   \n",
            "min            0.0         0.0  0.000000e+00  0.000000e+00  0.000000e+00   \n",
            "50%            0.0         0.0  7.281253e+14  0.000000e+00  1.427725e+15   \n",
            "max            0.0         0.0  1.456417e+15  1.029836e+15  1.456417e+15   \n",
            "\n",
            "            Idle Min   Label           hour  \n",
            "count   1.414810e+05  141481  141481.000000  \n",
            "unique           NaN       2            NaN  \n",
            "top              NaN  Benign            NaN  \n",
            "freq             NaN  117170            NaN  \n",
            "mean    5.996017e+14     NaN       6.411271  \n",
            "std     7.138487e+14     NaN       3.924114  \n",
            "min     0.000000e+00     NaN       1.000000  \n",
            "50%     5.590757e+06     NaN       6.000000  \n",
            "max     1.456417e+15     NaN      12.000000  \n",
            "\n",
            "[9 rows x 181 columns]\n"
          ]
        }
      ],
      "source": [
        "print(darknet.describe(include='all', percentiles=[]))"
      ]
    },
    {
      "cell_type": "markdown",
      "metadata": {
        "id": "o1p9If6owCOP"
      },
      "source": [
        "3. Separación de los datos en train y test"
      ]
    },
    {
      "cell_type": "code",
      "execution_count": 48,
      "metadata": {
        "id": "-ElGJ30GwWue"
      },
      "outputs": [],
      "source": [
        "#separamos el conjunto de datos en train(80%) y test(20%)\n",
        "train, test = train_test_split(darknet, test_size = 0.2, shuffle = True)"
      ]
    },
    {
      "cell_type": "code",
      "execution_count": 49,
      "metadata": {
        "colab": {
          "base_uri": "https://localhost:8080/"
        },
        "id": "25TcdUIfyRfc",
        "outputId": "3c267c50-dce4-48d5-f407-b9b6d6e3d61b"
      },
      "outputs": [
        {
          "output_type": "stream",
          "name": "stdout",
          "text": [
            "Train data size:  (113184, 181)\n",
            "Test data size:  (28297, 181)\n"
          ]
        }
      ],
      "source": [
        "#comprobamos el tamaño de cada conjunto\n",
        "print('Train data size: ', train.shape)\n",
        "print('Test data size: ', test.shape)"
      ]
    },
    {
      "cell_type": "code",
      "execution_count": 50,
      "metadata": {
        "colab": {
          "base_uri": "https://localhost:8080/"
        },
        "id": "dC5os6oJymJ4",
        "outputId": "bf655e33-c055-4892-cbaf-9e9ea3070e00"
      },
      "outputs": [
        {
          "output_type": "stream",
          "name": "stdout",
          "text": [
            "['col_0', 'col_1', 'col_2', 'col_3', 'col_4', 'col_5', 'col_6', 'col_7', 'col_8', 'col_9', 'col_10', 'col_11', 'col_12', 'col_13', 'col_14', 'col_15', 'col_16', 'col_17', 'col_18', 'col_19', 'col_20', 'col_21', 'col_22', 'col_23', 'col_24', 'col_25', 'col_26', 'col_27', 'col_28', 'col_29', 'col_30', 'col_31', 'col_32', 'col_33', 'col_34', 'col_35', 'col_36', 'col_37', 'col_38', 'col_39', 'col_40', 'col_41', 'col_42', 'col_43', 'col_44', 'col_45', 'col_46', 'col_47', 'col_48', 'col_49', 'col_50', 'col_51', 'col_52', 'col_53', 'col_54', 'col_55', 'col_56', 'col_57', 'col_58', 'col_59', 'col_60', 'col_61', 'col_62', 'col_63', 'col_64', 'col_65', 'col_66', 'col_67', 'col_68', 'col_69', 'col_70', 'col_71', 'col_72', 'col_73', 'col_74', 'col_75', 'col_76', 'col_77', 'col_78', 'col_79', 'col_80', 'col_81', 'col_82', 'col_83', 'col_84', 'col_85', 'col_86', 'col_87', 'col_88', 'col_89', 'col_90', 'col_91', 'col_92', 'col_93', 'col_94', 'col_95', 'col_96', 'col_97', 'col_98', 'col_99', 'Src Port', 'Dst Port', 'Protocol', 'Flow Duration', 'Total Fwd Packet', 'Total Bwd packets', 'Total Length of Fwd Packet', 'Total Length of Bwd Packet', 'Fwd Packet Length Max', 'Fwd Packet Length Min', 'Fwd Packet Length Mean', 'Fwd Packet Length Std', 'Bwd Packet Length Max', 'Bwd Packet Length Min', 'Bwd Packet Length Mean', 'Bwd Packet Length Std', 'Flow Bytes/s', 'Flow Packets/s', 'Flow IAT Mean', 'Flow IAT Std', 'Flow IAT Max', 'Flow IAT Min', 'Fwd IAT Total', 'Fwd IAT Mean', 'Fwd IAT Std', 'Fwd IAT Max', 'Fwd IAT Min', 'Bwd IAT Total', 'Bwd IAT Mean', 'Bwd IAT Std', 'Bwd IAT Max', 'Bwd IAT Min', 'Fwd PSH Flags', 'Bwd PSH Flags', 'Fwd URG Flags', 'Bwd URG Flags', 'Fwd Header Length', 'Bwd Header Length', 'Fwd Packets/s', 'Bwd Packets/s', 'Packet Length Min', 'Packet Length Max', 'Packet Length Mean', 'Packet Length Std', 'Packet Length Variance', 'FIN Flag Count', 'SYN Flag Count', 'RST Flag Count', 'PSH Flag Count', 'ACK Flag Count', 'URG Flag Count', 'CWE Flag Count', 'ECE Flag Count', 'Down/Up Ratio', 'Average Packet Size', 'Fwd Segment Size Avg', 'Bwd Segment Size Avg', 'Fwd Bytes/Bulk Avg', 'Fwd Packet/Bulk Avg', 'Fwd Bulk Rate Avg', 'Bwd Bytes/Bulk Avg', 'Bwd Packet/Bulk Avg', 'Bwd Bulk Rate Avg', 'Subflow Fwd Packets', 'Subflow Fwd Bytes', 'Subflow Bwd Packets', 'Subflow Bwd Bytes', 'FWD Init Win Bytes', 'Bwd Init Win Bytes', 'Fwd Act Data Pkts', 'Fwd Seg Size Min', 'Active Mean', 'Active Std', 'Active Max', 'Active Min', 'Idle Mean', 'Idle Std', 'Idle Max', 'Idle Min', 'Label', 'hour']\n"
          ]
        }
      ],
      "source": [
        "#Observamos el nombre de todas las variables\n",
        "print(train.columns.tolist())"
      ]
    },
    {
      "cell_type": "markdown",
      "metadata": {
        "id": "Ov_ewcGTNLJf"
      },
      "source": [
        "3.1. Separo la target (Variable Objetivo) "
      ]
    },
    {
      "cell_type": "code",
      "execution_count": 51,
      "metadata": {
        "id": "AehelfvJNtAC"
      },
      "outputs": [],
      "source": [
        "x_train = train[['col_0', 'col_1', 'col_2', 'col_3', 'col_4', 'col_5', 'col_6', 'col_7', 'col_8', 'col_9', 'col_10', 'col_11', 'col_12', 'col_13', 'col_14', 'col_15', 'col_16', 'col_17', 'col_18', 'col_19', 'col_20', 'col_21', 'col_22', 'col_23', 'col_24', 'col_25', 'col_26', 'col_27', 'col_28', 'col_29', 'col_30', 'col_31', 'col_32', 'col_33', 'col_34', 'col_35', 'col_36', 'col_37', 'col_38', 'col_39', 'col_40', 'col_41', 'col_42', 'col_43', 'col_44', 'col_45', 'col_46', 'col_47', 'col_48', 'col_49', 'col_50', 'col_51', 'col_52', 'col_53', 'col_54', 'col_55', 'col_56', 'col_57', 'col_58', 'col_59', 'col_60', 'col_61', 'col_62', 'col_63', 'col_64', 'col_65', 'col_66', 'col_67', 'col_68', 'col_69', 'col_70', 'col_71', 'col_72', 'col_73', 'col_74', 'col_75', 'col_76', 'col_77', 'col_78', 'col_79', 'col_80', 'col_81', 'col_82', 'col_83', 'col_84', 'col_85', 'col_86', 'col_87', 'col_88', 'col_89', 'col_90', 'col_91', 'col_92', 'col_93', 'col_94', 'col_95', 'col_96', 'col_97', 'col_98', 'col_99', 'Src Port', 'Dst Port', 'Protocol', 'Flow Duration', 'Total Fwd Packet', 'Total Bwd packets', 'Total Length of Fwd Packet', 'Total Length of Bwd Packet', 'Fwd Packet Length Max', 'Fwd Packet Length Min', 'Fwd Packet Length Mean', 'Fwd Packet Length Std', 'Bwd Packet Length Max', 'Bwd Packet Length Min', 'Bwd Packet Length Mean', 'Bwd Packet Length Std', 'Flow Bytes/s', 'Flow Packets/s', 'Flow IAT Mean', 'Flow IAT Std', 'Flow IAT Max', 'Flow IAT Min', 'Fwd IAT Total', 'Fwd IAT Mean', 'Fwd IAT Std', 'Fwd IAT Max', 'Fwd IAT Min', 'Bwd IAT Total', 'Bwd IAT Mean', 'Bwd IAT Std', 'Bwd IAT Max', 'Bwd IAT Min', 'Fwd PSH Flags', 'Bwd PSH Flags', 'Fwd URG Flags', 'Bwd URG Flags', 'Fwd Header Length', 'Bwd Header Length', 'Fwd Packets/s', 'Bwd Packets/s', 'Packet Length Min', 'Packet Length Max', 'Packet Length Mean', 'Packet Length Std', 'Packet Length Variance', 'FIN Flag Count', 'SYN Flag Count', 'RST Flag Count', 'PSH Flag Count', 'ACK Flag Count', 'URG Flag Count', 'CWE Flag Count', 'ECE Flag Count', 'Down/Up Ratio', 'Average Packet Size', 'Fwd Segment Size Avg', 'Bwd Segment Size Avg', 'Fwd Bytes/Bulk Avg', 'Fwd Packet/Bulk Avg', 'Fwd Bulk Rate Avg', 'Bwd Bytes/Bulk Avg', 'Bwd Packet/Bulk Avg', 'Bwd Bulk Rate Avg', 'Subflow Fwd Packets', 'Subflow Fwd Bytes', 'Subflow Bwd Packets', 'Subflow Bwd Bytes', 'FWD Init Win Bytes', 'Bwd Init Win Bytes', 'Fwd Act Data Pkts', 'Fwd Seg Size Min', 'Active Mean', 'Active Std', 'Active Max', 'Active Min', 'Idle Mean', 'Idle Std', 'Idle Max', 'Idle Min', 'hour']]\n",
        "y_train = train['Label']\n",
        "x_test = test[['col_0', 'col_1', 'col_2', 'col_3', 'col_4', 'col_5', 'col_6', 'col_7', 'col_8', 'col_9', 'col_10', 'col_11', 'col_12', 'col_13', 'col_14', 'col_15', 'col_16', 'col_17', 'col_18', 'col_19', 'col_20', 'col_21', 'col_22', 'col_23', 'col_24', 'col_25', 'col_26', 'col_27', 'col_28', 'col_29', 'col_30', 'col_31', 'col_32', 'col_33', 'col_34', 'col_35', 'col_36', 'col_37', 'col_38', 'col_39', 'col_40', 'col_41', 'col_42', 'col_43', 'col_44', 'col_45', 'col_46', 'col_47', 'col_48', 'col_49', 'col_50', 'col_51', 'col_52', 'col_53', 'col_54', 'col_55', 'col_56', 'col_57', 'col_58', 'col_59', 'col_60', 'col_61', 'col_62', 'col_63', 'col_64', 'col_65', 'col_66', 'col_67', 'col_68', 'col_69', 'col_70', 'col_71', 'col_72', 'col_73', 'col_74', 'col_75', 'col_76', 'col_77', 'col_78', 'col_79', 'col_80', 'col_81', 'col_82', 'col_83', 'col_84', 'col_85', 'col_86', 'col_87', 'col_88', 'col_89', 'col_90', 'col_91', 'col_92', 'col_93', 'col_94', 'col_95', 'col_96', 'col_97', 'col_98', 'col_99', 'Src Port', 'Dst Port', 'Protocol', 'Flow Duration', 'Total Fwd Packet', 'Total Bwd packets', 'Total Length of Fwd Packet', 'Total Length of Bwd Packet', 'Fwd Packet Length Max', 'Fwd Packet Length Min', 'Fwd Packet Length Mean', 'Fwd Packet Length Std', 'Bwd Packet Length Max', 'Bwd Packet Length Min', 'Bwd Packet Length Mean', 'Bwd Packet Length Std', 'Flow Bytes/s', 'Flow Packets/s', 'Flow IAT Mean', 'Flow IAT Std', 'Flow IAT Max', 'Flow IAT Min', 'Fwd IAT Total', 'Fwd IAT Mean', 'Fwd IAT Std', 'Fwd IAT Max', 'Fwd IAT Min', 'Bwd IAT Total', 'Bwd IAT Mean', 'Bwd IAT Std', 'Bwd IAT Max', 'Bwd IAT Min', 'Fwd PSH Flags', 'Bwd PSH Flags', 'Fwd URG Flags', 'Bwd URG Flags', 'Fwd Header Length', 'Bwd Header Length', 'Fwd Packets/s', 'Bwd Packets/s', 'Packet Length Min', 'Packet Length Max', 'Packet Length Mean', 'Packet Length Std', 'Packet Length Variance', 'FIN Flag Count', 'SYN Flag Count', 'RST Flag Count', 'PSH Flag Count', 'ACK Flag Count', 'URG Flag Count', 'CWE Flag Count', 'ECE Flag Count', 'Down/Up Ratio', 'Average Packet Size', 'Fwd Segment Size Avg', 'Bwd Segment Size Avg', 'Fwd Bytes/Bulk Avg', 'Fwd Packet/Bulk Avg', 'Fwd Bulk Rate Avg', 'Bwd Bytes/Bulk Avg', 'Bwd Packet/Bulk Avg', 'Bwd Bulk Rate Avg', 'Subflow Fwd Packets', 'Subflow Fwd Bytes', 'Subflow Bwd Packets', 'Subflow Bwd Bytes', 'FWD Init Win Bytes', 'Bwd Init Win Bytes', 'Fwd Act Data Pkts', 'Fwd Seg Size Min', 'Active Mean', 'Active Std', 'Active Max', 'Active Min', 'Idle Mean', 'Idle Std', 'Idle Max', 'Idle Min', 'hour']]\n",
        "y_test = test['Label']"
      ]
    },
    {
      "cell_type": "code",
      "execution_count": 52,
      "metadata": {
        "colab": {
          "base_uri": "https://localhost:8080/"
        },
        "id": "Hh0nmgSNSKKe",
        "outputId": "d93c446d-5aeb-46b7-a6b3-f24e795ac995"
      },
      "outputs": [
        {
          "output_type": "stream",
          "name": "stdout",
          "text": [
            "Benign     93773\n",
            "Darknet    19411\n",
            "Name: Label, dtype: int64 \n",
            "\n",
            "Benign     23397\n",
            "Darknet     4900\n",
            "Name: Label, dtype: int64 \n",
            "\n"
          ]
        }
      ],
      "source": [
        "print(y_train.value_counts(), '\\n')\n",
        "print(y_test.value_counts(), '\\n')"
      ]
    },
    {
      "cell_type": "markdown",
      "metadata": {
        "id": "a7Ok--pzIJRR"
      },
      "source": [
        "3.1. Convertimos los valores de la y en 0 y 1\n",
        "COMO EL OBJETIVO ES DETECTAR TRAFICO DARKNET:\n",
        "\n",
        "\n",
        "> Benign = 0\n",
        "\n",
        "> **Darknet = 1**\n"
      ]
    },
    {
      "cell_type": "code",
      "execution_count": 53,
      "metadata": {
        "colab": {
          "base_uri": "https://localhost:8080/"
        },
        "id": "LWkLSNVwcVg1",
        "outputId": "ea5fb3aa-3f1f-4718-ad5f-5f1fa315b57b"
      },
      "outputs": [
        {
          "output_type": "stream",
          "name": "stdout",
          "text": [
            "0    93773\n",
            "1    19411\n",
            "Name: Label, dtype: int64\n"
          ]
        },
        {
          "output_type": "stream",
          "name": "stderr",
          "text": [
            "<ipython-input-53-9c98ef5640ee>:2: SettingWithCopyWarning: \n",
            "A value is trying to be set on a copy of a slice from a DataFrame\n",
            "\n",
            "See the caveats in the documentation: https://pandas.pydata.org/pandas-docs/stable/user_guide/indexing.html#returning-a-view-versus-a-copy\n",
            "  y_train.loc[y_train == 'Benign'] = 0\n",
            "<ipython-input-53-9c98ef5640ee>:3: SettingWithCopyWarning: \n",
            "A value is trying to be set on a copy of a slice from a DataFrame\n",
            "\n",
            "See the caveats in the documentation: https://pandas.pydata.org/pandas-docs/stable/user_guide/indexing.html#returning-a-view-versus-a-copy\n",
            "  y_train.loc[y_train == 'Darknet'] = 1\n"
          ]
        }
      ],
      "source": [
        "#Convertimos los datos de la variable dependiente y en valores 0 o 1\n",
        "y_train.loc[y_train == 'Benign'] = 0 \n",
        "y_train.loc[y_train == 'Darknet'] = 1\n",
        "\n",
        "print(y_train.value_counts())"
      ]
    },
    {
      "cell_type": "code",
      "execution_count": 54,
      "metadata": {
        "colab": {
          "base_uri": "https://localhost:8080/"
        },
        "id": "0IJRP7jqbahu",
        "outputId": "5404e212-6649-4808-db34-c349993bd1b7"
      },
      "outputs": [
        {
          "output_type": "stream",
          "name": "stdout",
          "text": [
            "0    23397\n",
            "1     4900\n",
            "Name: Label, dtype: int64\n"
          ]
        },
        {
          "output_type": "stream",
          "name": "stderr",
          "text": [
            "<ipython-input-54-a0ff17199a8f>:2: SettingWithCopyWarning: \n",
            "A value is trying to be set on a copy of a slice from a DataFrame\n",
            "\n",
            "See the caveats in the documentation: https://pandas.pydata.org/pandas-docs/stable/user_guide/indexing.html#returning-a-view-versus-a-copy\n",
            "  y_test.loc[y_test == 'Benign'] = 0\n",
            "<ipython-input-54-a0ff17199a8f>:3: SettingWithCopyWarning: \n",
            "A value is trying to be set on a copy of a slice from a DataFrame\n",
            "\n",
            "See the caveats in the documentation: https://pandas.pydata.org/pandas-docs/stable/user_guide/indexing.html#returning-a-view-versus-a-copy\n",
            "  y_test.loc[y_test == 'Darknet'] = 1\n"
          ]
        }
      ],
      "source": [
        "#Hacemos lo mismo con test \n",
        "y_test.loc[y_test == 'Benign'] = 0 \n",
        "y_test.loc[y_test == 'Darknet'] = 1\n",
        "\n",
        "print(y_test.value_counts())"
      ]
    },
    {
      "cell_type": "markdown",
      "metadata": {
        "id": "K1cJhzVnUjcI"
      },
      "source": [
        "\n",
        "\n",
        "---\n",
        "\n"
      ]
    },
    {
      "cell_type": "markdown",
      "metadata": {
        "id": "D_0uga8t9aXL"
      },
      "source": [
        "**2ª FASE: DATA ANALYTICS**\n",
        "\n",
        "---\n"
      ]
    },
    {
      "cell_type": "markdown",
      "metadata": {
        "id": "AFs0HYuKS6kY"
      },
      "source": [
        "En esta 2ª fase del análisis del dato, voy a realizar en primer lugar una red neuronal, en concreto una deep neural network, con distintas configuraciones e implementaciones para buscar la mejor evaluación de la red neuronal, ya que buscamos una red neuronal muy precisa para detectar las conexiones de la Darknet. \n",
        "Después se aplicarán otros modelos de Machine Learning como: Logistic Regression, Decision Trees, Random Forest, KNN y una Red Neuronal para comparar estos 5 modelos utilizados y utilizar el más preciso. "
      ]
    },
    {
      "cell_type": "code",
      "execution_count": 55,
      "metadata": {
        "id": "B4hT076oK9cj"
      },
      "outputs": [],
      "source": [
        "y_train = y_train.astype('int')\n",
        "y_test = y_test.astype('int')"
      ]
    },
    {
      "cell_type": "markdown",
      "metadata": {
        "id": "PEwv643xflUR"
      },
      "source": [
        "Como tenemos un desbalanceo de datos, aplicamos un SMOTE al conjunto de entrenamiento "
      ]
    },
    {
      "cell_type": "code",
      "execution_count": 56,
      "metadata": {
        "id": "V5LiLRBCpL3j"
      },
      "outputs": [],
      "source": [
        "from imblearn.over_sampling import SMOTE\n",
        "\n",
        "smote = SMOTE(random_state=45)\n",
        "x_train_smote, y_train_smote = smote.fit_resample(x_train, y_train)"
      ]
    },
    {
      "cell_type": "markdown",
      "metadata": {
        "id": "acrPmze0nViy"
      },
      "source": [
        "**LOGISTIC REGRESSION**\n"
      ]
    },
    {
      "cell_type": "code",
      "execution_count": 57,
      "metadata": {
        "id": "RrKJMe_YnSTI"
      },
      "outputs": [],
      "source": [
        "from sklearn.linear_model import LogisticRegression #Modelo de Regresión Logística\n",
        "from sklearn.metrics import confusion_matrix, accuracy_score, recall_score, precision_score, classification_report, f1_score, roc_auc_score\n",
        "\n",
        "# Creamos el modelo de regresion logistica\n",
        "lr = LogisticRegression(fit_intercept=True, penalty='l2', dual=False, intercept_scaling=1, tol=1e-5, C=1.0, \n",
        "                        solver='lbfgs', max_iter=75, multi_class='auto', warm_start=True)\n",
        "\n",
        "# Entrenamos el modelo\n",
        "lr.fit(x_train_smote, y_train_smote)\n",
        "\n",
        "# Predecimos el modelo\n",
        "y_pred_test_lr = lr.predict(x_test)"
      ]
    },
    {
      "cell_type": "markdown",
      "metadata": {
        "id": "8jUW4xIktEmJ"
      },
      "source": [
        "Medidas de error/precisión"
      ]
    },
    {
      "cell_type": "code",
      "execution_count": 58,
      "metadata": {
        "colab": {
          "base_uri": "https://localhost:8080/"
        },
        "id": "fKnOjZTSZPlF",
        "outputId": "710f7f94-d039-47da-85fa-fd6db7697bb3"
      },
      "outputs": [
        {
          "output_type": "stream",
          "name": "stdout",
          "text": [
            "Accuracy: 0.696\n",
            "Precision: 0.326\n",
            "Recall: 0.705\n",
            "F1-score: 0.446\n",
            "ROC AUC: 0.700\n",
            "              precision    recall  f1-score   support\n",
            "\n",
            "           0       0.69      0.92      0.79     17700\n",
            "           1       0.70      0.33      0.45     10597\n",
            "\n",
            "    accuracy                           0.70     28297\n",
            "   macro avg       0.70      0.62      0.62     28297\n",
            "weighted avg       0.70      0.70      0.66     28297\n",
            "\n"
          ]
        }
      ],
      "source": [
        "accuracy_test = accuracy_score(y_test, y_pred_test_lr)\n",
        "precision_test = precision_score(y_test, y_pred_test_lr)\n",
        "recall_test = recall_score(y_test, y_pred_test_lr)\n",
        "f1_test = f1_score(y_test, y_pred_test_lr)\n",
        "roc_auc_test = roc_auc_score(y_test, y_pred_test_lr)\n",
        "\n",
        "print(\"Accuracy: {:.3f}\".format(accuracy_test))\n",
        "print(\"Precision: {:.3f}\".format(precision_test))\n",
        "print(\"Recall: {:.3f}\".format(recall_test))\n",
        "print(\"F1-score: {:.3f}\".format(f1_test))\n",
        "print(\"ROC AUC: {:.3f}\".format(roc_auc_test))\n",
        "print(classification_report(y_pred_test_lr, y_test))\n",
        "cm_lr = confusion_matrix(y_test, y_pred_test_lr)"
      ]
    },
    {
      "cell_type": "code",
      "execution_count": 59,
      "metadata": {
        "colab": {
          "base_uri": "https://localhost:8080/",
          "height": 472
        },
        "id": "HtLxHMMTVKZs",
        "outputId": "1fc1d80f-ece8-4a7d-b5ae-0122ef3fc27d"
      },
      "outputs": [
        {
          "output_type": "display_data",
          "data": {
            "text/plain": [
              "<Figure size 504x504 with 2 Axes>"
            ],
            "image/png": "[encoded data removed]"
          },
          "metadata": {}
        }
      ],
      "source": [
        "#MATRIZ DE CONFUSION\n",
        "# Configuramos el estilo de la tabla\n",
        "sns.set(style='whitegrid', font_scale=1.4)\n",
        "\n",
        "# Creamos la tabla con colores\n",
        "fig, ax = plt.subplots(figsize=(7, 7))\n",
        "ax = sns.heatmap(cm_lr, annot=True, cmap='Blues', fmt='g', cbar=True)\n",
        "\n",
        "# Configuramos los títulos y etiquetas\n",
        "ax.set_xlabel('Valor predicho', fontsize=14)\n",
        "ax.set_ylabel('Valores real', fontsize=14)\n",
        "ax.set_title('Matriz de confusión', fontsize=16)\n",
        "ax.xaxis.set_ticklabels(['Benign', 'Darknet'])\n",
        "ax.yaxis.set_ticklabels(['Benign', 'Darknet'])\n",
        "\n",
        "plt.show()"
      ]
    },
    {
      "cell_type": "markdown",
      "metadata": {
        "id": "dA4IoGJ49vAK"
      },
      "source": [
        "\n",
        "\n",
        "---\n",
        "\n"
      ]
    },
    {
      "cell_type": "markdown",
      "metadata": {
        "id": "YGXqPwRkKUW8"
      },
      "source": [
        "**DECISION TREES**"
      ]
    },
    {
      "cell_type": "code",
      "execution_count": 60,
      "metadata": {
        "id": "rz0Xoj4VKT9E"
      },
      "outputs": [],
      "source": [
        "from sklearn.tree import DecisionTreeClassifier\n",
        "# ARBOL DE DECISION\n",
        "\n",
        "# Creamos el arbol de decision\n",
        "tree = DecisionTreeClassifier(criterion='entropy', splitter='best', max_depth=50,\n",
        "                              min_samples_split=2, min_samples_leaf=1, min_weight_fraction_leaf=0.0, \n",
        "                              max_features=None, random_state=43, max_leaf_nodes=None, \n",
        "                              min_impurity_decrease=0.0, class_weight=None, ccp_alpha=0.0)\n",
        "\n",
        "# Entrenamos el modelo\n",
        "tree.fit(x_train_smote, y_train_smote)\n",
        "\n",
        "# Predecimos el modelo\n",
        "y_pred_test_tree = tree.predict(x_test)"
      ]
    },
    {
      "cell_type": "markdown",
      "metadata": {
        "id": "mTFUt8zKsm6S"
      },
      "source": [
        "Medidas de error/precisión"
      ]
    },
    {
      "cell_type": "code",
      "execution_count": 61,
      "metadata": {
        "colab": {
          "base_uri": "https://localhost:8080/"
        },
        "id": "Jxeae8isLfVd",
        "outputId": "37f305db-05af-486b-dff9-b291681b61c1"
      },
      "outputs": [
        {
          "output_type": "stream",
          "name": "stdout",
          "text": [
            "Accuracy: 0.999\n",
            "Precision: 0.998\n",
            "Recall: 0.998\n",
            "F1-score: 0.998\n",
            "ROC AUC: 0.999\n",
            "              precision    recall  f1-score   support\n",
            "\n",
            "           0       1.00      1.00      1.00     23396\n",
            "           1       1.00      1.00      1.00      4901\n",
            "\n",
            "    accuracy                           1.00     28297\n",
            "   macro avg       1.00      1.00      1.00     28297\n",
            "weighted avg       1.00      1.00      1.00     28297\n",
            "\n"
          ]
        }
      ],
      "source": [
        "accuracy_test = accuracy_score(y_test, y_pred_test_tree)\n",
        "precision_test = precision_score(y_test, y_pred_test_tree)\n",
        "recall_test = recall_score(y_test, y_pred_test_tree)\n",
        "f1_test = f1_score(y_test, y_pred_test_tree)\n",
        "roc_auc_test = roc_auc_score(y_test, y_pred_test_tree)\n",
        "\n",
        "print(\"Accuracy: {:.3f}\".format(accuracy_test))\n",
        "print(\"Precision: {:.3f}\".format(precision_test))\n",
        "print(\"Recall: {:.3f}\".format(recall_test))\n",
        "print(\"F1-score: {:.3f}\".format(f1_test))\n",
        "print(\"ROC AUC: {:.3f}\".format(roc_auc_test))\n",
        "print(classification_report(y_pred_test_tree, y_test))\n",
        "cm_tree = confusion_matrix(y_test, y_pred_test_tree)"
      ]
    },
    {
      "cell_type": "code",
      "execution_count": 62,
      "metadata": {
        "colab": {
          "base_uri": "https://localhost:8080/",
          "height": 472
        },
        "id": "EH2nEpq4N7K3",
        "outputId": "e83dfdba-34e5-4ddf-c698-f93219cc3e2e"
      },
      "outputs": [
        {
          "output_type": "display_data",
          "data": {
            "text/plain": [
              "<Figure size 504x504 with 2 Axes>"
            ],
            "image/png": "[encoded data removed]"
          },
          "metadata": {}
        }
      ],
      "source": [
        "#MATRIZ DE CONFUSION\n",
        "# Configuramos el estilo de la tabla\n",
        "sns.set(style='whitegrid', font_scale=1.4)\n",
        "\n",
        "# Creamos la tabla con colores\n",
        "fig, ax = plt.subplots(figsize=(7, 7))\n",
        "ax = sns.heatmap(cm_tree, annot=True, cmap='Blues', fmt='g', cbar=True)\n",
        "\n",
        "# Configuramos los títulos y etiquetas\n",
        "ax.set_xlabel('Valor predicho', fontsize=14)\n",
        "ax.set_ylabel('Valores real', fontsize=14)\n",
        "ax.set_title('Matriz de confusión', fontsize=16)\n",
        "ax.xaxis.set_ticklabels(['Benign', 'Darknet'])\n",
        "ax.yaxis.set_ticklabels(['Benign', 'Darknet'])\n",
        "\n",
        "plt.show()"
      ]
    },
    {
      "cell_type": "markdown",
      "metadata": {
        "id": "TOFVNEerUTXN"
      },
      "source": [
        "**RANDOM FOREST**"
      ]
    },
    {
      "cell_type": "code",
      "execution_count": 63,
      "metadata": {
        "id": "0YsLvKUiUTvX"
      },
      "outputs": [],
      "source": [
        "from sklearn.ensemble import RandomForestClassifier\n",
        "#RANDOM FOREST \n",
        "# Creamos el Random Forest\n",
        "rf = RandomForestClassifier(n_estimators=50, criterion='gini', max_depth=50,\n",
        "                            min_samples_split=2, min_samples_leaf=1, \n",
        "                            min_weight_fraction_leaf=0.0, max_features='sqrt', \n",
        "                            max_leaf_nodes=None, min_impurity_decrease=0.0, \n",
        "                            bootstrap=True, oob_score=False, n_jobs=None, \n",
        "                            random_state=50, verbose=0, warm_start=False, \n",
        "                            class_weight=None, ccp_alpha=0.0, max_samples=None)\n",
        "\n",
        "\n",
        "# Entrenamos el modelo\n",
        "rf.fit(x_train_smote, y_train_smote)\n",
        "\n",
        "# Predecimos el modelo\n",
        "y_pred_test_rf = rf.predict(x_test)"
      ]
    },
    {
      "cell_type": "markdown",
      "metadata": {
        "id": "5OavpCe1tIuh"
      },
      "source": [
        "Medidas de error/precisión"
      ]
    },
    {
      "cell_type": "code",
      "execution_count": 64,
      "metadata": {
        "id": "mDkv7tcFUUJ3",
        "colab": {
          "base_uri": "https://localhost:8080/"
        },
        "outputId": "82c9c9f5-294a-475a-ae17-17e48a11f514"
      },
      "outputs": [
        {
          "output_type": "stream",
          "name": "stdout",
          "text": [
            "Accuracy: 0.999\n",
            "Precision: 0.999\n",
            "Recall: 0.996\n",
            "F1-score: 0.998\n",
            "ROC AUC: 0.998\n",
            "              precision    recall  f1-score   support\n",
            "\n",
            "           0       1.00      1.00      1.00     23414\n",
            "           1       1.00      1.00      1.00      4883\n",
            "\n",
            "    accuracy                           1.00     28297\n",
            "   macro avg       1.00      1.00      1.00     28297\n",
            "weighted avg       1.00      1.00      1.00     28297\n",
            "\n"
          ]
        }
      ],
      "source": [
        "accuracy_test = accuracy_score(y_test, y_pred_test_rf)\n",
        "precision_test = precision_score(y_test, y_pred_test_rf)\n",
        "recall_test = recall_score(y_test, y_pred_test_rf)\n",
        "f1_test = f1_score(y_test, y_pred_test_rf)\n",
        "roc_auc_test = roc_auc_score(y_test, y_pred_test_rf)\n",
        "\n",
        "print(\"Accuracy: {:.3f}\".format(accuracy_test))\n",
        "print(\"Precision: {:.3f}\".format(precision_test))\n",
        "print(\"Recall: {:.3f}\".format(recall_test))\n",
        "print(\"F1-score: {:.3f}\".format(f1_test))\n",
        "print(\"ROC AUC: {:.3f}\".format(roc_auc_test))\n",
        "print(classification_report(y_pred_test_rf, y_test))\n",
        "cm_rf = confusion_matrix(y_test, y_pred_test_rf)"
      ]
    },
    {
      "cell_type": "code",
      "source": [
        "#MATRIZ DE CONFUSION\n",
        "# Configuramos el estilo de la tabla\n",
        "sns.set(style='whitegrid', font_scale=1.4)\n",
        "\n",
        "# Creamos la tabla con colores\n",
        "fig, ax = plt.subplots(figsize=(7, 7))\n",
        "ax = sns.heatmap(cm_rf, annot=True, cmap='Blues', fmt='g', cbar=True)\n",
        "\n",
        "# Configuramos los títulos y etiquetas\n",
        "ax.set_xlabel('Valor predicho', fontsize=14)\n",
        "ax.set_ylabel('Valores real', fontsize=14)\n",
        "ax.set_title('Matriz de confusión', fontsize=16)\n",
        "ax.xaxis.set_ticklabels(['Benign', 'Darknet'])\n",
        "ax.yaxis.set_ticklabels(['Benign', 'Darknet'])\n",
        "\n",
        "plt.show()"
      ],
      "metadata": {
        "colab": {
          "base_uri": "https://localhost:8080/",
          "height": 472
        },
        "id": "d_HPMhXiw8r1",
        "outputId": "ecec60c8-6f05-4e38-821f-c4b2330ed6ed"
      },
      "execution_count": 65,
      "outputs": [
        {
          "output_type": "display_data",
          "data": {
            "text/plain": [
              "<Figure size 504x504 with 2 Axes>"
            ],
            "image/png": "[encoded data removed]"
          },
          "metadata": {}
        }
      ]
    },
    {
      "cell_type": "markdown",
      "metadata": {
        "id": "LcTyj0LQVc8i"
      },
      "source": [
        "**KNN-K-Nearest Neighbors**"
      ]
    },
    {
      "cell_type": "code",
      "execution_count": 66,
      "metadata": {
        "id": "3wS1nNY3VfVg"
      },
      "outputs": [],
      "source": [
        "from sklearn.neighbors import KNeighborsClassifier\n",
        "# KNN\n",
        "# Creamos el modelo de KNN\n",
        "knn = KNeighborsClassifier(n_neighbors=5, weights='uniform', algorithm='auto', \n",
        "                           leaf_size=30, p=2, metric='minkowski', \n",
        "                           metric_params=None, n_jobs=None)\n",
        "\n",
        "# Entrenamos el modelo\n",
        "knn.fit(x_train_smote, y_train_smote)\n",
        "\n",
        "#Predecimos el modelo\n",
        "y_pred_test_knn = knn.predict(x_test)"
      ]
    },
    {
      "cell_type": "markdown",
      "source": [
        "Medidas de error/precisión"
      ],
      "metadata": {
        "id": "4VV7cYTD1J84"
      }
    },
    {
      "cell_type": "code",
      "execution_count": 67,
      "metadata": {
        "id": "OWIb10qfVfcj",
        "colab": {
          "base_uri": "https://localhost:8080/"
        },
        "outputId": "844433b5-e653-403c-aba8-410b78c2c4de"
      },
      "outputs": [
        {
          "output_type": "stream",
          "name": "stdout",
          "text": [
            "Accuracy: 0.895\n",
            "Precision: 0.642\n",
            "Recall: 0.885\n",
            "F1-score: 0.744\n",
            "ROC AUC: 0.891\n",
            "              precision    recall  f1-score   support\n",
            "\n",
            "           0       0.90      0.97      0.93     21541\n",
            "           1       0.89      0.64      0.74      6756\n",
            "\n",
            "    accuracy                           0.89     28297\n",
            "   macro avg       0.89      0.81      0.84     28297\n",
            "weighted avg       0.89      0.89      0.89     28297\n",
            "\n"
          ]
        }
      ],
      "source": [
        "accuracy_test = accuracy_score(y_test, y_pred_test_knn)\n",
        "precision_test = precision_score(y_test, y_pred_test_knn)\n",
        "recall_test = recall_score(y_test, y_pred_test_knn)\n",
        "f1_test = f1_score(y_test, y_pred_test_knn)\n",
        "roc_auc_test = roc_auc_score(y_test, y_pred_test_knn)\n",
        "\n",
        "print(\"Accuracy: {:.3f}\".format(accuracy_test))\n",
        "print(\"Precision: {:.3f}\".format(precision_test))\n",
        "print(\"Recall: {:.3f}\".format(recall_test))\n",
        "print(\"F1-score: {:.3f}\".format(f1_test))\n",
        "print(\"ROC AUC: {:.3f}\".format(roc_auc_test))\n",
        "print(classification_report(y_pred_test_knn, y_test))\n",
        "cm_knn = confusion_matrix(y_test, y_pred_test_knn)"
      ]
    },
    {
      "cell_type": "code",
      "source": [
        "#MATRIZ DE CONFUSION\n",
        "# Configuramos el estilo de la tabla\n",
        "sns.set(style='whitegrid', font_scale=1.4)\n",
        "\n",
        "# Creamos la tabla con colores\n",
        "fig, ax = plt.subplots(figsize=(7, 7))\n",
        "ax = sns.heatmap(cm_knn, annot=True, cmap='Blues', fmt='g', cbar=True)\n",
        "\n",
        "# Configuramos los títulos y etiquetas\n",
        "ax.set_xlabel('Valor predicho', fontsize=14)\n",
        "ax.set_ylabel('Valores real', fontsize=14)\n",
        "ax.set_title('Matriz de confusión', fontsize=16)\n",
        "ax.xaxis.set_ticklabels(['Benign', 'Darknet'])\n",
        "ax.yaxis.set_ticklabels(['Benign', 'Darknet'])\n",
        "\n",
        "plt.show()"
      ],
      "metadata": {
        "colab": {
          "base_uri": "https://localhost:8080/",
          "height": 472
        },
        "id": "TUjGJ2ag1spR",
        "outputId": "9be24b8d-7e42-42d5-92cc-c3af3a069d68"
      },
      "execution_count": 68,
      "outputs": [
        {
          "output_type": "display_data",
          "data": {
            "text/plain": [
              "<Figure size 504x504 with 2 Axes>"
            ],
            "image/png": "[encoded data removed]"
          },
          "metadata": {}
        }
      ]
    },
    {
      "cell_type": "markdown",
      "source": [
        "**MultiLayer Perceptron (MLP)**"
      ],
      "metadata": {
        "id": "4u1YIjqk7LJD"
      }
    },
    {
      "cell_type": "code",
      "source": [
        "from sklearn.neural_network import MLPClassifier\n",
        "# MLP\n",
        "# Creamos el modelo de MLP\n",
        "mlp = MLPClassifier(hidden_layer_sizes=(10, 10, 10), activation='relu', \n",
        "                    solver='adam', alpha=0.0001, batch_size='auto', \n",
        "                    learning_rate='constant', learning_rate_init=0.001, \n",
        "                    power_t=0.5, max_iter=200, shuffle=True, random_state=None, \n",
        "                    tol=0.0001, verbose=False, warm_start=False, momentum=0.9, \n",
        "                    nesterovs_momentum=True, early_stopping=False, \n",
        "                    validation_fraction=0.1, beta_1=0.9, beta_2=0.999, \n",
        "                    epsilon=1e-08, n_iter_no_change=10, max_fun=15000)\n",
        "\n",
        "# Entrenamos el modelo\n",
        "mlp.fit(x_train_smote, y_train_smote)\n",
        "\n",
        "#Predecimos el modelo\n",
        "y_pred_test_mlp = mlp.predict(x_test)"
      ],
      "metadata": {
        "id": "p3QQ-VeQ7QGw"
      },
      "execution_count": 69,
      "outputs": []
    },
    {
      "cell_type": "markdown",
      "source": [
        "Medidas de error/precision"
      ],
      "metadata": {
        "id": "Wi0lsxdG8Acv"
      }
    },
    {
      "cell_type": "code",
      "source": [
        "accuracy_test = accuracy_score(y_test, y_pred_test_mlp)\n",
        "precision_test = precision_score(y_test, y_pred_test_mlp)\n",
        "recall_test = recall_score(y_test, y_pred_test_mlp)\n",
        "f1_test = f1_score(y_test, y_pred_test_mlp)\n",
        "roc_auc_test = roc_auc_score(y_test, y_pred_test_mlp)\n",
        "\n",
        "print(\"Accuracy: {:.3f}\".format(accuracy_test))\n",
        "print(\"Precision: {:.3f}\".format(precision_test))\n",
        "print(\"Recall: {:.3f}\".format(recall_test))\n",
        "print(\"F1-score: {:.3f}\".format(f1_test))\n",
        "print(\"ROC AUC: {:.3f}\".format(roc_auc_test))\n",
        "print(classification_report(y_pred_test_mlp, y_test))\n",
        "cm_mlp = confusion_matrix(y_test, y_pred_test_mlp)"
      ],
      "metadata": {
        "colab": {
          "base_uri": "https://localhost:8080/"
        },
        "id": "SoL9YpIz7QkG",
        "outputId": "51e50d16-4612-468e-e3bb-a95ef1aa42b7"
      },
      "execution_count": 70,
      "outputs": [
        {
          "output_type": "stream",
          "name": "stdout",
          "text": [
            "Accuracy: 0.932\n",
            "Precision: 0.975\n",
            "Recall: 0.621\n",
            "F1-score: 0.759\n",
            "ROC AUC: 0.809\n",
            "              precision    recall  f1-score   support\n",
            "\n",
            "           0       1.00      0.93      0.96     25176\n",
            "           1       0.62      0.98      0.76      3121\n",
            "\n",
            "    accuracy                           0.93     28297\n",
            "   macro avg       0.81      0.95      0.86     28297\n",
            "weighted avg       0.96      0.93      0.94     28297\n",
            "\n"
          ]
        }
      ]
    },
    {
      "cell_type": "code",
      "source": [
        "#MATRIZ DE CONFUSION\n",
        "# Configuramos el estilo de la tabla\n",
        "sns.set(style='whitegrid', font_scale=1.4)\n",
        "\n",
        "# Creamos la tabla con colores\n",
        "fig, ax = plt.subplots(figsize=(7, 7))\n",
        "ax = sns.heatmap(cm_mlp, annot=True, cmap='Blues', fmt='g', cbar=True)\n",
        "\n",
        "# Configuramos los títulos y etiquetas\n",
        "ax.set_xlabel('Valor predicho', fontsize=14)\n",
        "ax.set_ylabel('Valores real', fontsize=14)\n",
        "ax.set_title('Matriz de confusión', fontsize=16)\n",
        "ax.xaxis.set_ticklabels(['Benign', 'Darknet'])\n",
        "ax.yaxis.set_ticklabels(['Benign', 'Darknet'])\n",
        "\n",
        "plt.show()"
      ],
      "metadata": {
        "colab": {
          "base_uri": "https://localhost:8080/",
          "height": 472
        },
        "id": "P3whx8zf7QtY",
        "outputId": "8e47beaf-ef01-4056-95ad-8e6ce3b51537"
      },
      "execution_count": 71,
      "outputs": [
        {
          "output_type": "display_data",
          "data": {
            "text/plain": [
              "<Figure size 504x504 with 2 Axes>"
            ],
            "image/png": "[encoded data removed]"
          },
          "metadata": {}
        }
      ]
    },
    {
      "cell_type": "markdown",
      "source": [
        "**Boxplot *ACCURACY* 5 Modelos**"
      ],
      "metadata": {
        "id": "enkldSdwhio4"
      }
    },
    {
      "cell_type": "markdown",
      "source": [
        "Realizamosel boxplot del ACCURACY ESTIMADO por VALIDACION CRUZADA 10x10 fold"
      ],
      "metadata": {
        "id": "pfH27jh6np9j"
      }
    },
    {
      "cell_type": "code",
      "source": [
        "import numpy as np\n",
        "import matplotlib.pyplot as plt\n",
        "from sklearn.model_selection import cross_val_score, KFold\n",
        "\n",
        "modelos = [lr, tree, rf, knn, mlp]\n",
        "\n",
        "# Definir colores para cada modelo\n",
        "colores = ['blue', 'orange', 'green', 'red', 'purple']\n",
        "\n",
        "# Definir validación cruzada 10x10-fold\n",
        "cv = KFold(n_splits=10, shuffle=True, random_state=1)\n",
        "\n",
        "# Realizar validación cruzada y guardar las precisiones estimadas\n",
        "scores = []\n",
        "for modelo in modelos:\n",
        "    score = cross_val_score(modelo, x_test, y_test, scoring='accuracy', cv=cv, n_jobs=-1)\n",
        "    scores.append(score * 100)\n",
        "\n",
        "# Crear el boxplot\n",
        "box = plt.boxplot(scores, patch_artist=True)\n",
        "\n",
        "# Agregar etiquetas de los ejes y título\n",
        "plt.ylabel('Accuracy (%)')\n",
        "\n",
        "# Agregar etiquetas de los modelos en el eje x\n",
        "labels = ['Logistic Regression', 'Decision Tree', 'Random Forest', 'KNN', 'MLP' ]\n",
        "plt.xticks(np.arange(1, len(labels) + 1), labels)\n",
        "\n",
        "# Agregar colores a los modelos en el boxplot\n",
        "for patch, color in zip(box['boxes'], colores):\n",
        "    patch.set_facecolor(color)\n",
        "\n",
        "# Mostrar el gráfico\n",
        "plt.show()"
      ],
      "metadata": {
        "colab": {
          "base_uri": "https://localhost:8080/",
          "height": 273
        },
        "id": "dlUhQZZrhiXP",
        "outputId": "c0938354-9421-4c1d-f2b6-9d7de315721f"
      },
      "execution_count": 72,
      "outputs": [
        {
          "output_type": "display_data",
          "data": {
            "text/plain": [
              "<Figure size 1008x288 with 1 Axes>"
            ],
            "image/png": "[encoded data removed]"
          },
          "metadata": {}
        }
      ]
    },
    {
      "cell_type": "markdown",
      "source": [
        "**Boxplot *ACCURACY* (2 mejores modelos)**"
      ],
      "metadata": {
        "id": "_0SrC0EWuNnJ"
      }
    },
    {
      "cell_type": "code",
      "source": [
        "import numpy as np\n",
        "import matplotlib.pyplot as plt\n",
        "from sklearn.model_selection import cross_val_score, KFold\n",
        "\n",
        "modelos = [tree, rf]\n",
        "\n",
        "# Definir colores para cada modelo\n",
        "colores = ['green', 'red']\n",
        "\n",
        "# Definir validación cruzada 10x10-fold\n",
        "cv = KFold(n_splits=10, shuffle=True, random_state=1)\n",
        "\n",
        "# Realizar validación cruzada y guardar las precisiones estimadas\n",
        "scores = []\n",
        "for modelo in modelos:\n",
        "    score = cross_val_score(modelo, x_test, y_test, scoring='accuracy', cv=cv, n_jobs=-1)\n",
        "    scores.append(score * 100)\n",
        "\n",
        "# Crear el boxplot\n",
        "box = plt.boxplot(scores, patch_artist=True)\n",
        "\n",
        "# Agregar etiquetas de los ejes y título\n",
        "plt.ylabel('Accuracy (%)')\n",
        "\n",
        "# Agregar etiquetas de los modelos en el eje x\n",
        "labels = ['Decision Tree', 'Random Forest']\n",
        "plt.xticks(np.arange(1, len(labels) + 1), labels)\n",
        "\n",
        "# Agregar colores a los modelos en el boxplot\n",
        "for patch, color in zip(box['boxes'], colores):\n",
        "    patch.set_facecolor(color)\n",
        "\n",
        "# Mostrar el gráfico\n",
        "plt.show()"
      ],
      "metadata": {
        "colab": {
          "base_uri": "https://localhost:8080/",
          "height": 273
        },
        "id": "u2ApTC42tDOF",
        "outputId": "e326983a-e513-4f7c-8633-5081dc207cf7"
      },
      "execution_count": null,
      "outputs": [
        {
          "output_type": "display_data",
          "data": {
            "text/plain": [
              "<Figure size 1008x288 with 1 Axes>"
            ],
            "image/png": "[encoded data removed]"
          },
          "metadata": {}
        }
      ]
    },
    {
      "cell_type": "markdown",
      "source": [
        "**Boxplot *RECALL* 5 Modelos**"
      ],
      "metadata": {
        "id": "kW9O3ZX7htTR"
      }
    },
    {
      "cell_type": "code",
      "source": [
        "import numpy as np\n",
        "import matplotlib.pyplot as plt\n",
        "from sklearn.model_selection import cross_val_score, KFold\n",
        "\n",
        "modelos = [lr, tree, rf, knn, mlp]\n",
        "\n",
        "# Definir colores para cada modelo\n",
        "colores = ['blue', 'orange', 'green', 'red', 'purple']\n",
        "\n",
        "# Definir validación cruzada 10x10-fold\n",
        "cv = KFold(n_splits=10, shuffle=True, random_state=1)\n",
        "\n",
        "# Realizar validación cruzada y guardar las precisiones estimadas\n",
        "scores = []\n",
        "for modelo in modelos:\n",
        "    score = cross_val_score(modelo, x_test, y_test, scoring='recall', cv=cv, n_jobs=-1)\n",
        "    scores.append(score * 100)\n",
        "\n",
        "# Crear el boxplot\n",
        "box = plt.boxplot(scores, patch_artist=True)\n",
        "\n",
        "# Agregar etiquetas de los ejes y título\n",
        "plt.ylabel('Recall (%)')\n",
        "\n",
        "# Agregar etiquetas de los modelos en el eje x\n",
        "labels = ['Logistic Regression', 'Decision Tree', 'Random Forest', 'KNN', 'MLP' ]\n",
        "plt.xticks(np.arange(1, len(labels) + 1), labels)\n",
        "\n",
        "# Agregar colores a los modelos en el boxplot\n",
        "for patch, color in zip(box['boxes'], colores):\n",
        "    patch.set_facecolor(color)\n",
        "\n",
        "# Mostrar el gráfico\n",
        "plt.show()"
      ],
      "metadata": {
        "colab": {
          "base_uri": "https://localhost:8080/",
          "height": 273
        },
        "id": "wvlhn2W2htcS",
        "outputId": "2086a7f4-2c56-4344-8302-1aa716fc2885"
      },
      "execution_count": null,
      "outputs": [
        {
          "output_type": "display_data",
          "data": {
            "text/plain": [
              "<Figure size 1008x288 with 1 Axes>"
            ],
            "image/png": "[encoded data removed]"
          },
          "metadata": {}
        }
      ]
    },
    {
      "cell_type": "markdown",
      "source": [
        "**Boxplot *RECALL* (2mejores modelos)**"
      ],
      "metadata": {
        "id": "CLSlA_iVvddS"
      }
    },
    {
      "cell_type": "code",
      "source": [
        "import numpy as np\n",
        "import matplotlib.pyplot as plt\n",
        "from sklearn.model_selection import cross_val_score, KFold\n",
        "\n",
        "modelos = [tree, rf]\n",
        "\n",
        "# Definir colores para cada modelo\n",
        "colores = ['green', 'red']\n",
        "\n",
        "# Definir validación cruzada 10x10-fold\n",
        "cv = KFold(n_splits=10, shuffle=True, random_state=1)\n",
        "\n",
        "# Realizar validación cruzada y guardar las precisiones estimadas\n",
        "scores = []\n",
        "for modelo in modelos:\n",
        "    score = cross_val_score(modelo, x_test, y_test, scoring='recall', cv=cv, n_jobs=-1)\n",
        "    scores.append(score * 100)\n",
        "\n",
        "# Crear el boxplot\n",
        "box = plt.boxplot(scores, patch_artist=True)\n",
        "\n",
        "# Agregar etiquetas de los ejes y título\n",
        "plt.ylabel('Recall(%)')\n",
        "\n",
        "# Agregar etiquetas de los modelos en el eje x\n",
        "labels = ['Decision Tree', 'Random Forest']\n",
        "plt.xticks(np.arange(1, len(labels) + 1), labels)\n",
        "\n",
        "# Agregar colores a los modelos en el boxplot\n",
        "for patch, color in zip(box['boxes'], colores):\n",
        "    patch.set_facecolor(color)\n",
        "\n",
        "# Mostrar el gráfico\n",
        "plt.show()"
      ],
      "metadata": {
        "colab": {
          "base_uri": "https://localhost:8080/",
          "height": 273
        },
        "id": "m4S6OFgCvj42",
        "outputId": "feccaa76-bb06-4f8e-9e54-d4b45982b324"
      },
      "execution_count": null,
      "outputs": [
        {
          "output_type": "display_data",
          "data": {
            "text/plain": [
              "<Figure size 1008x288 with 1 Axes>"
            ],
            "image/png": "[encoded data removed]"
          },
          "metadata": {}
        }
      ]
    },
    {
      "cell_type": "markdown",
      "metadata": {
        "id": "DsH9gz9nSzni"
      },
      "source": [
        "**DEEP NEURAL NETWORK** (DL) "
      ]
    },
    {
      "cell_type": "markdown",
      "metadata": {
        "id": "5GJlAzQ3Vrcw"
      },
      "source": [
        "Vamos a definir 5 layers, con cada capa con capacidad para 128 neuronas. Por tanto tendremos la primera capa de entrada, 3 hidden layers (capas ocultas) y la capa de salida (output) "
      ]
    },
    {
      "cell_type": "code",
      "execution_count": 73,
      "metadata": {
        "id": "I1LWJtNO9lqo"
      },
      "outputs": [],
      "source": [
        "#Importamos las librerías de Keras para el modelo y crear las layers\n",
        "from keras.models import Sequential\n",
        "from keras.layers import Dense, BatchNormalization\n",
        "from keras.regularizers import l1_l2\n",
        "from keras.layers import Dropout\n"
      ]
    },
    {
      "cell_type": "code",
      "execution_count": 74,
      "metadata": {
        "id": "WkLpDN_Z9_Zn"
      },
      "outputs": [],
      "source": [
        "#Creamos nuestro modelo de Red Neuronal\n",
        "\n",
        "model = Sequential()\n",
        "\n",
        "# capa de entrada\n",
        "model.add(Dense(128, input_dim=x_train.shape[1], activation='relu', \n",
        "                kernel_regularizer =l1_l2(1e-5, 1e-4)))\n",
        "model.add(BatchNormalization())\n",
        "# hidden layer 1\n",
        "model.add(Dense(128, activation='relu', \n",
        "                kernel_regularizer =l1_l2(1e-5, 1e-4)))\n",
        "model.add(BatchNormalization())\n",
        "# hidden layer 2\n",
        "model.add(Dense(128, activation='relu',\n",
        "                kernel_regularizer =l1_l2(1e-5, 1e-4)))\n",
        "model.add(BatchNormalization())\n",
        "# hidden layer 3\n",
        "model.add(Dense(128, activation='relu',\n",
        "                kernel_regularizer =l1_l2(1e-5, 1e-4)))\n",
        "model.add(BatchNormalization())\n",
        "# capa de salida con la funcion de activacion sigmoid para que la salida sea entre 0 y 1\n",
        "model.add(Dense(1, activation='sigmoid',\n",
        "                kernel_regularizer =l1_l2(1e-5, 1e-4)))\n",
        "model.add(BatchNormalization())\n",
        "\n",
        "# compilar modelo\n",
        "model.compile(loss='mean_squared_error', optimizer='adagrad', metrics=['accuracy'])"
      ]
    },
    {
      "cell_type": "markdown",
      "source": [
        "Como obtenemos valores de loss grandes, implementamos un Learning Rate Scheduler con la función Coseno "
      ],
      "metadata": {
        "id": "XGutkvV2GpKw"
      }
    },
    {
      "cell_type": "code",
      "source": [
        "from keras.callbacks import LearningRateScheduler\n",
        "import math\n",
        "\n",
        "#Función de schedule basada en la función cosine\n",
        "def cosine_schedule(epoch, lr):\n",
        "    lr_max = 0.1\n",
        "    lr_min = 0.001\n",
        "    n_epochs = 100\n",
        "    cos = (1 + math.cos(math.pi * epoch / n_epochs)) / 2\n",
        "    lr = lr_min + cos * (lr_max - lr_min)\n",
        "    return lr\n",
        "\n",
        "#Callback LearningRateScheduler funcion Coseno\n",
        "lr_scheduler = LearningRateScheduler(cosine_schedule)"
      ],
      "metadata": {
        "id": "QiOxc9pCGf5D"
      },
      "execution_count": 75,
      "outputs": []
    },
    {
      "cell_type": "code",
      "execution_count": 76,
      "metadata": {
        "colab": {
          "base_uri": "https://localhost:8080/",
          "height": 1000
        },
        "id": "Z7uvpVjZaFdr",
        "outputId": "e7030b2b-4b2f-412f-fb5a-26899c7cf3ff"
      },
      "outputs": [
        {
          "output_type": "stream",
          "name": "stdout",
          "text": [
            "Epoch 1/150\n",
            "885/885 [==============================] - 10s 9ms/step - loss: 0.2225 - accuracy: 0.8275 - val_loss: 0.2734 - val_accuracy: 0.7960 - lr: 0.1000\n",
            "Epoch 2/150\n",
            "885/885 [==============================] - 9s 10ms/step - loss: 0.1971 - accuracy: 0.8410 - val_loss: 0.2548 - val_accuracy: 0.7599 - lr: 0.1000\n",
            "Epoch 3/150\n",
            "885/885 [==============================] - 8s 9ms/step - loss: 0.1851 - accuracy: 0.8450 - val_loss: 0.1829 - val_accuracy: 0.8405 - lr: 0.0999\n",
            "Epoch 4/150\n",
            "885/885 [==============================] - 7s 8ms/step - loss: 0.1751 - accuracy: 0.8454 - val_loss: 0.1927 - val_accuracy: 0.8159 - lr: 0.0998\n",
            "Epoch 5/150\n",
            "885/885 [==============================] - 9s 10ms/step - loss: 0.1653 - accuracy: 0.8459 - val_loss: 0.2152 - val_accuracy: 0.7643 - lr: 0.0996\n",
            "Epoch 6/150\n",
            "885/885 [==============================] - 7s 8ms/step - loss: 0.1579 - accuracy: 0.8468 - val_loss: 0.1936 - val_accuracy: 0.7910 - lr: 0.0994\n",
            "Epoch 7/150\n",
            "885/885 [==============================] - 9s 10ms/step - loss: 0.1505 - accuracy: 0.8475 - val_loss: 0.1644 - val_accuracy: 0.8442 - lr: 0.0991\n",
            "Epoch 8/150\n",
            "885/885 [==============================] - 8s 9ms/step - loss: 0.1444 - accuracy: 0.8470 - val_loss: 0.1633 - val_accuracy: 0.8415 - lr: 0.0988\n",
            "Epoch 9/150\n",
            "885/885 [==============================] - 7s 8ms/step - loss: 0.1387 - accuracy: 0.8481 - val_loss: 0.1821 - val_accuracy: 0.8321 - lr: 0.0984\n",
            "Epoch 10/150\n",
            "885/885 [==============================] - 9s 10ms/step - loss: 0.1346 - accuracy: 0.8483 - val_loss: 0.1392 - val_accuracy: 0.8339 - lr: 0.0980\n",
            "Epoch 11/150\n",
            "885/885 [==============================] - 7s 8ms/step - loss: 0.1310 - accuracy: 0.8474 - val_loss: 0.1628 - val_accuracy: 0.8425 - lr: 0.0976\n",
            "Epoch 12/150\n",
            "885/885 [==============================] - 9s 10ms/step - loss: 0.1282 - accuracy: 0.8472 - val_loss: 0.2530 - val_accuracy: 0.5173 - lr: 0.0971\n",
            "Epoch 13/150\n",
            "885/885 [==============================] - 9s 10ms/step - loss: 0.1269 - accuracy: 0.8467 - val_loss: 0.1368 - val_accuracy: 0.8319 - lr: 0.0965\n",
            "Epoch 14/150\n",
            "885/885 [==============================] - 7s 8ms/step - loss: 0.1268 - accuracy: 0.8450 - val_loss: 0.1329 - val_accuracy: 0.8421 - lr: 0.0959\n",
            "Epoch 15/150\n",
            "885/885 [==============================] - 9s 10ms/step - loss: 0.1275 - accuracy: 0.8452 - val_loss: 0.1374 - val_accuracy: 0.8166 - lr: 0.0953\n",
            "Epoch 16/150\n",
            "885/885 [==============================] - 7s 8ms/step - loss: 0.1255 - accuracy: 0.8465 - val_loss: 0.1332 - val_accuracy: 0.8498 - lr: 0.0946\n",
            "Epoch 17/150\n",
            "885/885 [==============================] - 9s 10ms/step - loss: 0.1239 - accuracy: 0.8465 - val_loss: 0.1640 - val_accuracy: 0.7416 - lr: 0.0939\n",
            "Epoch 18/150\n",
            "885/885 [==============================] - 9s 10ms/step - loss: 0.1227 - accuracy: 0.8466 - val_loss: 0.1394 - val_accuracy: 0.8144 - lr: 0.0931\n",
            "Epoch 19/150\n",
            "885/885 [==============================] - 7s 8ms/step - loss: 0.1223 - accuracy: 0.8462 - val_loss: 0.1314 - val_accuracy: 0.8274 - lr: 0.0923\n",
            "Epoch 20/150\n",
            "885/885 [==============================] - 9s 10ms/step - loss: 0.1203 - accuracy: 0.8462 - val_loss: 0.1274 - val_accuracy: 0.8446 - lr: 0.0914\n",
            "Epoch 21/150\n",
            "885/885 [==============================] - 7s 8ms/step - loss: 0.1202 - accuracy: 0.8466 - val_loss: 0.1257 - val_accuracy: 0.8338 - lr: 0.0905\n",
            "Epoch 22/150\n",
            "885/885 [==============================] - 9s 10ms/step - loss: 0.1190 - accuracy: 0.8467 - val_loss: 0.1442 - val_accuracy: 0.7779 - lr: 0.0896\n",
            "Epoch 23/150\n",
            "885/885 [==============================] - 9s 10ms/step - loss: 0.1172 - accuracy: 0.8460 - val_loss: 0.1254 - val_accuracy: 0.8470 - lr: 0.0886\n",
            "Epoch 24/150\n",
            "885/885 [==============================] - 7s 8ms/step - loss: 0.1158 - accuracy: 0.8460 - val_loss: 0.1461 - val_accuracy: 0.8427 - lr: 0.0876\n",
            "Epoch 25/150\n",
            "885/885 [==============================] - 9s 10ms/step - loss: 0.1164 - accuracy: 0.8456 - val_loss: 0.1871 - val_accuracy: 0.7781 - lr: 0.0866\n",
            "Epoch 26/150\n",
            "885/885 [==============================] - 8s 9ms/step - loss: 0.1126 - accuracy: 0.8447 - val_loss: 0.1323 - val_accuracy: 0.8325 - lr: 0.0855\n",
            "Epoch 27/150\n",
            "885/885 [==============================] - 8s 9ms/step - loss: 0.1139 - accuracy: 0.8451 - val_loss: 0.1242 - val_accuracy: 0.8175 - lr: 0.0844\n",
            "Epoch 28/150\n",
            "885/885 [==============================] - 9s 10ms/step - loss: 0.1125 - accuracy: 0.8475 - val_loss: 0.1190 - val_accuracy: 0.8511 - lr: 0.0832\n",
            "Epoch 29/150\n",
            "885/885 [==============================] - 7s 8ms/step - loss: 0.1124 - accuracy: 0.8477 - val_loss: 0.1180 - val_accuracy: 0.8481 - lr: 0.0821\n",
            "Epoch 30/150\n",
            "885/885 [==============================] - 9s 10ms/step - loss: 0.1095 - accuracy: 0.8483 - val_loss: 0.1325 - val_accuracy: 0.8362 - lr: 0.0808\n",
            "Epoch 31/150\n",
            "885/885 [==============================] - 8s 9ms/step - loss: 0.1096 - accuracy: 0.8483 - val_loss: 0.1643 - val_accuracy: 0.7990 - lr: 0.0796\n",
            "Epoch 32/150\n",
            "885/885 [==============================] - 8s 9ms/step - loss: 0.1093 - accuracy: 0.8487 - val_loss: 0.1262 - val_accuracy: 0.8435 - lr: 0.0783\n",
            "Epoch 33/150\n",
            "885/885 [==============================] - 9s 10ms/step - loss: 0.1121 - accuracy: 0.8471 - val_loss: 0.1258 - val_accuracy: 0.8490 - lr: 0.0770\n",
            "Epoch 34/150\n",
            "885/885 [==============================] - 7s 8ms/step - loss: 0.1107 - accuracy: 0.8483 - val_loss: 0.1447 - val_accuracy: 0.8366 - lr: 0.0757\n",
            "Epoch 35/150\n",
            "885/885 [==============================] - 9s 10ms/step - loss: 0.1102 - accuracy: 0.8471 - val_loss: 0.1225 - val_accuracy: 0.8407 - lr: 0.0743\n",
            "Epoch 36/150\n",
            "885/885 [==============================] - 9s 10ms/step - loss: 0.1084 - accuracy: 0.8484 - val_loss: 0.1199 - val_accuracy: 0.8501 - lr: 0.0730\n",
            "Epoch 37/150\n",
            "885/885 [==============================] - 7s 8ms/step - loss: 0.1084 - accuracy: 0.8467 - val_loss: 0.2216 - val_accuracy: 0.5123 - lr: 0.0716\n",
            "Epoch 38/150\n",
            "885/885 [==============================] - 8s 9ms/step - loss: 0.1080 - accuracy: 0.8477 - val_loss: 0.1166 - val_accuracy: 0.8346 - lr: 0.0702\n",
            "Epoch 39/150\n",
            "885/885 [==============================] - 7s 8ms/step - loss: 0.1070 - accuracy: 0.8484 - val_loss: 0.1104 - val_accuracy: 0.8474 - lr: 0.0687\n",
            "Epoch 40/150\n",
            "885/885 [==============================] - 9s 10ms/step - loss: 0.1083 - accuracy: 0.8502 - val_loss: 0.2258 - val_accuracy: 0.4872 - lr: 0.0673\n",
            "Epoch 41/150\n",
            "885/885 [==============================] - 9s 10ms/step - loss: 0.1072 - accuracy: 0.8494 - val_loss: 0.2160 - val_accuracy: 0.5200 - lr: 0.0658\n",
            "Epoch 42/150\n",
            "885/885 [==============================] - 7s 8ms/step - loss: 0.1075 - accuracy: 0.8493 - val_loss: 0.1249 - val_accuracy: 0.8362 - lr: 0.0643\n",
            "Epoch 43/150\n",
            "885/885 [==============================] - 9s 10ms/step - loss: 0.1109 - accuracy: 0.8469 - val_loss: 0.1998 - val_accuracy: 0.7913 - lr: 0.0628\n",
            "Epoch 44/150\n",
            "885/885 [==============================] - 8s 9ms/step - loss: 0.1087 - accuracy: 0.8477 - val_loss: 0.1600 - val_accuracy: 0.7917 - lr: 0.0613\n",
            "Epoch 45/150\n",
            "885/885 [==============================] - 8s 9ms/step - loss: 0.1101 - accuracy: 0.8463 - val_loss: 0.1258 - val_accuracy: 0.8386 - lr: 0.0598\n",
            "Epoch 46/150\n",
            "885/885 [==============================] - 9s 10ms/step - loss: 0.1083 - accuracy: 0.8469 - val_loss: 0.1273 - val_accuracy: 0.8447 - lr: 0.0582\n",
            "Epoch 47/150\n",
            "885/885 [==============================] - 7s 8ms/step - loss: 0.1073 - accuracy: 0.8472 - val_loss: 0.1194 - val_accuracy: 0.8334 - lr: 0.0567\n",
            "Epoch 48/150\n",
            "885/885 [==============================] - 10s 11ms/step - loss: 0.1069 - accuracy: 0.8479 - val_loss: 0.1189 - val_accuracy: 0.8502 - lr: 0.0552\n",
            "Epoch 49/150\n",
            "885/885 [==============================] - 9s 10ms/step - loss: 0.1069 - accuracy: 0.8472 - val_loss: 0.1097 - val_accuracy: 0.8463 - lr: 0.0536\n",
            "Epoch 50/150\n",
            "885/885 [==============================] - 7s 8ms/step - loss: 0.1063 - accuracy: 0.8488 - val_loss: 0.1335 - val_accuracy: 0.8167 - lr: 0.0521\n",
            "Epoch 51/150\n",
            "885/885 [==============================] - 8s 10ms/step - loss: 0.1062 - accuracy: 0.8479 - val_loss: 0.1243 - val_accuracy: 0.8442 - lr: 0.0505\n",
            "Epoch 52/150\n",
            "885/885 [==============================] - 7s 8ms/step - loss: 0.1063 - accuracy: 0.8485 - val_loss: 0.1167 - val_accuracy: 0.8480 - lr: 0.0489\n",
            "Epoch 53/150\n",
            "885/885 [==============================] - 9s 10ms/step - loss: 0.1057 - accuracy: 0.8492 - val_loss: 0.1447 - val_accuracy: 0.7984 - lr: 0.0474\n",
            "Epoch 54/150\n",
            "885/885 [==============================] - 8s 10ms/step - loss: 0.1062 - accuracy: 0.8486 - val_loss: 0.1601 - val_accuracy: 0.7971 - lr: 0.0458\n",
            "Epoch 55/150\n",
            "885/885 [==============================] - 7s 8ms/step - loss: 0.1089 - accuracy: 0.8454 - val_loss: 0.1227 - val_accuracy: 0.8441 - lr: 0.0443\n",
            "Epoch 56/150\n",
            "885/885 [==============================] - 8s 10ms/step - loss: 0.1067 - accuracy: 0.8464 - val_loss: 0.2202 - val_accuracy: 0.5171 - lr: 0.0428\n",
            "Epoch 57/150\n",
            "885/885 [==============================] - 8s 9ms/step - loss: 0.1066 - accuracy: 0.8477 - val_loss: 0.1380 - val_accuracy: 0.8249 - lr: 0.0412\n",
            "Epoch 58/150\n",
            "885/885 [==============================] - 16s 18ms/step - loss: 0.1088 - accuracy: 0.8471 - val_loss: 0.1225 - val_accuracy: 0.8404 - lr: 0.0397\n",
            "Epoch 59/150\n",
            "885/885 [==============================] - 8s 9ms/step - loss: 0.1068 - accuracy: 0.8482 - val_loss: 0.1189 - val_accuracy: 0.8442 - lr: 0.0382\n",
            "Epoch 60/150\n",
            "885/885 [==============================] - 9s 10ms/step - loss: 0.1065 - accuracy: 0.8479 - val_loss: 0.1255 - val_accuracy: 0.8456 - lr: 0.0367\n",
            "Epoch 61/150\n",
            "885/885 [==============================] - 8s 9ms/step - loss: 0.1059 - accuracy: 0.8466 - val_loss: 0.2575 - val_accuracy: 0.5219 - lr: 0.0352\n",
            "Epoch 62/150\n",
            "885/885 [==============================] - 8s 9ms/step - loss: 0.1052 - accuracy: 0.8483 - val_loss: 0.1070 - val_accuracy: 0.8501 - lr: 0.0337\n",
            "Epoch 63/150\n",
            "885/885 [==============================] - 9s 10ms/step - loss: 0.1051 - accuracy: 0.8478 - val_loss: 0.1331 - val_accuracy: 0.7913 - lr: 0.0323\n",
            "Epoch 64/150\n",
            "885/885 [==============================] - 7s 8ms/step - loss: 0.1048 - accuracy: 0.8476 - val_loss: 0.1563 - val_accuracy: 0.7600 - lr: 0.0308\n",
            "Epoch 65/150\n",
            "885/885 [==============================] - 8s 10ms/step - loss: 0.1043 - accuracy: 0.8485 - val_loss: 0.2651 - val_accuracy: 0.5022 - lr: 0.0294\n",
            "Epoch 66/150\n",
            "885/885 [==============================] - 9s 10ms/step - loss: 0.1043 - accuracy: 0.8478 - val_loss: 0.1259 - val_accuracy: 0.7649 - lr: 0.0280\n",
            "Epoch 67/150\n",
            "885/885 [==============================] - 7s 8ms/step - loss: 0.1042 - accuracy: 0.8488 - val_loss: 0.1124 - val_accuracy: 0.8501 - lr: 0.0267\n",
            "Epoch 68/150\n",
            "885/885 [==============================] - 9s 10ms/step - loss: 0.1041 - accuracy: 0.8491 - val_loss: 0.1833 - val_accuracy: 0.7953 - lr: 0.0253\n",
            "Epoch 69/150\n",
            "885/885 [==============================] - 8s 9ms/step - loss: 0.1034 - accuracy: 0.8488 - val_loss: 0.1121 - val_accuracy: 0.8396 - lr: 0.0240\n",
            "Epoch 70/150\n",
            "885/885 [==============================] - 9s 10ms/step - loss: 0.1034 - accuracy: 0.8485 - val_loss: 0.1166 - val_accuracy: 0.8450 - lr: 0.0227\n",
            "Epoch 71/150\n",
            "885/885 [==============================] - 9s 10ms/step - loss: 0.1034 - accuracy: 0.8490 - val_loss: 0.1125 - val_accuracy: 0.8483 - lr: 0.0214\n",
            "Epoch 72/150\n",
            "885/885 [==============================] - 8s 9ms/step - loss: 0.1033 - accuracy: 0.8477 - val_loss: 0.1134 - val_accuracy: 0.8533 - lr: 0.0202\n",
            "Epoch 73/150\n",
            "885/885 [==============================] - 9s 10ms/step - loss: 0.1029 - accuracy: 0.8483 - val_loss: 0.1748 - val_accuracy: 0.7995 - lr: 0.0189\n",
            "Epoch 74/150\n",
            "885/885 [==============================] - 9s 10ms/step - loss: 0.1027 - accuracy: 0.8483 - val_loss: 0.1218 - val_accuracy: 0.8487 - lr: 0.0178\n",
            "Epoch 75/150\n",
            "885/885 [==============================] - 7s 8ms/step - loss: 0.1029 - accuracy: 0.8481 - val_loss: 0.1124 - val_accuracy: 0.8568 - lr: 0.0166\n",
            "Epoch 76/150\n",
            "885/885 [==============================] - 9s 10ms/step - loss: 0.1023 - accuracy: 0.8497 - val_loss: 0.1707 - val_accuracy: 0.7745 - lr: 0.0155\n",
            "Epoch 77/150\n",
            "885/885 [==============================] - 8s 9ms/step - loss: 0.1024 - accuracy: 0.8485 - val_loss: 0.1277 - val_accuracy: 0.8276 - lr: 0.0144\n",
            "Epoch 78/150\n",
            "885/885 [==============================] - 7s 8ms/step - loss: 0.1021 - accuracy: 0.8493 - val_loss: 0.1259 - val_accuracy: 0.8010 - lr: 0.0134\n",
            "Epoch 79/150\n",
            "885/885 [==============================] - 9s 10ms/step - loss: 0.1019 - accuracy: 0.8494 - val_loss: 0.1273 - val_accuracy: 0.7967 - lr: 0.0124\n",
            "Epoch 80/150\n",
            "885/885 [==============================] - 7s 8ms/step - loss: 0.1019 - accuracy: 0.8495 - val_loss: 0.1360 - val_accuracy: 0.8317 - lr: 0.0114\n",
            "Epoch 81/150\n",
            "885/885 [==============================] - 9s 10ms/step - loss: 0.1018 - accuracy: 0.8496 - val_loss: 0.1025 - val_accuracy: 0.8542 - lr: 0.0105\n",
            "Epoch 82/150\n",
            "885/885 [==============================] - 9s 10ms/step - loss: 0.1015 - accuracy: 0.8492 - val_loss: 0.1475 - val_accuracy: 0.7309 - lr: 0.0096\n",
            "Epoch 83/150\n",
            "885/885 [==============================] - 8s 9ms/step - loss: 0.1018 - accuracy: 0.8500 - val_loss: 0.1060 - val_accuracy: 0.8571 - lr: 0.0087\n",
            "Epoch 84/150\n",
            "885/885 [==============================] - 9s 10ms/step - loss: 0.1016 - accuracy: 0.8489 - val_loss: 0.1098 - val_accuracy: 0.8514 - lr: 0.0079\n",
            "Epoch 85/150\n",
            "885/885 [==============================] - 9s 10ms/step - loss: 0.1014 - accuracy: 0.8500 - val_loss: 0.1197 - val_accuracy: 0.8436 - lr: 0.0071\n",
            "Epoch 86/150\n",
            "885/885 [==============================] - 7s 8ms/step - loss: 0.1012 - accuracy: 0.8502 - val_loss: 0.1038 - val_accuracy: 0.8355 - lr: 0.0064\n",
            "Epoch 87/150\n",
            "885/885 [==============================] - 9s 10ms/step - loss: 0.1012 - accuracy: 0.8497 - val_loss: 0.1172 - val_accuracy: 0.8244 - lr: 0.0057\n",
            "Epoch 88/150\n",
            "885/885 [==============================] - 8s 9ms/step - loss: 0.1010 - accuracy: 0.8497 - val_loss: 0.1129 - val_accuracy: 0.8215 - lr: 0.0051\n",
            "Epoch 89/150\n",
            "885/885 [==============================] - 14s 16ms/step - loss: 0.1009 - accuracy: 0.8494 - val_loss: 0.1418 - val_accuracy: 0.7654 - lr: 0.0045\n",
            "Epoch 90/150\n",
            "885/885 [==============================] - 8s 9ms/step - loss: 0.1010 - accuracy: 0.8503 - val_loss: 0.1028 - val_accuracy: 0.8540 - lr: 0.0039\n",
            "Epoch 91/150\n",
            "885/885 [==============================] - 9s 10ms/step - loss: 0.1007 - accuracy: 0.8507 - val_loss: 0.1085 - val_accuracy: 0.8568 - lr: 0.0034\n",
            "Epoch 92/150\n",
            "885/885 [==============================] - 7s 8ms/step - loss: 0.1007 - accuracy: 0.8505 - val_loss: 0.1122 - val_accuracy: 0.8531 - lr: 0.0030\n",
            "Epoch 93/150\n",
            "885/885 [==============================] - 9s 10ms/step - loss: 0.1006 - accuracy: 0.8500 - val_loss: 0.1075 - val_accuracy: 0.8590 - lr: 0.0026\n",
            "Epoch 94/150\n",
            "885/885 [==============================] - 8s 9ms/step - loss: 0.1004 - accuracy: 0.8507 - val_loss: 0.1020 - val_accuracy: 0.8448 - lr: 0.0022\n",
            "Epoch 95/150\n",
            "885/885 [==============================] - 7s 8ms/step - loss: 0.1005 - accuracy: 0.8504 - val_loss: 0.1153 - val_accuracy: 0.8375 - lr: 0.0019\n",
            "Epoch 96/150\n",
            "885/885 [==============================] - 9s 10ms/step - loss: 0.1005 - accuracy: 0.8497 - val_loss: 0.1045 - val_accuracy: 0.8408 - lr: 0.0016\n",
            "Epoch 97/150\n",
            "885/885 [==============================] - 7s 8ms/step - loss: 0.1003 - accuracy: 0.8507 - val_loss: 0.1027 - val_accuracy: 0.8530 - lr: 0.0014\n",
            "Epoch 98/150\n",
            "885/885 [==============================] - 9s 10ms/step - loss: 0.1001 - accuracy: 0.8506 - val_loss: 0.1037 - val_accuracy: 0.8492 - lr: 0.0012\n",
            "Epoch 99/150\n",
            "885/885 [==============================] - 9s 10ms/step - loss: 0.1003 - accuracy: 0.8502 - val_loss: 0.1242 - val_accuracy: 0.8251 - lr: 0.0011\n",
            "Epoch 100/150\n",
            "885/885 [==============================] - 7s 8ms/step - loss: 0.1004 - accuracy: 0.8505 - val_loss: 0.1014 - val_accuracy: 0.8542 - lr: 0.0010\n",
            "Epoch 101/150\n",
            "885/885 [==============================] - 9s 10ms/step - loss: 0.1004 - accuracy: 0.8511 - val_loss: 0.1012 - val_accuracy: 0.8382 - lr: 0.0010\n",
            "Epoch 102/150\n",
            "885/885 [==============================] - 7s 8ms/step - loss: 0.1002 - accuracy: 0.8509 - val_loss: 0.1015 - val_accuracy: 0.8494 - lr: 0.0010\n",
            "Epoch 103/150\n",
            "885/885 [==============================] - 9s 10ms/step - loss: 0.1003 - accuracy: 0.8507 - val_loss: 0.1047 - val_accuracy: 0.8530 - lr: 0.0011\n",
            "Epoch 104/150\n",
            "885/885 [==============================] - 9s 10ms/step - loss: 0.1002 - accuracy: 0.8502 - val_loss: 0.1006 - val_accuracy: 0.8599 - lr: 0.0012\n",
            "Epoch 105/150\n",
            "885/885 [==============================] - 8s 8ms/step - loss: 0.1000 - accuracy: 0.8513 - val_loss: 0.1018 - val_accuracy: 0.8531 - lr: 0.0014\n",
            "Epoch 106/150\n",
            "885/885 [==============================] - 9s 10ms/step - loss: 0.1003 - accuracy: 0.8504 - val_loss: 0.1081 - val_accuracy: 0.8562 - lr: 0.0016\n",
            "Epoch 107/150\n",
            "885/885 [==============================] - 8s 9ms/step - loss: 0.1003 - accuracy: 0.8503 - val_loss: 0.1058 - val_accuracy: 0.8585 - lr: 0.0019\n",
            "Epoch 108/150\n",
            "885/885 [==============================] - 8s 9ms/step - loss: 0.1002 - accuracy: 0.8509 - val_loss: 0.1008 - val_accuracy: 0.8539 - lr: 0.0022\n",
            "Epoch 109/150\n",
            "885/885 [==============================] - 9s 10ms/step - loss: 0.1003 - accuracy: 0.8507 - val_loss: 0.1090 - val_accuracy: 0.8472 - lr: 0.0026\n",
            "Epoch 110/150\n",
            "885/885 [==============================] - 7s 8ms/step - loss: 0.0999 - accuracy: 0.8516 - val_loss: 0.1100 - val_accuracy: 0.8460 - lr: 0.0030\n",
            "Epoch 111/150\n",
            "885/885 [==============================] - 9s 10ms/step - loss: 0.1002 - accuracy: 0.8498 - val_loss: 0.1615 - val_accuracy: 0.7847 - lr: 0.0034\n",
            "Epoch 112/150\n",
            "885/885 [==============================] - 9s 10ms/step - loss: 0.1002 - accuracy: 0.8504 - val_loss: 0.1046 - val_accuracy: 0.8479 - lr: 0.0039\n",
            "Epoch 113/150\n",
            "885/885 [==============================] - 7s 8ms/step - loss: 0.1000 - accuracy: 0.8511 - val_loss: 0.1050 - val_accuracy: 0.8557 - lr: 0.0045\n",
            "Epoch 114/150\n",
            "885/885 [==============================] - 9s 10ms/step - loss: 0.1002 - accuracy: 0.8509 - val_loss: 0.1127 - val_accuracy: 0.8543 - lr: 0.0051\n",
            "Epoch 115/150\n",
            "885/885 [==============================] - 7s 8ms/step - loss: 0.1002 - accuracy: 0.8505 - val_loss: 0.1024 - val_accuracy: 0.8575 - lr: 0.0057\n",
            "Epoch 116/150\n",
            "885/885 [==============================] - 9s 10ms/step - loss: 0.0999 - accuracy: 0.8522 - val_loss: 0.1184 - val_accuracy: 0.8219 - lr: 0.0064\n",
            "Epoch 117/150\n",
            "885/885 [==============================] - 9s 10ms/step - loss: 0.1011 - accuracy: 0.8501 - val_loss: 0.1061 - val_accuracy: 0.8552 - lr: 0.0071\n",
            "Epoch 118/150\n",
            "885/885 [==============================] - 7s 8ms/step - loss: 0.1019 - accuracy: 0.8489 - val_loss: 0.1169 - val_accuracy: 0.8345 - lr: 0.0079\n",
            "Epoch 119/150\n",
            "885/885 [==============================] - 9s 10ms/step - loss: 0.1015 - accuracy: 0.8499 - val_loss: 0.1022 - val_accuracy: 0.8505 - lr: 0.0087\n",
            "Epoch 120/150\n",
            "885/885 [==============================] - 8s 9ms/step - loss: 0.1016 - accuracy: 0.8494 - val_loss: 0.1014 - val_accuracy: 0.8579 - lr: 0.0096\n",
            "Epoch 121/150\n",
            "885/885 [==============================] - 8s 9ms/step - loss: 0.1019 - accuracy: 0.8501 - val_loss: 0.1071 - val_accuracy: 0.8561 - lr: 0.0105\n",
            "Epoch 122/150\n",
            "885/885 [==============================] - 9s 10ms/step - loss: 0.1014 - accuracy: 0.8500 - val_loss: 0.1199 - val_accuracy: 0.8025 - lr: 0.0114\n",
            "Epoch 123/150\n",
            "885/885 [==============================] - 7s 8ms/step - loss: 0.1014 - accuracy: 0.8492 - val_loss: 0.1012 - val_accuracy: 0.8572 - lr: 0.0124\n",
            "Epoch 124/150\n",
            "885/885 [==============================] - 9s 10ms/step - loss: 0.1016 - accuracy: 0.8495 - val_loss: 0.1038 - val_accuracy: 0.8547 - lr: 0.0134\n",
            "Epoch 125/150\n",
            "885/885 [==============================] - 9s 10ms/step - loss: 0.1021 - accuracy: 0.8488 - val_loss: 0.1212 - val_accuracy: 0.8520 - lr: 0.0144\n",
            "Epoch 126/150\n",
            "885/885 [==============================] - 8s 8ms/step - loss: 0.1017 - accuracy: 0.8505 - val_loss: 0.1271 - val_accuracy: 0.8001 - lr: 0.0155\n",
            "Epoch 127/150\n",
            "885/885 [==============================] - 9s 10ms/step - loss: 0.1017 - accuracy: 0.8504 - val_loss: 0.1026 - val_accuracy: 0.8544 - lr: 0.0166\n",
            "Epoch 128/150\n",
            "885/885 [==============================] - 8s 9ms/step - loss: 0.1016 - accuracy: 0.8503 - val_loss: 0.1028 - val_accuracy: 0.8356 - lr: 0.0178\n",
            "Epoch 129/150\n",
            "885/885 [==============================] - 8s 9ms/step - loss: 0.1020 - accuracy: 0.8494 - val_loss: 0.1108 - val_accuracy: 0.8518 - lr: 0.0189\n",
            "Epoch 130/150\n",
            "885/885 [==============================] - 9s 10ms/step - loss: 0.1018 - accuracy: 0.8495 - val_loss: 0.1123 - val_accuracy: 0.8519 - lr: 0.0202\n",
            "Epoch 131/150\n",
            "885/885 [==============================] - 7s 8ms/step - loss: 0.1019 - accuracy: 0.8493 - val_loss: 0.1135 - val_accuracy: 0.8507 - lr: 0.0214\n",
            "Epoch 132/150\n",
            "885/885 [==============================] - 9s 10ms/step - loss: 0.1016 - accuracy: 0.8493 - val_loss: 0.1041 - val_accuracy: 0.8521 - lr: 0.0227\n",
            "Epoch 133/150\n",
            "885/885 [==============================] - 9s 10ms/step - loss: 0.1016 - accuracy: 0.8494 - val_loss: 0.1180 - val_accuracy: 0.8510 - lr: 0.0240\n",
            "Epoch 134/150\n",
            "885/885 [==============================] - 8s 8ms/step - loss: 0.1015 - accuracy: 0.8498 - val_loss: 0.1066 - val_accuracy: 0.8362 - lr: 0.0253\n",
            "Epoch 135/150\n",
            "885/885 [==============================] - 9s 10ms/step - loss: 0.1016 - accuracy: 0.8486 - val_loss: 0.1257 - val_accuracy: 0.8333 - lr: 0.0267\n",
            "Epoch 136/150\n",
            "885/885 [==============================] - 8s 9ms/step - loss: 0.1011 - accuracy: 0.8496 - val_loss: 0.1276 - val_accuracy: 0.8381 - lr: 0.0280\n",
            "Epoch 137/150\n",
            "885/885 [==============================] - 8s 9ms/step - loss: 0.1052 - accuracy: 0.8475 - val_loss: 0.1745 - val_accuracy: 0.7095 - lr: 0.0294\n",
            "Epoch 138/150\n",
            "885/885 [==============================] - 9s 10ms/step - loss: 0.1039 - accuracy: 0.8486 - val_loss: 0.1426 - val_accuracy: 0.7932 - lr: 0.0308\n",
            "Epoch 139/150\n",
            "885/885 [==============================] - 8s 8ms/step - loss: 0.1045 - accuracy: 0.8497 - val_loss: 0.1475 - val_accuracy: 0.7479 - lr: 0.0323\n",
            "Epoch 140/150\n",
            "885/885 [==============================] - 9s 10ms/step - loss: 0.1041 - accuracy: 0.8484 - val_loss: 0.1945 - val_accuracy: 0.7103 - lr: 0.0337\n",
            "Epoch 141/150\n",
            "885/885 [==============================] - 9s 10ms/step - loss: 0.1030 - accuracy: 0.8491 - val_loss: 0.2168 - val_accuracy: 0.4814 - lr: 0.0352\n",
            "Epoch 142/150\n",
            "885/885 [==============================] - 7s 8ms/step - loss: 0.1035 - accuracy: 0.8491 - val_loss: 0.1084 - val_accuracy: 0.8441 - lr: 0.0367\n",
            "Epoch 143/150\n",
            "885/885 [==============================] - 9s 10ms/step - loss: 0.1029 - accuracy: 0.8490 - val_loss: 0.1241 - val_accuracy: 0.8467 - lr: 0.0382\n",
            "Epoch 144/150\n",
            "885/885 [==============================] - 8s 9ms/step - loss: 0.1027 - accuracy: 0.8502 - val_loss: 0.1468 - val_accuracy: 0.7974 - lr: 0.0397\n",
            "Epoch 145/150\n",
            "885/885 [==============================] - 8s 9ms/step - loss: 0.1027 - accuracy: 0.8485 - val_loss: 0.1210 - val_accuracy: 0.8119 - lr: 0.0412\n",
            "Epoch 146/150\n",
            "885/885 [==============================] - 10s 12ms/step - loss: 0.1026 - accuracy: 0.8490 - val_loss: 0.1299 - val_accuracy: 0.7844 - lr: 0.0428\n",
            "Epoch 147/150\n",
            "885/885 [==============================] - 9s 10ms/step - loss: 0.1025 - accuracy: 0.8481 - val_loss: 0.1874 - val_accuracy: 0.6565 - lr: 0.0443\n",
            "Epoch 148/150\n",
            "885/885 [==============================] - 8s 9ms/step - loss: 0.1024 - accuracy: 0.8489 - val_loss: 0.1351 - val_accuracy: 0.8320 - lr: 0.0458\n",
            "Epoch 149/150\n",
            "885/885 [==============================] - 9s 10ms/step - loss: 0.1022 - accuracy: 0.8490 - val_loss: 0.1228 - val_accuracy: 0.8321 - lr: 0.0474\n",
            "Epoch 150/150\n",
            "885/885 [==============================] - 8s 9ms/step - loss: 0.1023 - accuracy: 0.8492 - val_loss: 0.1471 - val_accuracy: 0.7979 - lr: 0.0489\n"
          ]
        },
        {
          "output_type": "display_data",
          "data": {
            "text/plain": [
              "<Figure size 720x720 with 2 Axes>"
            ],
            "image/png": "[encoded data removed]"
          },
          "metadata": {}
        }
      ],
      "source": [
        "import matplotlib.pyplot as plt\n",
        "\n",
        "# Entrenamos el modelo\n",
        "history= model.fit(x_train, y_train, epochs=150, batch_size=128, \n",
        "                   callbacks=[lr_scheduler], validation_data=(x_test, y_test))\n",
        "\n",
        "accuracy = history.history['accuracy']\n",
        "test_accuracy = history.history['val_accuracy']\n",
        "loss = history.history['loss']\n",
        "test_loss = history.history['val_loss']\n",
        "\n",
        "\n",
        "#Gráfica del ACCURACY y el LOSS en cada epoch\n",
        "fig, axs = plt.subplots(2, 1, figsize=(10, 10))\n",
        "axs[0].plot(accuracy, color='blue', label='Training Accuracy')\n",
        "axs[0].plot(test_accuracy, color='orange', label='Testing Accuracy')\n",
        "axs[0].set_xlabel('Epoch')\n",
        "axs[0].set_ylabel('Accuracy')\n",
        "axs[0].legend(loc='lower right')\n",
        "axs[1].plot(loss, color='blue', label='Training Loss')\n",
        "axs[1].plot(test_loss, color='orange', label='Testing Loss')\n",
        "axs[1].set_xlabel('Epoch')\n",
        "axs[1].set_ylabel('Loss')\n",
        "axs[1].legend(loc='upper right')\n",
        "plt.show()"
      ]
    },
    {
      "cell_type": "code",
      "source": [
        "#Evaluamos el modelo\n",
        "scores = model.evaluate(x_test, y_test)\n",
        "\n",
        "print('Loss: %.3f' % scores[0])\n",
        "print('Accuracy: %.3f' % scores[1])"
      ],
      "metadata": {
        "colab": {
          "base_uri": "https://localhost:8080/"
        },
        "id": "JOxLA1WXAOfF",
        "outputId": "d5df039d-8d10-490f-b4f0-ab183c9dc9dd"
      },
      "execution_count": 79,
      "outputs": [
        {
          "output_type": "stream",
          "name": "stdout",
          "text": [
            "885/885 [==============================] - 2s 3ms/step - loss: 0.1471 - accuracy: 0.7979\n",
            "Loss: 0.147\n",
            "Accuracy: 0.798\n"
          ]
        }
      ]
    }
  ],
  "metadata": {
    "colab": {
      "provenance": []
    },
    "gpuClass": "standard",
    "kernelspec": {
      "display_name": "Python 3",
      "name": "python3"
    },
    "language_info": {
      "name": "python"
    }
  },
  "nbformat": 4,
  "nbformat_minor": 0
}